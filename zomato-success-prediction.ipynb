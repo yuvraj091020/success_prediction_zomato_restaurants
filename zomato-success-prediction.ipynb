{
 "cells": [
  {
   "cell_type": "code",
   "execution_count": 1,
   "id": "54568b1c",
   "metadata": {
    "execution": {
     "iopub.execute_input": "2022-04-18T16:17:31.856845Z",
     "iopub.status.busy": "2022-04-18T16:17:31.856340Z",
     "iopub.status.idle": "2022-04-18T16:17:31.860631Z",
     "shell.execute_reply": "2022-04-18T16:17:31.859989Z"
    },
    "papermill": {
     "duration": 0.143471,
     "end_time": "2022-04-18T16:17:31.863826",
     "exception": false,
     "start_time": "2022-04-18T16:17:31.720355",
     "status": "completed"
    },
    "tags": []
   },
   "outputs": [],
   "source": [
    "# read and manipulate the date\n",
    "# real world raw data (csv file)\n",
    "# cleaning of raw data and data analysis\n",
    "# feature engineering\n",
    "# prediction"
   ]
  },
  {
   "cell_type": "code",
   "execution_count": 2,
   "id": "2ad6acd5",
   "metadata": {
    "execution": {
     "iopub.execute_input": "2022-04-18T16:17:32.132499Z",
     "iopub.status.busy": "2022-04-18T16:17:32.131941Z",
     "iopub.status.idle": "2022-04-18T16:17:33.369493Z",
     "shell.execute_reply": "2022-04-18T16:17:33.368467Z"
    },
    "papermill": {
     "duration": 1.375383,
     "end_time": "2022-04-18T16:17:33.372282",
     "exception": false,
     "start_time": "2022-04-18T16:17:31.996899",
     "status": "completed"
    },
    "tags": []
   },
   "outputs": [],
   "source": [
    "import pandas as pd   # pandas is used for data manipulation, extraction etc...\n",
    "import numpy as np    # for mathematical calculations, mean, median, variance, standard deviation etc... \n",
    "import matplotlib.pyplot as plt  # data visualization library for plotting graphs etc...\n",
    "import seaborn as sns  # advanced data visualization library for exploring and understanding the data..."
   ]
  },
  {
   "cell_type": "code",
   "execution_count": 3,
   "id": "80c68191",
   "metadata": {
    "execution": {
     "iopub.execute_input": "2022-04-18T16:17:33.640563Z",
     "iopub.status.busy": "2022-04-18T16:17:33.640238Z",
     "iopub.status.idle": "2022-04-18T16:17:45.682469Z",
     "shell.execute_reply": "2022-04-18T16:17:45.681522Z"
    },
    "papermill": {
     "duration": 12.178614,
     "end_time": "2022-04-18T16:17:45.685003",
     "exception": false,
     "start_time": "2022-04-18T16:17:33.506389",
     "status": "completed"
    },
    "tags": []
   },
   "outputs": [],
   "source": [
    "df=pd.read_csv('../input/zomato-bangalore-restaurants/zomato.csv')  # to load and read the data of csv file..."
   ]
  },
  {
   "cell_type": "code",
   "execution_count": 4,
   "id": "1851e00d",
   "metadata": {
    "execution": {
     "iopub.execute_input": "2022-04-18T16:17:45.951724Z",
     "iopub.status.busy": "2022-04-18T16:17:45.951433Z",
     "iopub.status.idle": "2022-04-18T16:17:45.981057Z",
     "shell.execute_reply": "2022-04-18T16:17:45.980248Z"
    },
    "papermill": {
     "duration": 0.164013,
     "end_time": "2022-04-18T16:17:45.983133",
     "exception": false,
     "start_time": "2022-04-18T16:17:45.819120",
     "status": "completed"
    },
    "tags": []
   },
   "outputs": [
    {
     "data": {
      "text/html": [
       "<div>\n",
       "<style scoped>\n",
       "    .dataframe tbody tr th:only-of-type {\n",
       "        vertical-align: middle;\n",
       "    }\n",
       "\n",
       "    .dataframe tbody tr th {\n",
       "        vertical-align: top;\n",
       "    }\n",
       "\n",
       "    .dataframe thead th {\n",
       "        text-align: right;\n",
       "    }\n",
       "</style>\n",
       "<table border=\"1\" class=\"dataframe\">\n",
       "  <thead>\n",
       "    <tr style=\"text-align: right;\">\n",
       "      <th></th>\n",
       "      <th>url</th>\n",
       "      <th>address</th>\n",
       "      <th>name</th>\n",
       "      <th>online_order</th>\n",
       "      <th>book_table</th>\n",
       "      <th>rate</th>\n",
       "      <th>votes</th>\n",
       "      <th>phone</th>\n",
       "      <th>location</th>\n",
       "      <th>rest_type</th>\n",
       "      <th>dish_liked</th>\n",
       "      <th>cuisines</th>\n",
       "      <th>approx_cost(for two people)</th>\n",
       "      <th>reviews_list</th>\n",
       "      <th>menu_item</th>\n",
       "      <th>listed_in(type)</th>\n",
       "      <th>listed_in(city)</th>\n",
       "    </tr>\n",
       "  </thead>\n",
       "  <tbody>\n",
       "    <tr>\n",
       "      <th>0</th>\n",
       "      <td>https://www.zomato.com/bangalore/jalsa-banasha...</td>\n",
       "      <td>942, 21st Main Road, 2nd Stage, Banashankari, ...</td>\n",
       "      <td>Jalsa</td>\n",
       "      <td>Yes</td>\n",
       "      <td>Yes</td>\n",
       "      <td>4.1/5</td>\n",
       "      <td>775</td>\n",
       "      <td>080 42297555\\r\\n+91 9743772233</td>\n",
       "      <td>Banashankari</td>\n",
       "      <td>Casual Dining</td>\n",
       "      <td>Pasta, Lunch Buffet, Masala Papad, Paneer Laja...</td>\n",
       "      <td>North Indian, Mughlai, Chinese</td>\n",
       "      <td>800</td>\n",
       "      <td>[('Rated 4.0', 'RATED\\n  A beautiful place to ...</td>\n",
       "      <td>[]</td>\n",
       "      <td>Buffet</td>\n",
       "      <td>Banashankari</td>\n",
       "    </tr>\n",
       "    <tr>\n",
       "      <th>1</th>\n",
       "      <td>https://www.zomato.com/bangalore/spice-elephan...</td>\n",
       "      <td>2nd Floor, 80 Feet Road, Near Big Bazaar, 6th ...</td>\n",
       "      <td>Spice Elephant</td>\n",
       "      <td>Yes</td>\n",
       "      <td>No</td>\n",
       "      <td>4.1/5</td>\n",
       "      <td>787</td>\n",
       "      <td>080 41714161</td>\n",
       "      <td>Banashankari</td>\n",
       "      <td>Casual Dining</td>\n",
       "      <td>Momos, Lunch Buffet, Chocolate Nirvana, Thai G...</td>\n",
       "      <td>Chinese, North Indian, Thai</td>\n",
       "      <td>800</td>\n",
       "      <td>[('Rated 4.0', 'RATED\\n  Had been here for din...</td>\n",
       "      <td>[]</td>\n",
       "      <td>Buffet</td>\n",
       "      <td>Banashankari</td>\n",
       "    </tr>\n",
       "    <tr>\n",
       "      <th>2</th>\n",
       "      <td>https://www.zomato.com/SanchurroBangalore?cont...</td>\n",
       "      <td>1112, Next to KIMS Medical College, 17th Cross...</td>\n",
       "      <td>San Churro Cafe</td>\n",
       "      <td>Yes</td>\n",
       "      <td>No</td>\n",
       "      <td>3.8/5</td>\n",
       "      <td>918</td>\n",
       "      <td>+91 9663487993</td>\n",
       "      <td>Banashankari</td>\n",
       "      <td>Cafe, Casual Dining</td>\n",
       "      <td>Churros, Cannelloni, Minestrone Soup, Hot Choc...</td>\n",
       "      <td>Cafe, Mexican, Italian</td>\n",
       "      <td>800</td>\n",
       "      <td>[('Rated 3.0', \"RATED\\n  Ambience is not that ...</td>\n",
       "      <td>[]</td>\n",
       "      <td>Buffet</td>\n",
       "      <td>Banashankari</td>\n",
       "    </tr>\n",
       "    <tr>\n",
       "      <th>3</th>\n",
       "      <td>https://www.zomato.com/bangalore/addhuri-udupi...</td>\n",
       "      <td>1st Floor, Annakuteera, 3rd Stage, Banashankar...</td>\n",
       "      <td>Addhuri Udupi Bhojana</td>\n",
       "      <td>No</td>\n",
       "      <td>No</td>\n",
       "      <td>3.7/5</td>\n",
       "      <td>88</td>\n",
       "      <td>+91 9620009302</td>\n",
       "      <td>Banashankari</td>\n",
       "      <td>Quick Bites</td>\n",
       "      <td>Masala Dosa</td>\n",
       "      <td>South Indian, North Indian</td>\n",
       "      <td>300</td>\n",
       "      <td>[('Rated 4.0', \"RATED\\n  Great food and proper...</td>\n",
       "      <td>[]</td>\n",
       "      <td>Buffet</td>\n",
       "      <td>Banashankari</td>\n",
       "    </tr>\n",
       "    <tr>\n",
       "      <th>4</th>\n",
       "      <td>https://www.zomato.com/bangalore/grand-village...</td>\n",
       "      <td>10, 3rd Floor, Lakshmi Associates, Gandhi Baza...</td>\n",
       "      <td>Grand Village</td>\n",
       "      <td>No</td>\n",
       "      <td>No</td>\n",
       "      <td>3.8/5</td>\n",
       "      <td>166</td>\n",
       "      <td>+91 8026612447\\r\\n+91 9901210005</td>\n",
       "      <td>Basavanagudi</td>\n",
       "      <td>Casual Dining</td>\n",
       "      <td>Panipuri, Gol Gappe</td>\n",
       "      <td>North Indian, Rajasthani</td>\n",
       "      <td>600</td>\n",
       "      <td>[('Rated 4.0', 'RATED\\n  Very good restaurant ...</td>\n",
       "      <td>[]</td>\n",
       "      <td>Buffet</td>\n",
       "      <td>Banashankari</td>\n",
       "    </tr>\n",
       "  </tbody>\n",
       "</table>\n",
       "</div>"
      ],
      "text/plain": [
       "                                                 url  \\\n",
       "0  https://www.zomato.com/bangalore/jalsa-banasha...   \n",
       "1  https://www.zomato.com/bangalore/spice-elephan...   \n",
       "2  https://www.zomato.com/SanchurroBangalore?cont...   \n",
       "3  https://www.zomato.com/bangalore/addhuri-udupi...   \n",
       "4  https://www.zomato.com/bangalore/grand-village...   \n",
       "\n",
       "                                             address                   name  \\\n",
       "0  942, 21st Main Road, 2nd Stage, Banashankari, ...                  Jalsa   \n",
       "1  2nd Floor, 80 Feet Road, Near Big Bazaar, 6th ...         Spice Elephant   \n",
       "2  1112, Next to KIMS Medical College, 17th Cross...        San Churro Cafe   \n",
       "3  1st Floor, Annakuteera, 3rd Stage, Banashankar...  Addhuri Udupi Bhojana   \n",
       "4  10, 3rd Floor, Lakshmi Associates, Gandhi Baza...          Grand Village   \n",
       "\n",
       "  online_order book_table   rate  votes                             phone  \\\n",
       "0          Yes        Yes  4.1/5    775    080 42297555\\r\\n+91 9743772233   \n",
       "1          Yes         No  4.1/5    787                      080 41714161   \n",
       "2          Yes         No  3.8/5    918                    +91 9663487993   \n",
       "3           No         No  3.7/5     88                    +91 9620009302   \n",
       "4           No         No  3.8/5    166  +91 8026612447\\r\\n+91 9901210005   \n",
       "\n",
       "       location            rest_type  \\\n",
       "0  Banashankari        Casual Dining   \n",
       "1  Banashankari        Casual Dining   \n",
       "2  Banashankari  Cafe, Casual Dining   \n",
       "3  Banashankari          Quick Bites   \n",
       "4  Basavanagudi        Casual Dining   \n",
       "\n",
       "                                          dish_liked  \\\n",
       "0  Pasta, Lunch Buffet, Masala Papad, Paneer Laja...   \n",
       "1  Momos, Lunch Buffet, Chocolate Nirvana, Thai G...   \n",
       "2  Churros, Cannelloni, Minestrone Soup, Hot Choc...   \n",
       "3                                        Masala Dosa   \n",
       "4                                Panipuri, Gol Gappe   \n",
       "\n",
       "                         cuisines approx_cost(for two people)  \\\n",
       "0  North Indian, Mughlai, Chinese                         800   \n",
       "1     Chinese, North Indian, Thai                         800   \n",
       "2          Cafe, Mexican, Italian                         800   \n",
       "3      South Indian, North Indian                         300   \n",
       "4        North Indian, Rajasthani                         600   \n",
       "\n",
       "                                        reviews_list menu_item  \\\n",
       "0  [('Rated 4.0', 'RATED\\n  A beautiful place to ...        []   \n",
       "1  [('Rated 4.0', 'RATED\\n  Had been here for din...        []   \n",
       "2  [('Rated 3.0', \"RATED\\n  Ambience is not that ...        []   \n",
       "3  [('Rated 4.0', \"RATED\\n  Great food and proper...        []   \n",
       "4  [('Rated 4.0', 'RATED\\n  Very good restaurant ...        []   \n",
       "\n",
       "  listed_in(type) listed_in(city)  \n",
       "0          Buffet    Banashankari  \n",
       "1          Buffet    Banashankari  \n",
       "2          Buffet    Banashankari  \n",
       "3          Buffet    Banashankari  \n",
       "4          Buffet    Banashankari  "
      ]
     },
     "execution_count": 4,
     "metadata": {},
     "output_type": "execute_result"
    }
   ],
   "source": [
    "df.head()  # it returns how the data looks like-- first 5 rows of the data frame..."
   ]
  },
  {
   "cell_type": "code",
   "execution_count": 5,
   "id": "f9d51f0b",
   "metadata": {
    "execution": {
     "iopub.execute_input": "2022-04-18T16:17:46.250139Z",
     "iopub.status.busy": "2022-04-18T16:17:46.248528Z",
     "iopub.status.idle": "2022-04-18T16:17:46.255314Z",
     "shell.execute_reply": "2022-04-18T16:17:46.254504Z"
    },
    "papermill": {
     "duration": 0.141218,
     "end_time": "2022-04-18T16:17:46.257169",
     "exception": false,
     "start_time": "2022-04-18T16:17:46.115951",
     "status": "completed"
    },
    "tags": []
   },
   "outputs": [
    {
     "data": {
      "text/plain": [
       "(51717, 17)"
      ]
     },
     "execution_count": 5,
     "metadata": {},
     "output_type": "execute_result"
    }
   ],
   "source": [
    "df.shape  # for total no. of rows and columns..."
   ]
  },
  {
   "cell_type": "code",
   "execution_count": 6,
   "id": "c2b523ef",
   "metadata": {
    "execution": {
     "iopub.execute_input": "2022-04-18T16:17:46.526525Z",
     "iopub.status.busy": "2022-04-18T16:17:46.525796Z",
     "iopub.status.idle": "2022-04-18T16:17:46.530968Z",
     "shell.execute_reply": "2022-04-18T16:17:46.530092Z"
    },
    "papermill": {
     "duration": 0.143689,
     "end_time": "2022-04-18T16:17:46.533133",
     "exception": false,
     "start_time": "2022-04-18T16:17:46.389444",
     "status": "completed"
    },
    "tags": []
   },
   "outputs": [
    {
     "name": "stdout",
     "output_type": "stream",
     "text": [
      "['url', 'address', 'name', 'online_order', 'book_table', 'rate', 'votes', 'phone', 'location', 'rest_type', 'dish_liked', 'cuisines', 'approx_cost(for two people)', 'reviews_list', 'menu_item', 'listed_in(type)', 'listed_in(city)']\n"
     ]
    }
   ],
   "source": [
    "print(list(df.columns))  # list of all the columns of dataset..."
   ]
  },
  {
   "cell_type": "code",
   "execution_count": 7,
   "id": "ecc97b03",
   "metadata": {
    "execution": {
     "iopub.execute_input": "2022-04-18T16:17:46.797702Z",
     "iopub.status.busy": "2022-04-18T16:17:46.796774Z",
     "iopub.status.idle": "2022-04-18T16:17:46.896766Z",
     "shell.execute_reply": "2022-04-18T16:17:46.896072Z"
    },
    "papermill": {
     "duration": 0.234214,
     "end_time": "2022-04-18T16:17:46.898634",
     "exception": false,
     "start_time": "2022-04-18T16:17:46.664420",
     "status": "completed"
    },
    "tags": []
   },
   "outputs": [
    {
     "data": {
      "text/plain": [
       "url                                0\n",
       "address                            0\n",
       "name                               0\n",
       "online_order                       0\n",
       "book_table                         0\n",
       "rate                            7775\n",
       "votes                              0\n",
       "phone                           1208\n",
       "location                          21\n",
       "rest_type                        227\n",
       "dish_liked                     28078\n",
       "cuisines                          45\n",
       "approx_cost(for two people)      346\n",
       "reviews_list                       0\n",
       "menu_item                          0\n",
       "listed_in(type)                    0\n",
       "listed_in(city)                    0\n",
       "dtype: int64"
      ]
     },
     "execution_count": 7,
     "metadata": {},
     "output_type": "execute_result"
    }
   ],
   "source": [
    "df.isnull().sum()  # sum of all the missing values in each and every feature(column)..."
   ]
  },
  {
   "cell_type": "code",
   "execution_count": 8,
   "id": "b7439988",
   "metadata": {
    "execution": {
     "iopub.execute_input": "2022-04-18T16:17:47.164762Z",
     "iopub.status.busy": "2022-04-18T16:17:47.164100Z",
     "iopub.status.idle": "2022-04-18T16:17:47.167445Z",
     "shell.execute_reply": "2022-04-18T16:17:47.166818Z"
    },
    "papermill": {
     "duration": 0.138541,
     "end_time": "2022-04-18T16:17:47.169348",
     "exception": false,
     "start_time": "2022-04-18T16:17:47.030807",
     "status": "completed"
    },
    "tags": []
   },
   "outputs": [],
   "source": [
    "## for all the features that have NAN values..."
   ]
  },
  {
   "cell_type": "code",
   "execution_count": 9,
   "id": "2ff1df76",
   "metadata": {
    "execution": {
     "iopub.execute_input": "2022-04-18T16:17:47.437801Z",
     "iopub.status.busy": "2022-04-18T16:17:47.436759Z",
     "iopub.status.idle": "2022-04-18T16:17:47.547733Z",
     "shell.execute_reply": "2022-04-18T16:17:47.546670Z"
    },
    "papermill": {
     "duration": 0.248385,
     "end_time": "2022-04-18T16:17:47.550446",
     "exception": false,
     "start_time": "2022-04-18T16:17:47.302061",
     "status": "completed"
    },
    "tags": []
   },
   "outputs": [
    {
     "data": {
      "text/plain": [
       "['rate',\n",
       " 'phone',\n",
       " 'location',\n",
       " 'rest_type',\n",
       " 'dish_liked',\n",
       " 'cuisines',\n",
       " 'approx_cost(for two people)']"
      ]
     },
     "execution_count": 9,
     "metadata": {},
     "output_type": "execute_result"
    }
   ],
   "source": [
    "feature_na=[]  # defining the list\n",
    "for feature in df.columns: \n",
    "    if df[feature].isnull().sum()>1: \n",
    "        feature_na.append(feature)  # consider the feature and append each and every feature...\n",
    "feature_na"
   ]
  },
  {
   "cell_type": "code",
   "execution_count": 10,
   "id": "b05458c3",
   "metadata": {
    "execution": {
     "iopub.execute_input": "2022-04-18T16:17:47.818529Z",
     "iopub.status.busy": "2022-04-18T16:17:47.818237Z",
     "iopub.status.idle": "2022-04-18T16:17:47.821865Z",
     "shell.execute_reply": "2022-04-18T16:17:47.821252Z"
    },
    "papermill": {
     "duration": 0.139868,
     "end_time": "2022-04-18T16:17:47.823650",
     "exception": false,
     "start_time": "2022-04-18T16:17:47.683782",
     "status": "completed"
    },
    "tags": []
   },
   "outputs": [],
   "source": [
    "# for each and every feature, what is the percentage of missing values...\n",
    "# inside for loop, created a placeholder, which recieves values from format function"
   ]
  },
  {
   "cell_type": "code",
   "execution_count": 11,
   "id": "ac0255b2",
   "metadata": {
    "execution": {
     "iopub.execute_input": "2022-04-18T16:17:48.097474Z",
     "iopub.status.busy": "2022-04-18T16:17:48.096375Z",
     "iopub.status.idle": "2022-04-18T16:17:48.145447Z",
     "shell.execute_reply": "2022-04-18T16:17:48.144249Z"
    },
    "papermill": {
     "duration": 0.190238,
     "end_time": "2022-04-18T16:17:48.147760",
     "exception": false,
     "start_time": "2022-04-18T16:17:47.957522",
     "status": "completed"
    },
    "tags": []
   },
   "outputs": [
    {
     "name": "stdout",
     "output_type": "stream",
     "text": [
      "rate has 15.0337 % missing values \n",
      "phone has 2.3358 % missing values \n",
      "location has 0.0406 % missing values \n",
      "rest_type has 0.4389 % missing values \n",
      "dish_liked has 54.2916 % missing values \n",
      "cuisines has 0.087 % missing values \n",
      "approx_cost(for two people) has 0.669 % missing values \n"
     ]
    }
   ],
   "source": [
    "for feature in feature_na:\n",
    "    print('{} has {} % missing values '.format(feature,np.round(df[feature].isnull().sum()/len(df)*100,4)))"
   ]
  },
  {
   "cell_type": "code",
   "execution_count": 12,
   "id": "03803d83",
   "metadata": {
    "execution": {
     "iopub.execute_input": "2022-04-18T16:17:48.422889Z",
     "iopub.status.busy": "2022-04-18T16:17:48.422584Z",
     "iopub.status.idle": "2022-04-18T16:17:48.426258Z",
     "shell.execute_reply": "2022-04-18T16:17:48.425221Z"
    },
    "papermill": {
     "duration": 0.140393,
     "end_time": "2022-04-18T16:17:48.428402",
     "exception": false,
     "start_time": "2022-04-18T16:17:48.288009",
     "status": "completed"
    },
    "tags": []
   },
   "outputs": [],
   "source": [
    "## Getting datatypes of features and its overview..."
   ]
  },
  {
   "cell_type": "code",
   "execution_count": 13,
   "id": "247a120e",
   "metadata": {
    "execution": {
     "iopub.execute_input": "2022-04-18T16:17:48.702158Z",
     "iopub.status.busy": "2022-04-18T16:17:48.701784Z",
     "iopub.status.idle": "2022-04-18T16:17:48.816268Z",
     "shell.execute_reply": "2022-04-18T16:17:48.814968Z"
    },
    "papermill": {
     "duration": 0.256565,
     "end_time": "2022-04-18T16:17:48.819055",
     "exception": false,
     "start_time": "2022-04-18T16:17:48.562490",
     "status": "completed"
    },
    "tags": []
   },
   "outputs": [
    {
     "name": "stdout",
     "output_type": "stream",
     "text": [
      "<class 'pandas.core.frame.DataFrame'>\n",
      "RangeIndex: 51717 entries, 0 to 51716\n",
      "Data columns (total 17 columns):\n",
      " #   Column                       Non-Null Count  Dtype \n",
      "---  ------                       --------------  ----- \n",
      " 0   url                          51717 non-null  object\n",
      " 1   address                      51717 non-null  object\n",
      " 2   name                         51717 non-null  object\n",
      " 3   online_order                 51717 non-null  object\n",
      " 4   book_table                   51717 non-null  object\n",
      " 5   rate                         43942 non-null  object\n",
      " 6   votes                        51717 non-null  int64 \n",
      " 7   phone                        50509 non-null  object\n",
      " 8   location                     51696 non-null  object\n",
      " 9   rest_type                    51490 non-null  object\n",
      " 10  dish_liked                   23639 non-null  object\n",
      " 11  cuisines                     51672 non-null  object\n",
      " 12  approx_cost(for two people)  51371 non-null  object\n",
      " 13  reviews_list                 51717 non-null  object\n",
      " 14  menu_item                    51717 non-null  object\n",
      " 15  listed_in(type)              51717 non-null  object\n",
      " 16  listed_in(city)              51717 non-null  object\n",
      "dtypes: int64(1), object(16)\n",
      "memory usage: 6.7+ MB\n"
     ]
    }
   ],
   "source": [
    "df.info()"
   ]
  },
  {
   "cell_type": "code",
   "execution_count": 14,
   "id": "621ed9d8",
   "metadata": {
    "execution": {
     "iopub.execute_input": "2022-04-18T16:17:49.097560Z",
     "iopub.status.busy": "2022-04-18T16:17:49.097287Z",
     "iopub.status.idle": "2022-04-18T16:17:49.101106Z",
     "shell.execute_reply": "2022-04-18T16:17:49.100029Z"
    },
    "papermill": {
     "duration": 0.145249,
     "end_time": "2022-04-18T16:17:49.103090",
     "exception": false,
     "start_time": "2022-04-18T16:17:48.957841",
     "status": "completed"
    },
    "tags": []
   },
   "outputs": [],
   "source": [
    "## Performing data cleaning on approx_cost feature......\n",
    "## cost must be in int or float, so will change its datatype from object to float..."
   ]
  },
  {
   "cell_type": "code",
   "execution_count": 15,
   "id": "abd78462",
   "metadata": {
    "execution": {
     "iopub.execute_input": "2022-04-18T16:17:49.371907Z",
     "iopub.status.busy": "2022-04-18T16:17:49.371126Z",
     "iopub.status.idle": "2022-04-18T16:17:49.384959Z",
     "shell.execute_reply": "2022-04-18T16:17:49.384342Z"
    },
    "papermill": {
     "duration": 0.149867,
     "end_time": "2022-04-18T16:17:49.387043",
     "exception": false,
     "start_time": "2022-04-18T16:17:49.237176",
     "status": "completed"
    },
    "tags": []
   },
   "outputs": [
    {
     "data": {
      "text/plain": [
       "0        False\n",
       "1        False\n",
       "2        False\n",
       "3        False\n",
       "4        False\n",
       "         ...  \n",
       "51712    False\n",
       "51713    False\n",
       "51714    False\n",
       "51715    False\n",
       "51716    False\n",
       "Name: approx_cost(for two people), Length: 51717, dtype: bool"
      ]
     },
     "execution_count": 15,
     "metadata": {},
     "output_type": "execute_result"
    }
   ],
   "source": [
    "df['approx_cost(for two people)'].isnull()  # to check where it exactly contains null value..."
   ]
  },
  {
   "cell_type": "code",
   "execution_count": 16,
   "id": "b441ed03",
   "metadata": {
    "execution": {
     "iopub.execute_input": "2022-04-18T16:17:49.659800Z",
     "iopub.status.busy": "2022-04-18T16:17:49.659211Z",
     "iopub.status.idle": "2022-04-18T16:17:49.695300Z",
     "shell.execute_reply": "2022-04-18T16:17:49.694476Z"
    },
    "papermill": {
     "duration": 0.176349,
     "end_time": "2022-04-18T16:17:49.697912",
     "exception": false,
     "start_time": "2022-04-18T16:17:49.521563",
     "status": "completed"
    },
    "tags": []
   },
   "outputs": [
    {
     "data": {
      "text/html": [
       "<div>\n",
       "<style scoped>\n",
       "    .dataframe tbody tr th:only-of-type {\n",
       "        vertical-align: middle;\n",
       "    }\n",
       "\n",
       "    .dataframe tbody tr th {\n",
       "        vertical-align: top;\n",
       "    }\n",
       "\n",
       "    .dataframe thead th {\n",
       "        text-align: right;\n",
       "    }\n",
       "</style>\n",
       "<table border=\"1\" class=\"dataframe\">\n",
       "  <thead>\n",
       "    <tr style=\"text-align: right;\">\n",
       "      <th></th>\n",
       "      <th>url</th>\n",
       "      <th>address</th>\n",
       "      <th>name</th>\n",
       "      <th>online_order</th>\n",
       "      <th>book_table</th>\n",
       "      <th>rate</th>\n",
       "      <th>votes</th>\n",
       "      <th>phone</th>\n",
       "      <th>location</th>\n",
       "      <th>rest_type</th>\n",
       "      <th>dish_liked</th>\n",
       "      <th>cuisines</th>\n",
       "      <th>approx_cost(for two people)</th>\n",
       "      <th>reviews_list</th>\n",
       "      <th>menu_item</th>\n",
       "      <th>listed_in(type)</th>\n",
       "      <th>listed_in(city)</th>\n",
       "    </tr>\n",
       "  </thead>\n",
       "  <tbody>\n",
       "    <tr>\n",
       "      <th>1662</th>\n",
       "      <td>https://www.zomato.com/bangalore/papa-khan-ras...</td>\n",
       "      <td>6, Abbiah Layout KC Halli Main Road, Bommanaha...</td>\n",
       "      <td>Papa Khan Rasoi</td>\n",
       "      <td>No</td>\n",
       "      <td>No</td>\n",
       "      <td>NaN</td>\n",
       "      <td>0</td>\n",
       "      <td>NaN</td>\n",
       "      <td>NaN</td>\n",
       "      <td>NaN</td>\n",
       "      <td>NaN</td>\n",
       "      <td>NaN</td>\n",
       "      <td>NaN</td>\n",
       "      <td>[]</td>\n",
       "      <td>[]</td>\n",
       "      <td>Delivery</td>\n",
       "      <td>Bannerghatta Road</td>\n",
       "    </tr>\n",
       "    <tr>\n",
       "      <th>1768</th>\n",
       "      <td>https://www.zomato.com/bangalore/innate-jp-nag...</td>\n",
       "      <td>45, 14th Main, 7th phase, Puttehahalli Palya, ...</td>\n",
       "      <td>Innate</td>\n",
       "      <td>No</td>\n",
       "      <td>No</td>\n",
       "      <td>NaN</td>\n",
       "      <td>0</td>\n",
       "      <td>NaN</td>\n",
       "      <td>JP Nagar</td>\n",
       "      <td>Delivery</td>\n",
       "      <td>NaN</td>\n",
       "      <td>Beverages</td>\n",
       "      <td>NaN</td>\n",
       "      <td>[]</td>\n",
       "      <td>[]</td>\n",
       "      <td>Delivery</td>\n",
       "      <td>Bannerghatta Road</td>\n",
       "    </tr>\n",
       "    <tr>\n",
       "      <th>1795</th>\n",
       "      <td>https://www.zomato.com/bangalore/super-chefs-b...</td>\n",
       "      <td>8/3, Opposite Suryadhoya Convention hall, Bann...</td>\n",
       "      <td>Super Chef's (New Royal treat)</td>\n",
       "      <td>No</td>\n",
       "      <td>No</td>\n",
       "      <td>NaN</td>\n",
       "      <td>0</td>\n",
       "      <td>NaN</td>\n",
       "      <td>Bannerghatta Road</td>\n",
       "      <td>Quick Bites</td>\n",
       "      <td>NaN</td>\n",
       "      <td>North Indian, Chinese, South Indian</td>\n",
       "      <td>NaN</td>\n",
       "      <td>[('Rated 1.0', 'RATED\\n  Many items were missi...</td>\n",
       "      <td>[]</td>\n",
       "      <td>Delivery</td>\n",
       "      <td>Bannerghatta Road</td>\n",
       "    </tr>\n",
       "    <tr>\n",
       "      <th>3069</th>\n",
       "      <td>https://www.zomato.com/bangalore/super-chefs-b...</td>\n",
       "      <td>8/3, Opposite Suryadhoya Convention hall, Bann...</td>\n",
       "      <td>Super Chef's (New Royal treat)</td>\n",
       "      <td>No</td>\n",
       "      <td>No</td>\n",
       "      <td>-</td>\n",
       "      <td>0</td>\n",
       "      <td>NaN</td>\n",
       "      <td>Bannerghatta Road</td>\n",
       "      <td>Quick Bites</td>\n",
       "      <td>NaN</td>\n",
       "      <td>North Indian, Chinese, South Indian</td>\n",
       "      <td>NaN</td>\n",
       "      <td>[('Rated 1.0', 'RATED\\n  Many items were missi...</td>\n",
       "      <td>[]</td>\n",
       "      <td>Delivery</td>\n",
       "      <td>Basavanagudi</td>\n",
       "    </tr>\n",
       "    <tr>\n",
       "      <th>3774</th>\n",
       "      <td>https://www.zomato.com/bangalore/the-hub-ibis-...</td>\n",
       "      <td>Ibis Bengaluru, Opposite RMZ Ecospace Business...</td>\n",
       "      <td>The Hub - Ibis Bengaluru</td>\n",
       "      <td>No</td>\n",
       "      <td>No</td>\n",
       "      <td>3.9/5</td>\n",
       "      <td>237</td>\n",
       "      <td>NaN</td>\n",
       "      <td>Marathahalli</td>\n",
       "      <td>Bar</td>\n",
       "      <td>Dal Makhani, Cocktails, Lunch Buffet, Breakfas...</td>\n",
       "      <td>Finger Food</td>\n",
       "      <td>NaN</td>\n",
       "      <td>[('Rated 4.0', 'RATED\\n  The Hub is a small ba...</td>\n",
       "      <td>[]</td>\n",
       "      <td>Buffet</td>\n",
       "      <td>Bellandur</td>\n",
       "    </tr>\n",
       "    <tr>\n",
       "      <th>...</th>\n",
       "      <td>...</td>\n",
       "      <td>...</td>\n",
       "      <td>...</td>\n",
       "      <td>...</td>\n",
       "      <td>...</td>\n",
       "      <td>...</td>\n",
       "      <td>...</td>\n",
       "      <td>...</td>\n",
       "      <td>...</td>\n",
       "      <td>...</td>\n",
       "      <td>...</td>\n",
       "      <td>...</td>\n",
       "      <td>...</td>\n",
       "      <td>...</td>\n",
       "      <td>...</td>\n",
       "      <td>...</td>\n",
       "      <td>...</td>\n",
       "    </tr>\n",
       "    <tr>\n",
       "      <th>50940</th>\n",
       "      <td>https://www.zomato.com/bangalore/cinnabon-whit...</td>\n",
       "      <td>Ground Floor, The Forum Neighborhood Mall, Pre...</td>\n",
       "      <td>Cinnabon</td>\n",
       "      <td>No</td>\n",
       "      <td>No</td>\n",
       "      <td>4.0 /5</td>\n",
       "      <td>80</td>\n",
       "      <td>NaN</td>\n",
       "      <td>Whitefield</td>\n",
       "      <td>Quick Bites</td>\n",
       "      <td>Rolls, Cinnamon Roll, Cinnamon Bun</td>\n",
       "      <td>Beverages, American, Bakery</td>\n",
       "      <td>NaN</td>\n",
       "      <td>[('Rated 4.0', \"RATED\\n  Who else is a Cinnabo...</td>\n",
       "      <td>[]</td>\n",
       "      <td>Desserts</td>\n",
       "      <td>Whitefield</td>\n",
       "    </tr>\n",
       "    <tr>\n",
       "      <th>51233</th>\n",
       "      <td>https://www.zomato.com/bangalore/mayas-kitchen...</td>\n",
       "      <td>43/9, Borewell Rd, Palm Meadows, Nallurhalli, ...</td>\n",
       "      <td>Mayas kitchen</td>\n",
       "      <td>No</td>\n",
       "      <td>No</td>\n",
       "      <td>NaN</td>\n",
       "      <td>0</td>\n",
       "      <td>NaN</td>\n",
       "      <td>Whitefield</td>\n",
       "      <td>Casual Dining</td>\n",
       "      <td>NaN</td>\n",
       "      <td>South Indian, Chinese, Chettinad</td>\n",
       "      <td>NaN</td>\n",
       "      <td>[('Rated 4.0', \"RATED\\n  Food was pretty good,...</td>\n",
       "      <td>[]</td>\n",
       "      <td>Dine-out</td>\n",
       "      <td>Whitefield</td>\n",
       "    </tr>\n",
       "    <tr>\n",
       "      <th>51247</th>\n",
       "      <td>https://www.zomato.com/bangalore/mast-kalandar...</td>\n",
       "      <td>D64, 33, 1st Floor, Sundari Armadale, Next To ...</td>\n",
       "      <td>Mast Kalandar</td>\n",
       "      <td>No</td>\n",
       "      <td>No</td>\n",
       "      <td>2.6 /5</td>\n",
       "      <td>76</td>\n",
       "      <td>NaN</td>\n",
       "      <td>Whitefield</td>\n",
       "      <td>Casual Dining</td>\n",
       "      <td>Gulab Jamun, Lassi, Dal Makhani, Buttermilk, T...</td>\n",
       "      <td>North Indian</td>\n",
       "      <td>NaN</td>\n",
       "      <td>[('Rated 1.0', 'RATED\\n  Terrible food in this...</td>\n",
       "      <td>[]</td>\n",
       "      <td>Dine-out</td>\n",
       "      <td>Whitefield</td>\n",
       "    </tr>\n",
       "    <tr>\n",
       "      <th>51271</th>\n",
       "      <td>https://www.zomato.com/bangalore/karavalli-foo...</td>\n",
       "      <td>N254-107, 1st Main Road, Near ITPL Gate 3, KIA...</td>\n",
       "      <td>Karavalli Food Court</td>\n",
       "      <td>No</td>\n",
       "      <td>No</td>\n",
       "      <td>3.2 /5</td>\n",
       "      <td>4</td>\n",
       "      <td>NaN</td>\n",
       "      <td>Whitefield</td>\n",
       "      <td>Casual Dining</td>\n",
       "      <td>NaN</td>\n",
       "      <td>South Indian</td>\n",
       "      <td>NaN</td>\n",
       "      <td>[('Rated 1.0', 'RATED\\n  i was a regular custo...</td>\n",
       "      <td>[]</td>\n",
       "      <td>Dine-out</td>\n",
       "      <td>Whitefield</td>\n",
       "    </tr>\n",
       "    <tr>\n",
       "      <th>51641</th>\n",
       "      <td>https://www.zomato.com/bangalore/andhra-spices...</td>\n",
       "      <td>188, ITPL Main Road, Brookefields, Bangalore, ...</td>\n",
       "      <td>Andhra Spices</td>\n",
       "      <td>No</td>\n",
       "      <td>No</td>\n",
       "      <td>3.2 /5</td>\n",
       "      <td>4</td>\n",
       "      <td>NaN</td>\n",
       "      <td>Brookefield</td>\n",
       "      <td>Quick Bites</td>\n",
       "      <td>NaN</td>\n",
       "      <td>Andhra, Chinese, South Indian</td>\n",
       "      <td>NaN</td>\n",
       "      <td>[('Rated 2.0', \"RATED\\n  Food is not upto the ...</td>\n",
       "      <td>[]</td>\n",
       "      <td>Dine-out</td>\n",
       "      <td>Whitefield</td>\n",
       "    </tr>\n",
       "  </tbody>\n",
       "</table>\n",
       "<p>346 rows × 17 columns</p>\n",
       "</div>"
      ],
      "text/plain": [
       "                                                     url  \\\n",
       "1662   https://www.zomato.com/bangalore/papa-khan-ras...   \n",
       "1768   https://www.zomato.com/bangalore/innate-jp-nag...   \n",
       "1795   https://www.zomato.com/bangalore/super-chefs-b...   \n",
       "3069   https://www.zomato.com/bangalore/super-chefs-b...   \n",
       "3774   https://www.zomato.com/bangalore/the-hub-ibis-...   \n",
       "...                                                  ...   \n",
       "50940  https://www.zomato.com/bangalore/cinnabon-whit...   \n",
       "51233  https://www.zomato.com/bangalore/mayas-kitchen...   \n",
       "51247  https://www.zomato.com/bangalore/mast-kalandar...   \n",
       "51271  https://www.zomato.com/bangalore/karavalli-foo...   \n",
       "51641  https://www.zomato.com/bangalore/andhra-spices...   \n",
       "\n",
       "                                                 address  \\\n",
       "1662   6, Abbiah Layout KC Halli Main Road, Bommanaha...   \n",
       "1768   45, 14th Main, 7th phase, Puttehahalli Palya, ...   \n",
       "1795   8/3, Opposite Suryadhoya Convention hall, Bann...   \n",
       "3069   8/3, Opposite Suryadhoya Convention hall, Bann...   \n",
       "3774   Ibis Bengaluru, Opposite RMZ Ecospace Business...   \n",
       "...                                                  ...   \n",
       "50940  Ground Floor, The Forum Neighborhood Mall, Pre...   \n",
       "51233  43/9, Borewell Rd, Palm Meadows, Nallurhalli, ...   \n",
       "51247  D64, 33, 1st Floor, Sundari Armadale, Next To ...   \n",
       "51271  N254-107, 1st Main Road, Near ITPL Gate 3, KIA...   \n",
       "51641  188, ITPL Main Road, Brookefields, Bangalore, ...   \n",
       "\n",
       "                                 name online_order book_table    rate  votes  \\\n",
       "1662                  Papa Khan Rasoi           No         No     NaN      0   \n",
       "1768                           Innate           No         No     NaN      0   \n",
       "1795   Super Chef's (New Royal treat)           No         No     NaN      0   \n",
       "3069   Super Chef's (New Royal treat)           No         No       -      0   \n",
       "3774         The Hub - Ibis Bengaluru           No         No   3.9/5    237   \n",
       "...                               ...          ...        ...     ...    ...   \n",
       "50940                        Cinnabon           No         No  4.0 /5     80   \n",
       "51233                   Mayas kitchen           No         No     NaN      0   \n",
       "51247                   Mast Kalandar           No         No  2.6 /5     76   \n",
       "51271            Karavalli Food Court           No         No  3.2 /5      4   \n",
       "51641                   Andhra Spices           No         No  3.2 /5      4   \n",
       "\n",
       "      phone           location      rest_type  \\\n",
       "1662    NaN                NaN            NaN   \n",
       "1768    NaN           JP Nagar       Delivery   \n",
       "1795    NaN  Bannerghatta Road    Quick Bites   \n",
       "3069    NaN  Bannerghatta Road    Quick Bites   \n",
       "3774    NaN       Marathahalli            Bar   \n",
       "...     ...                ...            ...   \n",
       "50940   NaN         Whitefield    Quick Bites   \n",
       "51233   NaN         Whitefield  Casual Dining   \n",
       "51247   NaN         Whitefield  Casual Dining   \n",
       "51271   NaN         Whitefield  Casual Dining   \n",
       "51641   NaN        Brookefield    Quick Bites   \n",
       "\n",
       "                                              dish_liked  \\\n",
       "1662                                                 NaN   \n",
       "1768                                                 NaN   \n",
       "1795                                                 NaN   \n",
       "3069                                                 NaN   \n",
       "3774   Dal Makhani, Cocktails, Lunch Buffet, Breakfas...   \n",
       "...                                                  ...   \n",
       "50940                 Rolls, Cinnamon Roll, Cinnamon Bun   \n",
       "51233                                                NaN   \n",
       "51247  Gulab Jamun, Lassi, Dal Makhani, Buttermilk, T...   \n",
       "51271                                                NaN   \n",
       "51641                                                NaN   \n",
       "\n",
       "                                  cuisines approx_cost(for two people)  \\\n",
       "1662                                   NaN                         NaN   \n",
       "1768                             Beverages                         NaN   \n",
       "1795   North Indian, Chinese, South Indian                         NaN   \n",
       "3069   North Indian, Chinese, South Indian                         NaN   \n",
       "3774                           Finger Food                         NaN   \n",
       "...                                    ...                         ...   \n",
       "50940          Beverages, American, Bakery                         NaN   \n",
       "51233     South Indian, Chinese, Chettinad                         NaN   \n",
       "51247                         North Indian                         NaN   \n",
       "51271                         South Indian                         NaN   \n",
       "51641        Andhra, Chinese, South Indian                         NaN   \n",
       "\n",
       "                                            reviews_list menu_item  \\\n",
       "1662                                                  []        []   \n",
       "1768                                                  []        []   \n",
       "1795   [('Rated 1.0', 'RATED\\n  Many items were missi...        []   \n",
       "3069   [('Rated 1.0', 'RATED\\n  Many items were missi...        []   \n",
       "3774   [('Rated 4.0', 'RATED\\n  The Hub is a small ba...        []   \n",
       "...                                                  ...       ...   \n",
       "50940  [('Rated 4.0', \"RATED\\n  Who else is a Cinnabo...        []   \n",
       "51233  [('Rated 4.0', \"RATED\\n  Food was pretty good,...        []   \n",
       "51247  [('Rated 1.0', 'RATED\\n  Terrible food in this...        []   \n",
       "51271  [('Rated 1.0', 'RATED\\n  i was a regular custo...        []   \n",
       "51641  [('Rated 2.0', \"RATED\\n  Food is not upto the ...        []   \n",
       "\n",
       "      listed_in(type)    listed_in(city)  \n",
       "1662         Delivery  Bannerghatta Road  \n",
       "1768         Delivery  Bannerghatta Road  \n",
       "1795         Delivery  Bannerghatta Road  \n",
       "3069         Delivery       Basavanagudi  \n",
       "3774           Buffet          Bellandur  \n",
       "...               ...                ...  \n",
       "50940        Desserts         Whitefield  \n",
       "51233        Dine-out         Whitefield  \n",
       "51247        Dine-out         Whitefield  \n",
       "51271        Dine-out         Whitefield  \n",
       "51641        Dine-out         Whitefield  \n",
       "\n",
       "[346 rows x 17 columns]"
      ]
     },
     "execution_count": 16,
     "metadata": {},
     "output_type": "execute_result"
    }
   ],
   "source": [
    "df[df['approx_cost(for two people)'].isnull()]  # give all the null values in approx_cost....."
   ]
  },
  {
   "cell_type": "code",
   "execution_count": 17,
   "id": "c2d11aac",
   "metadata": {
    "execution": {
     "iopub.execute_input": "2022-04-18T16:17:49.973844Z",
     "iopub.status.busy": "2022-04-18T16:17:49.973262Z",
     "iopub.status.idle": "2022-04-18T16:17:49.977090Z",
     "shell.execute_reply": "2022-04-18T16:17:49.976333Z"
    },
    "papermill": {
     "duration": 0.145257,
     "end_time": "2022-04-18T16:17:49.979158",
     "exception": false,
     "start_time": "2022-04-18T16:17:49.833901",
     "status": "completed"
    },
    "tags": []
   },
   "outputs": [],
   "source": [
    "# to check if there is any special character...\n",
    "# comma(,)-- becoz of (,), it is an object datatype..."
   ]
  },
  {
   "cell_type": "code",
   "execution_count": 18,
   "id": "afdc3a19",
   "metadata": {
    "execution": {
     "iopub.execute_input": "2022-04-18T16:17:50.253274Z",
     "iopub.status.busy": "2022-04-18T16:17:50.252696Z",
     "iopub.status.idle": "2022-04-18T16:17:50.263745Z",
     "shell.execute_reply": "2022-04-18T16:17:50.262943Z"
    },
    "papermill": {
     "duration": 0.150392,
     "end_time": "2022-04-18T16:17:50.265777",
     "exception": false,
     "start_time": "2022-04-18T16:17:50.115385",
     "status": "completed"
    },
    "tags": []
   },
   "outputs": [
    {
     "data": {
      "text/plain": [
       "array(['800', '300', '600', '700', '550', '500', '450', '650', '400',\n",
       "       '900', '200', '750', '150', '850', '100', '1,200', '350', '250',\n",
       "       '950', '1,000', '1,500', '1,300', '199', '80', '1,100', '160',\n",
       "       '1,600', '230', '130', '50', '190', '1,700', nan, '1,400', '180',\n",
       "       '1,350', '2,200', '2,000', '1,800', '1,900', '330', '2,500',\n",
       "       '2,100', '3,000', '2,800', '3,400', '40', '1,250', '3,500',\n",
       "       '4,000', '2,400', '2,600', '120', '1,450', '469', '70', '3,200',\n",
       "       '60', '560', '240', '360', '6,000', '1,050', '2,300', '4,100',\n",
       "       '5,000', '3,700', '1,650', '2,700', '4,500', '140'], dtype=object)"
      ]
     },
     "execution_count": 18,
     "metadata": {},
     "output_type": "execute_result"
    }
   ],
   "source": [
    "df['approx_cost(for two people)'].unique()"
   ]
  },
  {
   "cell_type": "code",
   "execution_count": 19,
   "id": "c79685a7",
   "metadata": {
    "execution": {
     "iopub.execute_input": "2022-04-18T16:17:50.541379Z",
     "iopub.status.busy": "2022-04-18T16:17:50.540792Z",
     "iopub.status.idle": "2022-04-18T16:17:50.544594Z",
     "shell.execute_reply": "2022-04-18T16:17:50.543947Z"
    },
    "papermill": {
     "duration": 0.143368,
     "end_time": "2022-04-18T16:17:50.546570",
     "exception": false,
     "start_time": "2022-04-18T16:17:50.403202",
     "status": "completed"
    },
    "tags": []
   },
   "outputs": [],
   "source": [
    "# using lambda function, replacing (,) with ('')"
   ]
  },
  {
   "cell_type": "code",
   "execution_count": 20,
   "id": "ae45335b",
   "metadata": {
    "execution": {
     "iopub.execute_input": "2022-04-18T16:17:50.819761Z",
     "iopub.status.busy": "2022-04-18T16:17:50.819474Z",
     "iopub.status.idle": "2022-04-18T16:17:50.845274Z",
     "shell.execute_reply": "2022-04-18T16:17:50.844292Z"
    },
    "papermill": {
     "duration": 0.165065,
     "end_time": "2022-04-18T16:17:50.847737",
     "exception": false,
     "start_time": "2022-04-18T16:17:50.682672",
     "status": "completed"
    },
    "tags": []
   },
   "outputs": [
    {
     "data": {
      "text/plain": [
       "0         800\n",
       "1         800\n",
       "2         800\n",
       "3         300\n",
       "4         600\n",
       "         ... \n",
       "51712    1500\n",
       "51713     600\n",
       "51714    2000\n",
       "51715    2500\n",
       "51716    1500\n",
       "Name: approx_cost(for two people), Length: 51717, dtype: object"
      ]
     },
     "execution_count": 20,
     "metadata": {},
     "output_type": "execute_result"
    }
   ],
   "source": [
    "df['approx_cost(for two people)'].astype(str).apply(lambda x:x.replace(',',''))"
   ]
  },
  {
   "cell_type": "code",
   "execution_count": 21,
   "id": "61392759",
   "metadata": {
    "execution": {
     "iopub.execute_input": "2022-04-18T16:17:51.135057Z",
     "iopub.status.busy": "2022-04-18T16:17:51.134458Z",
     "iopub.status.idle": "2022-04-18T16:17:51.157880Z",
     "shell.execute_reply": "2022-04-18T16:17:51.157133Z"
    },
    "papermill": {
     "duration": 0.171204,
     "end_time": "2022-04-18T16:17:51.160263",
     "exception": false,
     "start_time": "2022-04-18T16:17:50.989059",
     "status": "completed"
    },
    "tags": []
   },
   "outputs": [],
   "source": [
    "df['approx_cost(for two people)']=df['approx_cost(for two people)'].astype(str).apply(lambda x:x.replace(',',''))"
   ]
  },
  {
   "cell_type": "code",
   "execution_count": 22,
   "id": "e2043813",
   "metadata": {
    "execution": {
     "iopub.execute_input": "2022-04-18T16:17:51.445650Z",
     "iopub.status.busy": "2022-04-18T16:17:51.445047Z",
     "iopub.status.idle": "2022-04-18T16:17:51.472971Z",
     "shell.execute_reply": "2022-04-18T16:17:51.472111Z"
    },
    "papermill": {
     "duration": 0.174977,
     "end_time": "2022-04-18T16:17:51.475442",
     "exception": false,
     "start_time": "2022-04-18T16:17:51.300465",
     "status": "completed"
    },
    "tags": []
   },
   "outputs": [],
   "source": [
    "df['approx_cost(for two people)']=df['approx_cost(for two people)'].astype(float)"
   ]
  },
  {
   "cell_type": "code",
   "execution_count": 23,
   "id": "c9044c69",
   "metadata": {
    "execution": {
     "iopub.execute_input": "2022-04-18T16:17:51.754370Z",
     "iopub.status.busy": "2022-04-18T16:17:51.753683Z",
     "iopub.status.idle": "2022-04-18T16:17:51.760156Z",
     "shell.execute_reply": "2022-04-18T16:17:51.759294Z"
    },
    "papermill": {
     "duration": 0.148813,
     "end_time": "2022-04-18T16:17:51.762335",
     "exception": false,
     "start_time": "2022-04-18T16:17:51.613522",
     "status": "completed"
    },
    "tags": []
   },
   "outputs": [
    {
     "data": {
      "text/plain": [
       "dtype('float64')"
      ]
     },
     "execution_count": 23,
     "metadata": {},
     "output_type": "execute_result"
    }
   ],
   "source": [
    "df['approx_cost(for two people)'].dtype  # converted into float..."
   ]
  },
  {
   "cell_type": "code",
   "execution_count": 24,
   "id": "c77e9278",
   "metadata": {
    "execution": {
     "iopub.execute_input": "2022-04-18T16:17:52.042555Z",
     "iopub.status.busy": "2022-04-18T16:17:52.041711Z",
     "iopub.status.idle": "2022-04-18T16:17:52.045559Z",
     "shell.execute_reply": "2022-04-18T16:17:52.044590Z"
    },
    "papermill": {
     "duration": 0.147033,
     "end_time": "2022-04-18T16:17:52.047561",
     "exception": false,
     "start_time": "2022-04-18T16:17:51.900528",
     "status": "completed"
    },
    "tags": []
   },
   "outputs": [],
   "source": [
    "# Clean the rate column...\n",
    "# rating is out of 5 star, so we need to remove the '/5' and clean the feature...\n",
    "# due to NAN and special characters, it is an object data type...(convert in float)"
   ]
  },
  {
   "cell_type": "code",
   "execution_count": 25,
   "id": "f26b75df",
   "metadata": {
    "execution": {
     "iopub.execute_input": "2022-04-18T16:17:52.328383Z",
     "iopub.status.busy": "2022-04-18T16:17:52.327627Z",
     "iopub.status.idle": "2022-04-18T16:17:52.338916Z",
     "shell.execute_reply": "2022-04-18T16:17:52.338037Z"
    },
    "papermill": {
     "duration": 0.15321,
     "end_time": "2022-04-18T16:17:52.341067",
     "exception": false,
     "start_time": "2022-04-18T16:17:52.187857",
     "status": "completed"
    },
    "tags": []
   },
   "outputs": [
    {
     "data": {
      "text/plain": [
       "array(['4.1/5', '3.8/5', '3.7/5', '3.6/5', '4.6/5', '4.0/5', '4.2/5',\n",
       "       '3.9/5', '3.1/5', '3.0/5', '3.2/5', '3.3/5', '2.8/5', '4.4/5',\n",
       "       '4.3/5', 'NEW', '2.9/5', '3.5/5', nan, '2.6/5', '3.8 /5', '3.4/5',\n",
       "       '4.5/5', '2.5/5', '2.7/5', '4.7/5', '2.4/5', '2.2/5', '2.3/5',\n",
       "       '3.4 /5', '-', '3.6 /5', '4.8/5', '3.9 /5', '4.2 /5', '4.0 /5',\n",
       "       '4.1 /5', '3.7 /5', '3.1 /5', '2.9 /5', '3.3 /5', '2.8 /5',\n",
       "       '3.5 /5', '2.7 /5', '2.5 /5', '3.2 /5', '2.6 /5', '4.5 /5',\n",
       "       '4.3 /5', '4.4 /5', '4.9/5', '2.1/5', '2.0/5', '1.8/5', '4.6 /5',\n",
       "       '4.9 /5', '3.0 /5', '4.8 /5', '2.3 /5', '4.7 /5', '2.4 /5',\n",
       "       '2.1 /5', '2.2 /5', '2.0 /5', '1.8 /5'], dtype=object)"
      ]
     },
     "execution_count": 25,
     "metadata": {},
     "output_type": "execute_result"
    }
   ],
   "source": [
    "df['rate'].unique()"
   ]
  },
  {
   "cell_type": "code",
   "execution_count": 26,
   "id": "141925f6",
   "metadata": {
    "execution": {
     "iopub.execute_input": "2022-04-18T16:17:52.641761Z",
     "iopub.status.busy": "2022-04-18T16:17:52.640954Z",
     "iopub.status.idle": "2022-04-18T16:17:52.656979Z",
     "shell.execute_reply": "2022-04-18T16:17:52.656070Z"
    },
    "papermill": {
     "duration": 0.176997,
     "end_time": "2022-04-18T16:17:52.659204",
     "exception": false,
     "start_time": "2022-04-18T16:17:52.482207",
     "status": "completed"
    },
    "tags": []
   },
   "outputs": [
    {
     "data": {
      "text/plain": [
       "7775"
      ]
     },
     "execution_count": 26,
     "metadata": {},
     "output_type": "execute_result"
    }
   ],
   "source": [
    "df['rate'].isnull().sum()"
   ]
  },
  {
   "cell_type": "code",
   "execution_count": 27,
   "id": "9eec0d25",
   "metadata": {
    "execution": {
     "iopub.execute_input": "2022-04-18T16:17:52.951443Z",
     "iopub.status.busy": "2022-04-18T16:17:52.950801Z",
     "iopub.status.idle": "2022-04-18T16:17:52.954645Z",
     "shell.execute_reply": "2022-04-18T16:17:52.953483Z"
    },
    "papermill": {
     "duration": 0.147571,
     "end_time": "2022-04-18T16:17:52.956861",
     "exception": false,
     "start_time": "2022-04-18T16:17:52.809290",
     "status": "completed"
    },
    "tags": []
   },
   "outputs": [],
   "source": [
    "# split function to split the value in two parts from '/' and only have the first part..."
   ]
  },
  {
   "cell_type": "code",
   "execution_count": 28,
   "id": "acae9ea4",
   "metadata": {
    "execution": {
     "iopub.execute_input": "2022-04-18T16:17:53.242332Z",
     "iopub.status.busy": "2022-04-18T16:17:53.242009Z",
     "iopub.status.idle": "2022-04-18T16:17:53.246473Z",
     "shell.execute_reply": "2022-04-18T16:17:53.245528Z"
    },
    "papermill": {
     "duration": 0.147412,
     "end_time": "2022-04-18T16:17:53.248486",
     "exception": false,
     "start_time": "2022-04-18T16:17:53.101074",
     "status": "completed"
    },
    "tags": []
   },
   "outputs": [],
   "source": [
    "def split(x):\n",
    "    return x.split('/')[0]"
   ]
  },
  {
   "cell_type": "code",
   "execution_count": 29,
   "id": "7756a18d",
   "metadata": {
    "execution": {
     "iopub.execute_input": "2022-04-18T16:17:53.528056Z",
     "iopub.status.busy": "2022-04-18T16:17:53.527569Z",
     "iopub.status.idle": "2022-04-18T16:17:53.559147Z",
     "shell.execute_reply": "2022-04-18T16:17:53.558132Z"
    },
    "papermill": {
     "duration": 0.174198,
     "end_time": "2022-04-18T16:17:53.561570",
     "exception": false,
     "start_time": "2022-04-18T16:17:53.387372",
     "status": "completed"
    },
    "tags": []
   },
   "outputs": [],
   "source": [
    "df['rate']=df['rate'].astype(str).apply(split)"
   ]
  },
  {
   "cell_type": "code",
   "execution_count": 30,
   "id": "3d277769",
   "metadata": {
    "execution": {
     "iopub.execute_input": "2022-04-18T16:17:53.850438Z",
     "iopub.status.busy": "2022-04-18T16:17:53.849816Z",
     "iopub.status.idle": "2022-04-18T16:17:53.859724Z",
     "shell.execute_reply": "2022-04-18T16:17:53.859074Z"
    },
    "papermill": {
     "duration": 0.153748,
     "end_time": "2022-04-18T16:17:53.861600",
     "exception": false,
     "start_time": "2022-04-18T16:17:53.707852",
     "status": "completed"
    },
    "tags": []
   },
   "outputs": [
    {
     "data": {
      "text/plain": [
       "array(['4.1', '3.8', '3.7', '3.6', '4.6', '4.0', '4.2', '3.9', '3.1',\n",
       "       '3.0', '3.2', '3.3', '2.8', '4.4', '4.3', 'NEW', '2.9', '3.5',\n",
       "       'nan', '2.6', '3.8 ', '3.4', '4.5', '2.5', '2.7', '4.7', '2.4',\n",
       "       '2.2', '2.3', '3.4 ', '-', '3.6 ', '4.8', '3.9 ', '4.2 ', '4.0 ',\n",
       "       '4.1 ', '3.7 ', '3.1 ', '2.9 ', '3.3 ', '2.8 ', '3.5 ', '2.7 ',\n",
       "       '2.5 ', '3.2 ', '2.6 ', '4.5 ', '4.3 ', '4.4 ', '4.9', '2.1',\n",
       "       '2.0', '1.8', '4.6 ', '4.9 ', '3.0 ', '4.8 ', '2.3 ', '4.7 ',\n",
       "       '2.4 ', '2.1 ', '2.2 ', '2.0 ', '1.8 '], dtype=object)"
      ]
     },
     "execution_count": 30,
     "metadata": {},
     "output_type": "execute_result"
    }
   ],
   "source": [
    "df['rate'].unique()  # got all the values after splitting..."
   ]
  },
  {
   "cell_type": "code",
   "execution_count": 31,
   "id": "88cafa61",
   "metadata": {
    "execution": {
     "iopub.execute_input": "2022-04-18T16:17:54.159497Z",
     "iopub.status.busy": "2022-04-18T16:17:54.159186Z",
     "iopub.status.idle": "2022-04-18T16:17:54.163258Z",
     "shell.execute_reply": "2022-04-18T16:17:54.162264Z"
    },
    "papermill": {
     "duration": 0.156057,
     "end_time": "2022-04-18T16:17:54.165198",
     "exception": false,
     "start_time": "2022-04-18T16:17:54.009141",
     "status": "completed"
    },
    "tags": []
   },
   "outputs": [],
   "source": [
    "# remove NEW and - also..."
   ]
  },
  {
   "cell_type": "code",
   "execution_count": 32,
   "id": "cbea9217",
   "metadata": {
    "execution": {
     "iopub.execute_input": "2022-04-18T16:17:54.447382Z",
     "iopub.status.busy": "2022-04-18T16:17:54.447073Z",
     "iopub.status.idle": "2022-04-18T16:17:54.458848Z",
     "shell.execute_reply": "2022-04-18T16:17:54.457850Z"
    },
    "papermill": {
     "duration": 0.15421,
     "end_time": "2022-04-18T16:17:54.460856",
     "exception": false,
     "start_time": "2022-04-18T16:17:54.306646",
     "status": "completed"
    },
    "tags": []
   },
   "outputs": [],
   "source": [
    "df['rate'].replace('-',0,inplace=True)\n",
    "df['rate'].replace('NEW',0,inplace=True)"
   ]
  },
  {
   "cell_type": "code",
   "execution_count": 33,
   "id": "57a82e9e",
   "metadata": {
    "execution": {
     "iopub.execute_input": "2022-04-18T16:17:54.740087Z",
     "iopub.status.busy": "2022-04-18T16:17:54.739761Z",
     "iopub.status.idle": "2022-04-18T16:17:54.771304Z",
     "shell.execute_reply": "2022-04-18T16:17:54.770509Z"
    },
    "papermill": {
     "duration": 0.173764,
     "end_time": "2022-04-18T16:17:54.773539",
     "exception": false,
     "start_time": "2022-04-18T16:17:54.599775",
     "status": "completed"
    },
    "tags": []
   },
   "outputs": [],
   "source": [
    "df['rate']=df['rate'].astype(float)  # converting into float..."
   ]
  },
  {
   "cell_type": "code",
   "execution_count": 34,
   "id": "027b1a16",
   "metadata": {
    "execution": {
     "iopub.execute_input": "2022-04-18T16:17:55.059835Z",
     "iopub.status.busy": "2022-04-18T16:17:55.059247Z",
     "iopub.status.idle": "2022-04-18T16:17:55.065795Z",
     "shell.execute_reply": "2022-04-18T16:17:55.064952Z"
    },
    "papermill": {
     "duration": 0.153617,
     "end_time": "2022-04-18T16:17:55.067853",
     "exception": false,
     "start_time": "2022-04-18T16:17:54.914236",
     "status": "completed"
    },
    "tags": []
   },
   "outputs": [
    {
     "data": {
      "text/plain": [
       "dtype('float64')"
      ]
     },
     "execution_count": 34,
     "metadata": {},
     "output_type": "execute_result"
    }
   ],
   "source": [
    "df['rate'].dtype  # rate feature converted into float data type..."
   ]
  },
  {
   "cell_type": "code",
   "execution_count": 35,
   "id": "e621c282",
   "metadata": {
    "execution": {
     "iopub.execute_input": "2022-04-18T16:17:55.352927Z",
     "iopub.status.busy": "2022-04-18T16:17:55.352300Z",
     "iopub.status.idle": "2022-04-18T16:17:55.356368Z",
     "shell.execute_reply": "2022-04-18T16:17:55.355656Z"
    },
    "papermill": {
     "duration": 0.151905,
     "end_time": "2022-04-18T16:17:55.358452",
     "exception": false,
     "start_time": "2022-04-18T16:17:55.206547",
     "status": "completed"
    },
    "tags": []
   },
   "outputs": [],
   "source": [
    "## Analyze the categories of restaurants..."
   ]
  },
  {
   "cell_type": "code",
   "execution_count": 36,
   "id": "57a125bb",
   "metadata": {
    "execution": {
     "iopub.execute_input": "2022-04-18T16:17:55.651514Z",
     "iopub.status.busy": "2022-04-18T16:17:55.650965Z",
     "iopub.status.idle": "2022-04-18T16:17:55.667371Z",
     "shell.execute_reply": "2022-04-18T16:17:55.666587Z"
    },
    "papermill": {
     "duration": 0.163935,
     "end_time": "2022-04-18T16:17:55.669405",
     "exception": false,
     "start_time": "2022-04-18T16:17:55.505470",
     "status": "completed"
    },
    "tags": []
   },
   "outputs": [
    {
     "data": {
      "text/plain": [
       "Quick Bites                   19132\n",
       "Casual Dining                 10330\n",
       "Cafe                           3732\n",
       "Delivery                       2604\n",
       "Dessert Parlor                 2263\n",
       "                              ...  \n",
       "Dessert Parlor, Kiosk             2\n",
       "Food Court, Beverage Shop         2\n",
       "Dessert Parlor, Food Court        2\n",
       "Sweet Shop, Dessert Parlor        1\n",
       "Quick Bites, Kiosk                1\n",
       "Name: rest_type, Length: 93, dtype: int64"
      ]
     },
     "execution_count": 36,
     "metadata": {},
     "output_type": "execute_result"
    }
   ],
   "source": [
    "df['rest_type'].value_counts()  # accessing the types and quantity of restaurants..."
   ]
  },
  {
   "cell_type": "code",
   "execution_count": 37,
   "id": "4f117879",
   "metadata": {
    "execution": {
     "iopub.execute_input": "2022-04-18T16:17:55.955046Z",
     "iopub.status.busy": "2022-04-18T16:17:55.954499Z",
     "iopub.status.idle": "2022-04-18T16:17:55.958345Z",
     "shell.execute_reply": "2022-04-18T16:17:55.957738Z"
    },
    "papermill": {
     "duration": 0.149401,
     "end_time": "2022-04-18T16:17:55.960378",
     "exception": false,
     "start_time": "2022-04-18T16:17:55.810977",
     "status": "completed"
    },
    "tags": []
   },
   "outputs": [],
   "source": [
    "# to plot these rest_type features..."
   ]
  },
  {
   "cell_type": "code",
   "execution_count": 38,
   "id": "ab67a4b8",
   "metadata": {
    "execution": {
     "iopub.execute_input": "2022-04-18T16:17:56.246042Z",
     "iopub.status.busy": "2022-04-18T16:17:56.245723Z",
     "iopub.status.idle": "2022-04-18T16:17:56.613780Z",
     "shell.execute_reply": "2022-04-18T16:17:56.612765Z"
    },
    "papermill": {
     "duration": 0.51252,
     "end_time": "2022-04-18T16:17:56.616380",
     "exception": false,
     "start_time": "2022-04-18T16:17:56.103860",
     "status": "completed"
    },
    "tags": []
   },
   "outputs": [
    {
     "data": {
      "text/plain": [
       "<AxesSubplot:>"
      ]
     },
     "execution_count": 38,
     "metadata": {},
     "output_type": "execute_result"
    },
    {
     "data": {
      "image/png": "[encoded data removed]",
      "text/plain": [
       "<Figure size 1080x576 with 1 Axes>"
      ]
     },
     "metadata": {
      "needs_background": "light"
     },
     "output_type": "display_data"
    }
   ],
   "source": [
    "plt.figure(figsize=(15,8))  # to set width and height...\n",
    "df['rest_type'].value_counts().nlargest(20).plot.bar(color='red')  # for top 20 entries..."
   ]
  },
  {
   "cell_type": "code",
   "execution_count": 39,
   "id": "5fb6eab3",
   "metadata": {
    "execution": {
     "iopub.execute_input": "2022-04-18T16:17:56.904411Z",
     "iopub.status.busy": "2022-04-18T16:17:56.904004Z",
     "iopub.status.idle": "2022-04-18T16:17:56.908402Z",
     "shell.execute_reply": "2022-04-18T16:17:56.907237Z"
    },
    "papermill": {
     "duration": 0.150868,
     "end_time": "2022-04-18T16:17:56.910657",
     "exception": false,
     "start_time": "2022-04-18T16:17:56.759789",
     "status": "completed"
    },
    "tags": []
   },
   "outputs": [],
   "source": [
    "# for summarizing these insights, created a function....\n",
    "# Quick Bites and Casual Dining are dominating over other restaurants..."
   ]
  },
  {
   "cell_type": "code",
   "execution_count": 40,
   "id": "71aaef24",
   "metadata": {
    "execution": {
     "iopub.execute_input": "2022-04-18T16:17:57.199703Z",
     "iopub.status.busy": "2022-04-18T16:17:57.198699Z",
     "iopub.status.idle": "2022-04-18T16:17:57.203431Z",
     "shell.execute_reply": "2022-04-18T16:17:57.202790Z"
    },
    "papermill": {
     "duration": 0.152114,
     "end_time": "2022-04-18T16:17:57.205451",
     "exception": false,
     "start_time": "2022-04-18T16:17:57.053337",
     "status": "completed"
    },
    "tags": []
   },
   "outputs": [],
   "source": [
    "def mark(x):\n",
    "    if x in ('Quick Bites','Casual Dining'):\n",
    "        return 'Quick Bites + Casual Dining'\n",
    "    else:\n",
    "        return 'others'    "
   ]
  },
  {
   "cell_type": "code",
   "execution_count": 41,
   "id": "5f5cbb44",
   "metadata": {
    "execution": {
     "iopub.execute_input": "2022-04-18T16:17:57.493505Z",
     "iopub.status.busy": "2022-04-18T16:17:57.492582Z",
     "iopub.status.idle": "2022-04-18T16:17:57.513052Z",
     "shell.execute_reply": "2022-04-18T16:17:57.512070Z"
    },
    "papermill": {
     "duration": 0.168395,
     "end_time": "2022-04-18T16:17:57.515490",
     "exception": false,
     "start_time": "2022-04-18T16:17:57.347095",
     "status": "completed"
    },
    "tags": []
   },
   "outputs": [],
   "source": [
    "df['Top_types']=df['rest_type'].apply(mark)  # applied mark func. at top of rest_type feature and stored the values in Top_types..."
   ]
  },
  {
   "cell_type": "code",
   "execution_count": 42,
   "id": "b0b05aab",
   "metadata": {
    "execution": {
     "iopub.execute_input": "2022-04-18T16:17:57.807041Z",
     "iopub.status.busy": "2022-04-18T16:17:57.806348Z",
     "iopub.status.idle": "2022-04-18T16:17:57.827315Z",
     "shell.execute_reply": "2022-04-18T16:17:57.826611Z"
    },
    "papermill": {
     "duration": 0.172002,
     "end_time": "2022-04-18T16:17:57.829240",
     "exception": false,
     "start_time": "2022-04-18T16:17:57.657238",
     "status": "completed"
    },
    "tags": []
   },
   "outputs": [
    {
     "data": {
      "text/html": [
       "<div>\n",
       "<style scoped>\n",
       "    .dataframe tbody tr th:only-of-type {\n",
       "        vertical-align: middle;\n",
       "    }\n",
       "\n",
       "    .dataframe tbody tr th {\n",
       "        vertical-align: top;\n",
       "    }\n",
       "\n",
       "    .dataframe thead th {\n",
       "        text-align: right;\n",
       "    }\n",
       "</style>\n",
       "<table border=\"1\" class=\"dataframe\">\n",
       "  <thead>\n",
       "    <tr style=\"text-align: right;\">\n",
       "      <th></th>\n",
       "      <th>url</th>\n",
       "      <th>address</th>\n",
       "      <th>name</th>\n",
       "      <th>online_order</th>\n",
       "      <th>book_table</th>\n",
       "      <th>rate</th>\n",
       "      <th>votes</th>\n",
       "      <th>phone</th>\n",
       "      <th>location</th>\n",
       "      <th>rest_type</th>\n",
       "      <th>dish_liked</th>\n",
       "      <th>cuisines</th>\n",
       "      <th>approx_cost(for two people)</th>\n",
       "      <th>reviews_list</th>\n",
       "      <th>menu_item</th>\n",
       "      <th>listed_in(type)</th>\n",
       "      <th>listed_in(city)</th>\n",
       "      <th>Top_types</th>\n",
       "    </tr>\n",
       "  </thead>\n",
       "  <tbody>\n",
       "    <tr>\n",
       "      <th>0</th>\n",
       "      <td>https://www.zomato.com/bangalore/jalsa-banasha...</td>\n",
       "      <td>942, 21st Main Road, 2nd Stage, Banashankari, ...</td>\n",
       "      <td>Jalsa</td>\n",
       "      <td>Yes</td>\n",
       "      <td>Yes</td>\n",
       "      <td>4.1</td>\n",
       "      <td>775</td>\n",
       "      <td>080 42297555\\r\\n+91 9743772233</td>\n",
       "      <td>Banashankari</td>\n",
       "      <td>Casual Dining</td>\n",
       "      <td>Pasta, Lunch Buffet, Masala Papad, Paneer Laja...</td>\n",
       "      <td>North Indian, Mughlai, Chinese</td>\n",
       "      <td>800.0</td>\n",
       "      <td>[('Rated 4.0', 'RATED\\n  A beautiful place to ...</td>\n",
       "      <td>[]</td>\n",
       "      <td>Buffet</td>\n",
       "      <td>Banashankari</td>\n",
       "      <td>Quick Bites + Casual Dining</td>\n",
       "    </tr>\n",
       "    <tr>\n",
       "      <th>1</th>\n",
       "      <td>https://www.zomato.com/bangalore/spice-elephan...</td>\n",
       "      <td>2nd Floor, 80 Feet Road, Near Big Bazaar, 6th ...</td>\n",
       "      <td>Spice Elephant</td>\n",
       "      <td>Yes</td>\n",
       "      <td>No</td>\n",
       "      <td>4.1</td>\n",
       "      <td>787</td>\n",
       "      <td>080 41714161</td>\n",
       "      <td>Banashankari</td>\n",
       "      <td>Casual Dining</td>\n",
       "      <td>Momos, Lunch Buffet, Chocolate Nirvana, Thai G...</td>\n",
       "      <td>Chinese, North Indian, Thai</td>\n",
       "      <td>800.0</td>\n",
       "      <td>[('Rated 4.0', 'RATED\\n  Had been here for din...</td>\n",
       "      <td>[]</td>\n",
       "      <td>Buffet</td>\n",
       "      <td>Banashankari</td>\n",
       "      <td>Quick Bites + Casual Dining</td>\n",
       "    </tr>\n",
       "    <tr>\n",
       "      <th>2</th>\n",
       "      <td>https://www.zomato.com/SanchurroBangalore?cont...</td>\n",
       "      <td>1112, Next to KIMS Medical College, 17th Cross...</td>\n",
       "      <td>San Churro Cafe</td>\n",
       "      <td>Yes</td>\n",
       "      <td>No</td>\n",
       "      <td>3.8</td>\n",
       "      <td>918</td>\n",
       "      <td>+91 9663487993</td>\n",
       "      <td>Banashankari</td>\n",
       "      <td>Cafe, Casual Dining</td>\n",
       "      <td>Churros, Cannelloni, Minestrone Soup, Hot Choc...</td>\n",
       "      <td>Cafe, Mexican, Italian</td>\n",
       "      <td>800.0</td>\n",
       "      <td>[('Rated 3.0', \"RATED\\n  Ambience is not that ...</td>\n",
       "      <td>[]</td>\n",
       "      <td>Buffet</td>\n",
       "      <td>Banashankari</td>\n",
       "      <td>others</td>\n",
       "    </tr>\n",
       "    <tr>\n",
       "      <th>3</th>\n",
       "      <td>https://www.zomato.com/bangalore/addhuri-udupi...</td>\n",
       "      <td>1st Floor, Annakuteera, 3rd Stage, Banashankar...</td>\n",
       "      <td>Addhuri Udupi Bhojana</td>\n",
       "      <td>No</td>\n",
       "      <td>No</td>\n",
       "      <td>3.7</td>\n",
       "      <td>88</td>\n",
       "      <td>+91 9620009302</td>\n",
       "      <td>Banashankari</td>\n",
       "      <td>Quick Bites</td>\n",
       "      <td>Masala Dosa</td>\n",
       "      <td>South Indian, North Indian</td>\n",
       "      <td>300.0</td>\n",
       "      <td>[('Rated 4.0', \"RATED\\n  Great food and proper...</td>\n",
       "      <td>[]</td>\n",
       "      <td>Buffet</td>\n",
       "      <td>Banashankari</td>\n",
       "      <td>Quick Bites + Casual Dining</td>\n",
       "    </tr>\n",
       "    <tr>\n",
       "      <th>4</th>\n",
       "      <td>https://www.zomato.com/bangalore/grand-village...</td>\n",
       "      <td>10, 3rd Floor, Lakshmi Associates, Gandhi Baza...</td>\n",
       "      <td>Grand Village</td>\n",
       "      <td>No</td>\n",
       "      <td>No</td>\n",
       "      <td>3.8</td>\n",
       "      <td>166</td>\n",
       "      <td>+91 8026612447\\r\\n+91 9901210005</td>\n",
       "      <td>Basavanagudi</td>\n",
       "      <td>Casual Dining</td>\n",
       "      <td>Panipuri, Gol Gappe</td>\n",
       "      <td>North Indian, Rajasthani</td>\n",
       "      <td>600.0</td>\n",
       "      <td>[('Rated 4.0', 'RATED\\n  Very good restaurant ...</td>\n",
       "      <td>[]</td>\n",
       "      <td>Buffet</td>\n",
       "      <td>Banashankari</td>\n",
       "      <td>Quick Bites + Casual Dining</td>\n",
       "    </tr>\n",
       "  </tbody>\n",
       "</table>\n",
       "</div>"
      ],
      "text/plain": [
       "                                                 url  \\\n",
       "0  https://www.zomato.com/bangalore/jalsa-banasha...   \n",
       "1  https://www.zomato.com/bangalore/spice-elephan...   \n",
       "2  https://www.zomato.com/SanchurroBangalore?cont...   \n",
       "3  https://www.zomato.com/bangalore/addhuri-udupi...   \n",
       "4  https://www.zomato.com/bangalore/grand-village...   \n",
       "\n",
       "                                             address                   name  \\\n",
       "0  942, 21st Main Road, 2nd Stage, Banashankari, ...                  Jalsa   \n",
       "1  2nd Floor, 80 Feet Road, Near Big Bazaar, 6th ...         Spice Elephant   \n",
       "2  1112, Next to KIMS Medical College, 17th Cross...        San Churro Cafe   \n",
       "3  1st Floor, Annakuteera, 3rd Stage, Banashankar...  Addhuri Udupi Bhojana   \n",
       "4  10, 3rd Floor, Lakshmi Associates, Gandhi Baza...          Grand Village   \n",
       "\n",
       "  online_order book_table  rate  votes                             phone  \\\n",
       "0          Yes        Yes   4.1    775    080 42297555\\r\\n+91 9743772233   \n",
       "1          Yes         No   4.1    787                      080 41714161   \n",
       "2          Yes         No   3.8    918                    +91 9663487993   \n",
       "3           No         No   3.7     88                    +91 9620009302   \n",
       "4           No         No   3.8    166  +91 8026612447\\r\\n+91 9901210005   \n",
       "\n",
       "       location            rest_type  \\\n",
       "0  Banashankari        Casual Dining   \n",
       "1  Banashankari        Casual Dining   \n",
       "2  Banashankari  Cafe, Casual Dining   \n",
       "3  Banashankari          Quick Bites   \n",
       "4  Basavanagudi        Casual Dining   \n",
       "\n",
       "                                          dish_liked  \\\n",
       "0  Pasta, Lunch Buffet, Masala Papad, Paneer Laja...   \n",
       "1  Momos, Lunch Buffet, Chocolate Nirvana, Thai G...   \n",
       "2  Churros, Cannelloni, Minestrone Soup, Hot Choc...   \n",
       "3                                        Masala Dosa   \n",
       "4                                Panipuri, Gol Gappe   \n",
       "\n",
       "                         cuisines  approx_cost(for two people)  \\\n",
       "0  North Indian, Mughlai, Chinese                        800.0   \n",
       "1     Chinese, North Indian, Thai                        800.0   \n",
       "2          Cafe, Mexican, Italian                        800.0   \n",
       "3      South Indian, North Indian                        300.0   \n",
       "4        North Indian, Rajasthani                        600.0   \n",
       "\n",
       "                                        reviews_list menu_item  \\\n",
       "0  [('Rated 4.0', 'RATED\\n  A beautiful place to ...        []   \n",
       "1  [('Rated 4.0', 'RATED\\n  Had been here for din...        []   \n",
       "2  [('Rated 3.0', \"RATED\\n  Ambience is not that ...        []   \n",
       "3  [('Rated 4.0', \"RATED\\n  Great food and proper...        []   \n",
       "4  [('Rated 4.0', 'RATED\\n  Very good restaurant ...        []   \n",
       "\n",
       "  listed_in(type) listed_in(city)                    Top_types  \n",
       "0          Buffet    Banashankari  Quick Bites + Casual Dining  \n",
       "1          Buffet    Banashankari  Quick Bites + Casual Dining  \n",
       "2          Buffet    Banashankari                       others  \n",
       "3          Buffet    Banashankari  Quick Bites + Casual Dining  \n",
       "4          Buffet    Banashankari  Quick Bites + Casual Dining  "
      ]
     },
     "execution_count": 42,
     "metadata": {},
     "output_type": "execute_result"
    }
   ],
   "source": [
    "df.head()"
   ]
  },
  {
   "cell_type": "code",
   "execution_count": 43,
   "id": "445cf3a3",
   "metadata": {
    "execution": {
     "iopub.execute_input": "2022-04-18T16:17:58.118164Z",
     "iopub.status.busy": "2022-04-18T16:17:58.117838Z",
     "iopub.status.idle": "2022-04-18T16:17:59.642394Z",
     "shell.execute_reply": "2022-04-18T16:17:59.641369Z"
    },
    "papermill": {
     "duration": 1.671817,
     "end_time": "2022-04-18T16:17:59.644832",
     "exception": false,
     "start_time": "2022-04-18T16:17:57.973015",
     "status": "completed"
    },
    "tags": []
   },
   "outputs": [],
   "source": [
    "import plotly.express as px  # advance data visualization library used for generating deployment level visuals..."
   ]
  },
  {
   "cell_type": "code",
   "execution_count": 44,
   "id": "942105b3",
   "metadata": {
    "execution": {
     "iopub.execute_input": "2022-04-18T16:17:59.959697Z",
     "iopub.status.busy": "2022-04-18T16:17:59.959361Z",
     "iopub.status.idle": "2022-04-18T16:17:59.971169Z",
     "shell.execute_reply": "2022-04-18T16:17:59.970390Z"
    },
    "papermill": {
     "duration": 0.170525,
     "end_time": "2022-04-18T16:17:59.973196",
     "exception": false,
     "start_time": "2022-04-18T16:17:59.802671",
     "status": "completed"
    },
    "tags": []
   },
   "outputs": [],
   "source": [
    "values=df['Top_types'].value_counts().values  # values of pie chart..."
   ]
  },
  {
   "cell_type": "code",
   "execution_count": 45,
   "id": "762743a6",
   "metadata": {
    "execution": {
     "iopub.execute_input": "2022-04-18T16:18:00.273413Z",
     "iopub.status.busy": "2022-04-18T16:18:00.273099Z",
     "iopub.status.idle": "2022-04-18T16:18:00.284184Z",
     "shell.execute_reply": "2022-04-18T16:18:00.283464Z"
    },
    "papermill": {
     "duration": 0.160349,
     "end_time": "2022-04-18T16:18:00.286264",
     "exception": false,
     "start_time": "2022-04-18T16:18:00.125915",
     "status": "completed"
    },
    "tags": []
   },
   "outputs": [],
   "source": [
    "labels=df['Top_types'].value_counts().index  # labels of pie chart..."
   ]
  },
  {
   "cell_type": "code",
   "execution_count": 46,
   "id": "d968f71d",
   "metadata": {
    "execution": {
     "iopub.execute_input": "2022-04-18T16:18:00.577804Z",
     "iopub.status.busy": "2022-04-18T16:18:00.576803Z",
     "iopub.status.idle": "2022-04-18T16:18:00.580673Z",
     "shell.execute_reply": "2022-04-18T16:18:00.580063Z"
    },
    "papermill": {
     "duration": 0.152034,
     "end_time": "2022-04-18T16:18:00.582604",
     "exception": false,
     "start_time": "2022-04-18T16:18:00.430570",
     "status": "completed"
    },
    "tags": []
   },
   "outputs": [],
   "source": [
    "# for pie chart, need data frame, names(labels) and values..."
   ]
  },
  {
   "cell_type": "code",
   "execution_count": 47,
   "id": "0beb083f",
   "metadata": {
    "execution": {
     "iopub.execute_input": "2022-04-18T16:18:00.883091Z",
     "iopub.status.busy": "2022-04-18T16:18:00.882608Z",
     "iopub.status.idle": "2022-04-18T16:18:02.072145Z",
     "shell.execute_reply": "2022-04-18T16:18:02.071381Z"
    },
    "papermill": {
     "duration": 1.341494,
     "end_time": "2022-04-18T16:18:02.074547",
     "exception": false,
     "start_time": "2022-04-18T16:18:00.733053",
     "status": "completed"
    },
    "tags": []
   },
   "outputs": [
    {
     "data": {
      "text/html": [
       "        <script type=\"text/javascript\">\n",
       "        window.PlotlyConfig = {MathJaxConfig: 'local'};\n",
       "        if (window.MathJax) {MathJax.Hub.Config({SVG: {font: \"STIX-Web\"}});}\n",
       "        if (typeof require !== 'undefined') {\n",
       "        require.undef(\"plotly\");\n",
       "        requirejs.config({\n",
       "            paths: {\n",
       "                'plotly': ['https://cdn.plot.ly/plotly-2.11.1.min']\n",
       "            }\n",
       "        });\n",
       "        require(['plotly'], function(Plotly) {\n",
       "            window._Plotly = Plotly;\n",
       "        });\n",
       "        }\n",
       "        </script>\n",
       "        "
      ]
     },
     "metadata": {},
     "output_type": "display_data"
    },
    {
     "data": {
      "text/html": [
       "<div>                            <div id=\"ec432ebd-f6c9-4b03-b268-dacb1cbdc428\" class=\"plotly-graph-div\" style=\"height:525px; width:100%;\"></div>            <script type=\"text/javascript\">                require([\"plotly\"], function(Plotly) {                    window.PLOTLYENV=window.PLOTLYENV || {};                                    if (document.getElementById(\"ec432ebd-f6c9-4b03-b268-dacb1cbdc428\")) {                    Plotly.newPlot(                        \"ec432ebd-f6c9-4b03-b268-dacb1cbdc428\",                        [{\"domain\":{\"x\":[0.0,1.0],\"y\":[0.0,1.0]},\"hovertemplate\":\"label=%{label}<br>value=%{value}<extra></extra>\",\"labels\":[\"Quick Bites + Casual Dining\",\"others\"],\"legendgroup\":\"\",\"name\":\"\",\"showlegend\":true,\"values\":[29462,22255],\"type\":\"pie\"}],                        {\"template\":{\"data\":{\"histogram2dcontour\":[{\"type\":\"histogram2dcontour\",\"colorbar\":{\"outlinewidth\":0,\"ticks\":\"\"},\"colorscale\":[[0.0,\"#0d0887\"],[0.1111111111111111,\"#46039f\"],[0.2222222222222222,\"#7201a8\"],[0.3333333333333333,\"#9c179e\"],[0.4444444444444444,\"#bd3786\"],[0.5555555555555556,\"#d8576b\"],[0.6666666666666666,\"#ed7953\"],[0.7777777777777778,\"#fb9f3a\"],[0.8888888888888888,\"#fdca26\"],[1.0,\"#f0f921\"]]}],\"choropleth\":[{\"type\":\"choropleth\",\"colorbar\":{\"outlinewidth\":0,\"ticks\":\"\"}}],\"histogram2d\":[{\"type\":\"histogram2d\",\"colorbar\":{\"outlinewidth\":0,\"ticks\":\"\"},\"colorscale\":[[0.0,\"#0d0887\"],[0.1111111111111111,\"#46039f\"],[0.2222222222222222,\"#7201a8\"],[0.3333333333333333,\"#9c179e\"],[0.4444444444444444,\"#bd3786\"],[0.5555555555555556,\"#d8576b\"],[0.6666666666666666,\"#ed7953\"],[0.7777777777777778,\"#fb9f3a\"],[0.8888888888888888,\"#fdca26\"],[1.0,\"#f0f921\"]]}],\"heatmap\":[{\"type\":\"heatmap\",\"colorbar\":{\"outlinewidth\":0,\"ticks\":\"\"},\"colorscale\":[[0.0,\"#0d0887\"],[0.1111111111111111,\"#46039f\"],[0.2222222222222222,\"#7201a8\"],[0.3333333333333333,\"#9c179e\"],[0.4444444444444444,\"#bd3786\"],[0.5555555555555556,\"#d8576b\"],[0.6666666666666666,\"#ed7953\"],[0.7777777777777778,\"#fb9f3a\"],[0.8888888888888888,\"#fdca26\"],[1.0,\"#f0f921\"]]}],\"heatmapgl\":[{\"type\":\"heatmapgl\",\"colorbar\":{\"outlinewidth\":0,\"ticks\":\"\"},\"colorscale\":[[0.0,\"#0d0887\"],[0.1111111111111111,\"#46039f\"],[0.2222222222222222,\"#7201a8\"],[0.3333333333333333,\"#9c179e\"],[0.4444444444444444,\"#bd3786\"],[0.5555555555555556,\"#d8576b\"],[0.6666666666666666,\"#ed7953\"],[0.7777777777777778,\"#fb9f3a\"],[0.8888888888888888,\"#fdca26\"],[1.0,\"#f0f921\"]]}],\"contourcarpet\":[{\"type\":\"contourcarpet\",\"colorbar\":{\"outlinewidth\":0,\"ticks\":\"\"}}],\"contour\":[{\"type\":\"contour\",\"colorbar\":{\"outlinewidth\":0,\"ticks\":\"\"},\"colorscale\":[[0.0,\"#0d0887\"],[0.1111111111111111,\"#46039f\"],[0.2222222222222222,\"#7201a8\"],[0.3333333333333333,\"#9c179e\"],[0.4444444444444444,\"#bd3786\"],[0.5555555555555556,\"#d8576b\"],[0.6666666666666666,\"#ed7953\"],[0.7777777777777778,\"#fb9f3a\"],[0.8888888888888888,\"#fdca26\"],[1.0,\"#f0f921\"]]}],\"surface\":[{\"type\":\"surface\",\"colorbar\":{\"outlinewidth\":0,\"ticks\":\"\"},\"colorscale\":[[0.0,\"#0d0887\"],[0.1111111111111111,\"#46039f\"],[0.2222222222222222,\"#7201a8\"],[0.3333333333333333,\"#9c179e\"],[0.4444444444444444,\"#bd3786\"],[0.5555555555555556,\"#d8576b\"],[0.6666666666666666,\"#ed7953\"],[0.7777777777777778,\"#fb9f3a\"],[0.8888888888888888,\"#fdca26\"],[1.0,\"#f0f921\"]]}],\"mesh3d\":[{\"type\":\"mesh3d\",\"colorbar\":{\"outlinewidth\":0,\"ticks\":\"\"}}],\"scatter\":[{\"fillpattern\":{\"fillmode\":\"overlay\",\"size\":10,\"solidity\":0.2},\"type\":\"scatter\"}],\"parcoords\":[{\"type\":\"parcoords\",\"line\":{\"colorbar\":{\"outlinewidth\":0,\"ticks\":\"\"}}}],\"scatterpolargl\":[{\"type\":\"scatterpolargl\",\"marker\":{\"colorbar\":{\"outlinewidth\":0,\"ticks\":\"\"}}}],\"bar\":[{\"error_x\":{\"color\":\"#2a3f5f\"},\"error_y\":{\"color\":\"#2a3f5f\"},\"marker\":{\"line\":{\"color\":\"#E5ECF6\",\"width\":0.5},\"pattern\":{\"fillmode\":\"overlay\",\"size\":10,\"solidity\":0.2}},\"type\":\"bar\"}],\"scattergeo\":[{\"type\":\"scattergeo\",\"marker\":{\"colorbar\":{\"outlinewidth\":0,\"ticks\":\"\"}}}],\"scatterpolar\":[{\"type\":\"scatterpolar\",\"marker\":{\"colorbar\":{\"outlinewidth\":0,\"ticks\":\"\"}}}],\"histogram\":[{\"marker\":{\"pattern\":{\"fillmode\":\"overlay\",\"size\":10,\"solidity\":0.2}},\"type\":\"histogram\"}],\"scattergl\":[{\"type\":\"scattergl\",\"marker\":{\"colorbar\":{\"outlinewidth\":0,\"ticks\":\"\"}}}],\"scatter3d\":[{\"type\":\"scatter3d\",\"line\":{\"colorbar\":{\"outlinewidth\":0,\"ticks\":\"\"}},\"marker\":{\"colorbar\":{\"outlinewidth\":0,\"ticks\":\"\"}}}],\"scattermapbox\":[{\"type\":\"scattermapbox\",\"marker\":{\"colorbar\":{\"outlinewidth\":0,\"ticks\":\"\"}}}],\"scatterternary\":[{\"type\":\"scatterternary\",\"marker\":{\"colorbar\":{\"outlinewidth\":0,\"ticks\":\"\"}}}],\"scattercarpet\":[{\"type\":\"scattercarpet\",\"marker\":{\"colorbar\":{\"outlinewidth\":0,\"ticks\":\"\"}}}],\"carpet\":[{\"aaxis\":{\"endlinecolor\":\"#2a3f5f\",\"gridcolor\":\"white\",\"linecolor\":\"white\",\"minorgridcolor\":\"white\",\"startlinecolor\":\"#2a3f5f\"},\"baxis\":{\"endlinecolor\":\"#2a3f5f\",\"gridcolor\":\"white\",\"linecolor\":\"white\",\"minorgridcolor\":\"white\",\"startlinecolor\":\"#2a3f5f\"},\"type\":\"carpet\"}],\"table\":[{\"cells\":{\"fill\":{\"color\":\"#EBF0F8\"},\"line\":{\"color\":\"white\"}},\"header\":{\"fill\":{\"color\":\"#C8D4E3\"},\"line\":{\"color\":\"white\"}},\"type\":\"table\"}],\"barpolar\":[{\"marker\":{\"line\":{\"color\":\"#E5ECF6\",\"width\":0.5},\"pattern\":{\"fillmode\":\"overlay\",\"size\":10,\"solidity\":0.2}},\"type\":\"barpolar\"}],\"pie\":[{\"automargin\":true,\"type\":\"pie\"}]},\"layout\":{\"autotypenumbers\":\"strict\",\"colorway\":[\"#636efa\",\"#EF553B\",\"#00cc96\",\"#ab63fa\",\"#FFA15A\",\"#19d3f3\",\"#FF6692\",\"#B6E880\",\"#FF97FF\",\"#FECB52\"],\"font\":{\"color\":\"#2a3f5f\"},\"hovermode\":\"closest\",\"hoverlabel\":{\"align\":\"left\"},\"paper_bgcolor\":\"white\",\"plot_bgcolor\":\"#E5ECF6\",\"polar\":{\"bgcolor\":\"#E5ECF6\",\"angularaxis\":{\"gridcolor\":\"white\",\"linecolor\":\"white\",\"ticks\":\"\"},\"radialaxis\":{\"gridcolor\":\"white\",\"linecolor\":\"white\",\"ticks\":\"\"}},\"ternary\":{\"bgcolor\":\"#E5ECF6\",\"aaxis\":{\"gridcolor\":\"white\",\"linecolor\":\"white\",\"ticks\":\"\"},\"baxis\":{\"gridcolor\":\"white\",\"linecolor\":\"white\",\"ticks\":\"\"},\"caxis\":{\"gridcolor\":\"white\",\"linecolor\":\"white\",\"ticks\":\"\"}},\"coloraxis\":{\"colorbar\":{\"outlinewidth\":0,\"ticks\":\"\"}},\"colorscale\":{\"sequential\":[[0.0,\"#0d0887\"],[0.1111111111111111,\"#46039f\"],[0.2222222222222222,\"#7201a8\"],[0.3333333333333333,\"#9c179e\"],[0.4444444444444444,\"#bd3786\"],[0.5555555555555556,\"#d8576b\"],[0.6666666666666666,\"#ed7953\"],[0.7777777777777778,\"#fb9f3a\"],[0.8888888888888888,\"#fdca26\"],[1.0,\"#f0f921\"]],\"sequentialminus\":[[0.0,\"#0d0887\"],[0.1111111111111111,\"#46039f\"],[0.2222222222222222,\"#7201a8\"],[0.3333333333333333,\"#9c179e\"],[0.4444444444444444,\"#bd3786\"],[0.5555555555555556,\"#d8576b\"],[0.6666666666666666,\"#ed7953\"],[0.7777777777777778,\"#fb9f3a\"],[0.8888888888888888,\"#fdca26\"],[1.0,\"#f0f921\"]],\"diverging\":[[0,\"#8e0152\"],[0.1,\"#c51b7d\"],[0.2,\"#de77ae\"],[0.3,\"#f1b6da\"],[0.4,\"#fde0ef\"],[0.5,\"#f7f7f7\"],[0.6,\"#e6f5d0\"],[0.7,\"#b8e186\"],[0.8,\"#7fbc41\"],[0.9,\"#4d9221\"],[1,\"#276419\"]]},\"xaxis\":{\"gridcolor\":\"white\",\"linecolor\":\"white\",\"ticks\":\"\",\"title\":{\"standoff\":15},\"zerolinecolor\":\"white\",\"automargin\":true,\"zerolinewidth\":2},\"yaxis\":{\"gridcolor\":\"white\",\"linecolor\":\"white\",\"ticks\":\"\",\"title\":{\"standoff\":15},\"zerolinecolor\":\"white\",\"automargin\":true,\"zerolinewidth\":2},\"scene\":{\"xaxis\":{\"backgroundcolor\":\"#E5ECF6\",\"gridcolor\":\"white\",\"linecolor\":\"white\",\"showbackground\":true,\"ticks\":\"\",\"zerolinecolor\":\"white\",\"gridwidth\":2},\"yaxis\":{\"backgroundcolor\":\"#E5ECF6\",\"gridcolor\":\"white\",\"linecolor\":\"white\",\"showbackground\":true,\"ticks\":\"\",\"zerolinecolor\":\"white\",\"gridwidth\":2},\"zaxis\":{\"backgroundcolor\":\"#E5ECF6\",\"gridcolor\":\"white\",\"linecolor\":\"white\",\"showbackground\":true,\"ticks\":\"\",\"zerolinecolor\":\"white\",\"gridwidth\":2}},\"shapedefaults\":{\"line\":{\"color\":\"#2a3f5f\"}},\"annotationdefaults\":{\"arrowcolor\":\"#2a3f5f\",\"arrowhead\":0,\"arrowwidth\":1},\"geo\":{\"bgcolor\":\"white\",\"landcolor\":\"#E5ECF6\",\"subunitcolor\":\"white\",\"showland\":true,\"showlakes\":true,\"lakecolor\":\"white\"},\"title\":{\"x\":0.05},\"mapbox\":{\"style\":\"light\"}}},\"legend\":{\"tracegroupgap\":0},\"title\":{\"text\":\"Pie Chart\"}},                        {\"responsive\": true}                    ).then(function(){\n",
       "                            \n",
       "var gd = document.getElementById('ec432ebd-f6c9-4b03-b268-dacb1cbdc428');\n",
       "var x = new MutationObserver(function (mutations, observer) {{\n",
       "        var display = window.getComputedStyle(gd).display;\n",
       "        if (!display || display === 'none') {{\n",
       "            console.log([gd, 'removed!']);\n",
       "            Plotly.purge(gd);\n",
       "            observer.disconnect();\n",
       "        }}\n",
       "}});\n",
       "\n",
       "// Listen for the removal of the full notebook cells\n",
       "var notebookContainer = gd.closest('#notebook-container');\n",
       "if (notebookContainer) {{\n",
       "    x.observe(notebookContainer, {childList: true});\n",
       "}}\n",
       "\n",
       "// Listen for the clearing of the current output cell\n",
       "var outputEl = gd.closest('.output');\n",
       "if (outputEl) {{\n",
       "    x.observe(outputEl, {childList: true});\n",
       "}}\n",
       "\n",
       "                        })                };                });            </script>        </div>"
      ]
     },
     "metadata": {},
     "output_type": "display_data"
    }
   ],
   "source": [
    "fig=px.pie(df,names=labels,values=values, title='Pie Chart')\n",
    "fig.show()  # to show the pie chart"
   ]
  },
  {
   "cell_type": "code",
   "execution_count": 48,
   "id": "325e4efc",
   "metadata": {
    "execution": {
     "iopub.execute_input": "2022-04-18T16:18:02.365173Z",
     "iopub.status.busy": "2022-04-18T16:18:02.364322Z",
     "iopub.status.idle": "2022-04-18T16:18:02.368325Z",
     "shell.execute_reply": "2022-04-18T16:18:02.367689Z"
    },
    "papermill": {
     "duration": 0.150295,
     "end_time": "2022-04-18T16:18:02.370045",
     "exception": false,
     "start_time": "2022-04-18T16:18:02.219750",
     "status": "completed"
    },
    "tags": []
   },
   "outputs": [],
   "source": [
    "# from the above pie chart it is clear that 57% of the resturants belong to Q.B and C.D and rest 43% belong to other categories..."
   ]
  },
  {
   "cell_type": "code",
   "execution_count": 49,
   "id": "bd3aaf78",
   "metadata": {
    "execution": {
     "iopub.execute_input": "2022-04-18T16:18:02.666022Z",
     "iopub.status.busy": "2022-04-18T16:18:02.665321Z",
     "iopub.status.idle": "2022-04-18T16:18:02.669601Z",
     "shell.execute_reply": "2022-04-18T16:18:02.668790Z"
    },
    "papermill": {
     "duration": 0.154014,
     "end_time": "2022-04-18T16:18:02.671660",
     "exception": false,
     "start_time": "2022-04-18T16:18:02.517646",
     "status": "completed"
    },
    "tags": []
   },
   "outputs": [],
   "source": [
    "## Create a new data frame in which we have votes, cost and rating of each restaurant...\n",
    "# Grouped the data by name and then aggregate, for each rest. count the no. of votes and also count no. of restaurants using url...\n",
    "#converted into data frame by using reset_index()"
   ]
  },
  {
   "cell_type": "code",
   "execution_count": 50,
   "id": "3dfe9e18",
   "metadata": {
    "execution": {
     "iopub.execute_input": "2022-04-18T16:18:02.967233Z",
     "iopub.status.busy": "2022-04-18T16:18:02.966925Z",
     "iopub.status.idle": "2022-04-18T16:18:03.025019Z",
     "shell.execute_reply": "2022-04-18T16:18:03.023819Z"
    },
    "papermill": {
     "duration": 0.207783,
     "end_time": "2022-04-18T16:18:03.027590",
     "exception": false,
     "start_time": "2022-04-18T16:18:02.819807",
     "status": "completed"
    },
    "tags": []
   },
   "outputs": [
    {
     "data": {
      "text/html": [
       "<div>\n",
       "<style scoped>\n",
       "    .dataframe tbody tr th:only-of-type {\n",
       "        vertical-align: middle;\n",
       "    }\n",
       "\n",
       "    .dataframe tbody tr th {\n",
       "        vertical-align: top;\n",
       "    }\n",
       "\n",
       "    .dataframe thead th {\n",
       "        text-align: right;\n",
       "    }\n",
       "</style>\n",
       "<table border=\"1\" class=\"dataframe\">\n",
       "  <thead>\n",
       "    <tr style=\"text-align: right;\">\n",
       "      <th></th>\n",
       "      <th>name</th>\n",
       "      <th>votes</th>\n",
       "      <th>url</th>\n",
       "      <th>approx_cost(for two people)</th>\n",
       "      <th>rate</th>\n",
       "    </tr>\n",
       "  </thead>\n",
       "  <tbody>\n",
       "    <tr>\n",
       "      <th>0</th>\n",
       "      <td>#FeelTheROLL</td>\n",
       "      <td>14</td>\n",
       "      <td>2</td>\n",
       "      <td>200.0</td>\n",
       "      <td>3.400000</td>\n",
       "    </tr>\n",
       "    <tr>\n",
       "      <th>1</th>\n",
       "      <td>#L-81 Cafe</td>\n",
       "      <td>432</td>\n",
       "      <td>9</td>\n",
       "      <td>400.0</td>\n",
       "      <td>3.900000</td>\n",
       "    </tr>\n",
       "    <tr>\n",
       "      <th>2</th>\n",
       "      <td>#Vibes Restro</td>\n",
       "      <td>0</td>\n",
       "      <td>3</td>\n",
       "      <td>700.0</td>\n",
       "      <td>NaN</td>\n",
       "    </tr>\n",
       "    <tr>\n",
       "      <th>3</th>\n",
       "      <td>#refuel</td>\n",
       "      <td>111</td>\n",
       "      <td>3</td>\n",
       "      <td>400.0</td>\n",
       "      <td>3.700000</td>\n",
       "    </tr>\n",
       "    <tr>\n",
       "      <th>4</th>\n",
       "      <td>'Brahmins' Thatte Idli</td>\n",
       "      <td>0</td>\n",
       "      <td>1</td>\n",
       "      <td>100.0</td>\n",
       "      <td>NaN</td>\n",
       "    </tr>\n",
       "    <tr>\n",
       "      <th>...</th>\n",
       "      <td>...</td>\n",
       "      <td>...</td>\n",
       "      <td>...</td>\n",
       "      <td>...</td>\n",
       "      <td>...</td>\n",
       "    </tr>\n",
       "    <tr>\n",
       "      <th>8787</th>\n",
       "      <td>late100</td>\n",
       "      <td>0</td>\n",
       "      <td>5</td>\n",
       "      <td>200.0</td>\n",
       "      <td>NaN</td>\n",
       "    </tr>\n",
       "    <tr>\n",
       "      <th>8788</th>\n",
       "      <td>nu.tree</td>\n",
       "      <td>1443</td>\n",
       "      <td>8</td>\n",
       "      <td>400.0</td>\n",
       "      <td>4.314286</td>\n",
       "    </tr>\n",
       "    <tr>\n",
       "      <th>8789</th>\n",
       "      <td>re:cess - Hilton Bangalore Embassy GolfLinks</td>\n",
       "      <td>438</td>\n",
       "      <td>3</td>\n",
       "      <td>1200.0</td>\n",
       "      <td>4.100000</td>\n",
       "    </tr>\n",
       "    <tr>\n",
       "      <th>8790</th>\n",
       "      <td>repEAT Hub</td>\n",
       "      <td>0</td>\n",
       "      <td>2</td>\n",
       "      <td>200.0</td>\n",
       "      <td>NaN</td>\n",
       "    </tr>\n",
       "    <tr>\n",
       "      <th>8791</th>\n",
       "      <td>sCoolMeal</td>\n",
       "      <td>0</td>\n",
       "      <td>5</td>\n",
       "      <td>300.0</td>\n",
       "      <td>NaN</td>\n",
       "    </tr>\n",
       "  </tbody>\n",
       "</table>\n",
       "<p>8792 rows × 5 columns</p>\n",
       "</div>"
      ],
      "text/plain": [
       "                                              name  votes  url  \\\n",
       "0                                     #FeelTheROLL     14    2   \n",
       "1                                       #L-81 Cafe    432    9   \n",
       "2                                    #Vibes Restro      0    3   \n",
       "3                                          #refuel    111    3   \n",
       "4                           'Brahmins' Thatte Idli      0    1   \n",
       "...                                            ...    ...  ...   \n",
       "8787                                       late100      0    5   \n",
       "8788                                       nu.tree   1443    8   \n",
       "8789  re:cess - Hilton Bangalore Embassy GolfLinks    438    3   \n",
       "8790                                    repEAT Hub      0    2   \n",
       "8791                                     sCoolMeal      0    5   \n",
       "\n",
       "      approx_cost(for two people)      rate  \n",
       "0                           200.0  3.400000  \n",
       "1                           400.0  3.900000  \n",
       "2                           700.0       NaN  \n",
       "3                           400.0  3.700000  \n",
       "4                           100.0       NaN  \n",
       "...                           ...       ...  \n",
       "8787                        200.0       NaN  \n",
       "8788                        400.0  4.314286  \n",
       "8789                       1200.0  4.100000  \n",
       "8790                        200.0       NaN  \n",
       "8791                        300.0       NaN  \n",
       "\n",
       "[8792 rows x 5 columns]"
      ]
     },
     "execution_count": 50,
     "metadata": {},
     "output_type": "execute_result"
    }
   ],
   "source": [
    "rest=df.groupby('name').agg({'votes':'sum','url':'count','approx_cost(for two people)':'mean','rate':'mean'}).reset_index()\n",
    "rest"
   ]
  },
  {
   "cell_type": "code",
   "execution_count": 51,
   "id": "38ddfb55",
   "metadata": {
    "execution": {
     "iopub.execute_input": "2022-04-18T16:18:03.321278Z",
     "iopub.status.busy": "2022-04-18T16:18:03.320396Z",
     "iopub.status.idle": "2022-04-18T16:18:03.324457Z",
     "shell.execute_reply": "2022-04-18T16:18:03.323674Z"
    },
    "papermill": {
     "duration": 0.150711,
     "end_time": "2022-04-18T16:18:03.326501",
     "exception": false,
     "start_time": "2022-04-18T16:18:03.175790",
     "status": "completed"
    },
    "tags": []
   },
   "outputs": [],
   "source": [
    "# manipulated the data frame according to our convinience...changing the names of columns..."
   ]
  },
  {
   "cell_type": "code",
   "execution_count": 52,
   "id": "63b2ccb0",
   "metadata": {
    "execution": {
     "iopub.execute_input": "2022-04-18T16:18:03.627858Z",
     "iopub.status.busy": "2022-04-18T16:18:03.626761Z",
     "iopub.status.idle": "2022-04-18T16:18:03.644879Z",
     "shell.execute_reply": "2022-04-18T16:18:03.643944Z"
    },
    "papermill": {
     "duration": 0.176689,
     "end_time": "2022-04-18T16:18:03.649063",
     "exception": false,
     "start_time": "2022-04-18T16:18:03.472374",
     "status": "completed"
    },
    "tags": []
   },
   "outputs": [
    {
     "data": {
      "text/html": [
       "<div>\n",
       "<style scoped>\n",
       "    .dataframe tbody tr th:only-of-type {\n",
       "        vertical-align: middle;\n",
       "    }\n",
       "\n",
       "    .dataframe tbody tr th {\n",
       "        vertical-align: top;\n",
       "    }\n",
       "\n",
       "    .dataframe thead th {\n",
       "        text-align: right;\n",
       "    }\n",
       "</style>\n",
       "<table border=\"1\" class=\"dataframe\">\n",
       "  <thead>\n",
       "    <tr style=\"text-align: right;\">\n",
       "      <th></th>\n",
       "      <th>Name</th>\n",
       "      <th>Total_votes</th>\n",
       "      <th>Total_unities</th>\n",
       "      <th>Avg_approx_cost</th>\n",
       "      <th>Mean_rating</th>\n",
       "    </tr>\n",
       "  </thead>\n",
       "  <tbody>\n",
       "    <tr>\n",
       "      <th>0</th>\n",
       "      <td>#FeelTheROLL</td>\n",
       "      <td>14</td>\n",
       "      <td>2</td>\n",
       "      <td>200.0</td>\n",
       "      <td>3.4</td>\n",
       "    </tr>\n",
       "    <tr>\n",
       "      <th>1</th>\n",
       "      <td>#L-81 Cafe</td>\n",
       "      <td>432</td>\n",
       "      <td>9</td>\n",
       "      <td>400.0</td>\n",
       "      <td>3.9</td>\n",
       "    </tr>\n",
       "    <tr>\n",
       "      <th>2</th>\n",
       "      <td>#Vibes Restro</td>\n",
       "      <td>0</td>\n",
       "      <td>3</td>\n",
       "      <td>700.0</td>\n",
       "      <td>NaN</td>\n",
       "    </tr>\n",
       "    <tr>\n",
       "      <th>3</th>\n",
       "      <td>#refuel</td>\n",
       "      <td>111</td>\n",
       "      <td>3</td>\n",
       "      <td>400.0</td>\n",
       "      <td>3.7</td>\n",
       "    </tr>\n",
       "    <tr>\n",
       "      <th>4</th>\n",
       "      <td>'Brahmins' Thatte Idli</td>\n",
       "      <td>0</td>\n",
       "      <td>1</td>\n",
       "      <td>100.0</td>\n",
       "      <td>NaN</td>\n",
       "    </tr>\n",
       "  </tbody>\n",
       "</table>\n",
       "</div>"
      ],
      "text/plain": [
       "                     Name  Total_votes  Total_unities  Avg_approx_cost  \\\n",
       "0            #FeelTheROLL           14              2            200.0   \n",
       "1              #L-81 Cafe          432              9            400.0   \n",
       "2           #Vibes Restro            0              3            700.0   \n",
       "3                 #refuel          111              3            400.0   \n",
       "4  'Brahmins' Thatte Idli            0              1            100.0   \n",
       "\n",
       "   Mean_rating  \n",
       "0          3.4  \n",
       "1          3.9  \n",
       "2          NaN  \n",
       "3          3.7  \n",
       "4          NaN  "
      ]
     },
     "execution_count": 52,
     "metadata": {},
     "output_type": "execute_result"
    }
   ],
   "source": [
    "rest.columns=['Name','Total_votes','Total_unities','Avg_approx_cost','Mean_rating']\n",
    "rest.head()"
   ]
  },
  {
   "cell_type": "code",
   "execution_count": 53,
   "id": "d489c9d8",
   "metadata": {
    "execution": {
     "iopub.execute_input": "2022-04-18T16:18:03.958038Z",
     "iopub.status.busy": "2022-04-18T16:18:03.957441Z",
     "iopub.status.idle": "2022-04-18T16:18:03.971674Z",
     "shell.execute_reply": "2022-04-18T16:18:03.970963Z"
    },
    "papermill": {
     "duration": 0.167099,
     "end_time": "2022-04-18T16:18:03.973652",
     "exception": false,
     "start_time": "2022-04-18T16:18:03.806553",
     "status": "completed"
    },
    "tags": []
   },
   "outputs": [
    {
     "data": {
      "text/html": [
       "<div>\n",
       "<style scoped>\n",
       "    .dataframe tbody tr th:only-of-type {\n",
       "        vertical-align: middle;\n",
       "    }\n",
       "\n",
       "    .dataframe tbody tr th {\n",
       "        vertical-align: top;\n",
       "    }\n",
       "\n",
       "    .dataframe thead th {\n",
       "        text-align: right;\n",
       "    }\n",
       "</style>\n",
       "<table border=\"1\" class=\"dataframe\">\n",
       "  <thead>\n",
       "    <tr style=\"text-align: right;\">\n",
       "      <th></th>\n",
       "      <th>Name</th>\n",
       "      <th>Total_votes</th>\n",
       "      <th>Total_unities</th>\n",
       "      <th>Avg_approx_cost</th>\n",
       "      <th>Mean_rating</th>\n",
       "      <th>Votes_per_unity</th>\n",
       "    </tr>\n",
       "  </thead>\n",
       "  <tbody>\n",
       "    <tr>\n",
       "      <th>0</th>\n",
       "      <td>#FeelTheROLL</td>\n",
       "      <td>14</td>\n",
       "      <td>2</td>\n",
       "      <td>200.0</td>\n",
       "      <td>3.4</td>\n",
       "      <td>7.0</td>\n",
       "    </tr>\n",
       "    <tr>\n",
       "      <th>1</th>\n",
       "      <td>#L-81 Cafe</td>\n",
       "      <td>432</td>\n",
       "      <td>9</td>\n",
       "      <td>400.0</td>\n",
       "      <td>3.9</td>\n",
       "      <td>48.0</td>\n",
       "    </tr>\n",
       "    <tr>\n",
       "      <th>2</th>\n",
       "      <td>#Vibes Restro</td>\n",
       "      <td>0</td>\n",
       "      <td>3</td>\n",
       "      <td>700.0</td>\n",
       "      <td>NaN</td>\n",
       "      <td>0.0</td>\n",
       "    </tr>\n",
       "    <tr>\n",
       "      <th>3</th>\n",
       "      <td>#refuel</td>\n",
       "      <td>111</td>\n",
       "      <td>3</td>\n",
       "      <td>400.0</td>\n",
       "      <td>3.7</td>\n",
       "      <td>37.0</td>\n",
       "    </tr>\n",
       "    <tr>\n",
       "      <th>4</th>\n",
       "      <td>'Brahmins' Thatte Idli</td>\n",
       "      <td>0</td>\n",
       "      <td>1</td>\n",
       "      <td>100.0</td>\n",
       "      <td>NaN</td>\n",
       "      <td>0.0</td>\n",
       "    </tr>\n",
       "  </tbody>\n",
       "</table>\n",
       "</div>"
      ],
      "text/plain": [
       "                     Name  Total_votes  Total_unities  Avg_approx_cost  \\\n",
       "0            #FeelTheROLL           14              2            200.0   \n",
       "1              #L-81 Cafe          432              9            400.0   \n",
       "2           #Vibes Restro            0              3            700.0   \n",
       "3                 #refuel          111              3            400.0   \n",
       "4  'Brahmins' Thatte Idli            0              1            100.0   \n",
       "\n",
       "   Mean_rating  Votes_per_unity  \n",
       "0          3.4              7.0  \n",
       "1          3.9             48.0  \n",
       "2          NaN              0.0  \n",
       "3          3.7             37.0  \n",
       "4          NaN              0.0  "
      ]
     },
     "execution_count": 53,
     "metadata": {},
     "output_type": "execute_result"
    }
   ],
   "source": [
    "rest['Votes_per_unity']=rest['Total_votes']/rest['Total_unities']  # added a new column\n",
    "rest.head()"
   ]
  },
  {
   "cell_type": "code",
   "execution_count": 54,
   "id": "a577ba22",
   "metadata": {
    "execution": {
     "iopub.execute_input": "2022-04-18T16:18:04.270566Z",
     "iopub.status.busy": "2022-04-18T16:18:04.269969Z",
     "iopub.status.idle": "2022-04-18T16:18:04.287708Z",
     "shell.execute_reply": "2022-04-18T16:18:04.287033Z"
    },
    "papermill": {
     "duration": 0.167677,
     "end_time": "2022-04-18T16:18:04.289975",
     "exception": false,
     "start_time": "2022-04-18T16:18:04.122298",
     "status": "completed"
    },
    "tags": []
   },
   "outputs": [
    {
     "data": {
      "text/html": [
       "<div>\n",
       "<style scoped>\n",
       "    .dataframe tbody tr th:only-of-type {\n",
       "        vertical-align: middle;\n",
       "    }\n",
       "\n",
       "    .dataframe tbody tr th {\n",
       "        vertical-align: top;\n",
       "    }\n",
       "\n",
       "    .dataframe thead th {\n",
       "        text-align: right;\n",
       "    }\n",
       "</style>\n",
       "<table border=\"1\" class=\"dataframe\">\n",
       "  <thead>\n",
       "    <tr style=\"text-align: right;\">\n",
       "      <th></th>\n",
       "      <th>Name</th>\n",
       "      <th>Total_votes</th>\n",
       "      <th>Total_unities</th>\n",
       "      <th>Avg_approx_cost</th>\n",
       "      <th>Mean_rating</th>\n",
       "      <th>Votes_per_unity</th>\n",
       "    </tr>\n",
       "  </thead>\n",
       "  <tbody>\n",
       "    <tr>\n",
       "      <th>1320</th>\n",
       "      <td>Cafe Coffee Day</td>\n",
       "      <td>3089</td>\n",
       "      <td>96</td>\n",
       "      <td>844.791667</td>\n",
       "      <td>3.147191</td>\n",
       "      <td>32.177083</td>\n",
       "    </tr>\n",
       "    <tr>\n",
       "      <th>5549</th>\n",
       "      <td>Onesta</td>\n",
       "      <td>347520</td>\n",
       "      <td>85</td>\n",
       "      <td>600.000000</td>\n",
       "      <td>4.410588</td>\n",
       "      <td>4088.470588</td>\n",
       "    </tr>\n",
       "    <tr>\n",
       "      <th>3788</th>\n",
       "      <td>Just Bake</td>\n",
       "      <td>2898</td>\n",
       "      <td>73</td>\n",
       "      <td>400.000000</td>\n",
       "      <td>3.355882</td>\n",
       "      <td>39.698630</td>\n",
       "    </tr>\n",
       "    <tr>\n",
       "      <th>2446</th>\n",
       "      <td>Empire Restaurant</td>\n",
       "      <td>229808</td>\n",
       "      <td>71</td>\n",
       "      <td>685.211268</td>\n",
       "      <td>3.916901</td>\n",
       "      <td>3236.732394</td>\n",
       "    </tr>\n",
       "    <tr>\n",
       "      <th>2577</th>\n",
       "      <td>Five Star Chicken</td>\n",
       "      <td>3134</td>\n",
       "      <td>70</td>\n",
       "      <td>257.857143</td>\n",
       "      <td>3.425000</td>\n",
       "      <td>44.771429</td>\n",
       "    </tr>\n",
       "    <tr>\n",
       "      <th>...</th>\n",
       "      <td>...</td>\n",
       "      <td>...</td>\n",
       "      <td>...</td>\n",
       "      <td>...</td>\n",
       "      <td>...</td>\n",
       "      <td>...</td>\n",
       "    </tr>\n",
       "    <tr>\n",
       "      <th>1900</th>\n",
       "      <td>Cool Break</td>\n",
       "      <td>11</td>\n",
       "      <td>1</td>\n",
       "      <td>150.000000</td>\n",
       "      <td>3.400000</td>\n",
       "      <td>11.000000</td>\n",
       "    </tr>\n",
       "    <tr>\n",
       "      <th>8076</th>\n",
       "      <td>The Shake Factory Originals</td>\n",
       "      <td>8</td>\n",
       "      <td>1</td>\n",
       "      <td>200.000000</td>\n",
       "      <td>3.300000</td>\n",
       "      <td>8.000000</td>\n",
       "    </tr>\n",
       "    <tr>\n",
       "      <th>5216</th>\n",
       "      <td>Nethravathi Military Hotel</td>\n",
       "      <td>0</td>\n",
       "      <td>1</td>\n",
       "      <td>200.000000</td>\n",
       "      <td>NaN</td>\n",
       "      <td>0.000000</td>\n",
       "    </tr>\n",
       "    <tr>\n",
       "      <th>7426</th>\n",
       "      <td>Swadisht North Indian Restaurant</td>\n",
       "      <td>23</td>\n",
       "      <td>1</td>\n",
       "      <td>200.000000</td>\n",
       "      <td>3.200000</td>\n",
       "      <td>23.000000</td>\n",
       "    </tr>\n",
       "    <tr>\n",
       "      <th>5375</th>\n",
       "      <td>Night Punjabi Folk</td>\n",
       "      <td>0</td>\n",
       "      <td>1</td>\n",
       "      <td>200.000000</td>\n",
       "      <td>NaN</td>\n",
       "      <td>0.000000</td>\n",
       "    </tr>\n",
       "  </tbody>\n",
       "</table>\n",
       "<p>8792 rows × 6 columns</p>\n",
       "</div>"
      ],
      "text/plain": [
       "                                  Name  Total_votes  Total_unities  \\\n",
       "1320                   Cafe Coffee Day         3089             96   \n",
       "5549                            Onesta       347520             85   \n",
       "3788                         Just Bake         2898             73   \n",
       "2446                 Empire Restaurant       229808             71   \n",
       "2577                 Five Star Chicken         3134             70   \n",
       "...                                ...          ...            ...   \n",
       "1900                        Cool Break           11              1   \n",
       "8076       The Shake Factory Originals            8              1   \n",
       "5216        Nethravathi Military Hotel            0              1   \n",
       "7426  Swadisht North Indian Restaurant           23              1   \n",
       "5375                Night Punjabi Folk            0              1   \n",
       "\n",
       "      Avg_approx_cost  Mean_rating  Votes_per_unity  \n",
       "1320       844.791667     3.147191        32.177083  \n",
       "5549       600.000000     4.410588      4088.470588  \n",
       "3788       400.000000     3.355882        39.698630  \n",
       "2446       685.211268     3.916901      3236.732394  \n",
       "2577       257.857143     3.425000        44.771429  \n",
       "...               ...          ...              ...  \n",
       "1900       150.000000     3.400000        11.000000  \n",
       "8076       200.000000     3.300000         8.000000  \n",
       "5216       200.000000          NaN         0.000000  \n",
       "7426       200.000000     3.200000        23.000000  \n",
       "5375       200.000000          NaN         0.000000  \n",
       "\n",
       "[8792 rows x 6 columns]"
      ]
     },
     "execution_count": 54,
     "metadata": {},
     "output_type": "execute_result"
    }
   ],
   "source": [
    "popular=rest.sort_values(by='Total_unities',ascending=False)  #sorting the data frame according to the Total_unities...\n",
    "popular"
   ]
  },
  {
   "cell_type": "code",
   "execution_count": 55,
   "id": "175684cf",
   "metadata": {
    "execution": {
     "iopub.execute_input": "2022-04-18T16:18:04.590990Z",
     "iopub.status.busy": "2022-04-18T16:18:04.590657Z",
     "iopub.status.idle": "2022-04-18T16:18:04.594583Z",
     "shell.execute_reply": "2022-04-18T16:18:04.593655Z"
    },
    "papermill": {
     "duration": 0.158334,
     "end_time": "2022-04-18T16:18:04.597076",
     "exception": false,
     "start_time": "2022-04-18T16:18:04.438742",
     "status": "completed"
    },
    "tags": []
   },
   "outputs": [],
   "source": [
    "## restuarant overview analysis...\n",
    "# avg votes recieved by restaurant.\n",
    "# Top 5 most voted restaurants.\n",
    "# Top 5 least voted restaurants."
   ]
  },
  {
   "cell_type": "code",
   "execution_count": 56,
   "id": "c50ee31c",
   "metadata": {
    "execution": {
     "iopub.execute_input": "2022-04-18T16:18:04.906752Z",
     "iopub.status.busy": "2022-04-18T16:18:04.906451Z",
     "iopub.status.idle": "2022-04-18T16:18:04.927950Z",
     "shell.execute_reply": "2022-04-18T16:18:04.926770Z"
    },
    "papermill": {
     "duration": 0.177506,
     "end_time": "2022-04-18T16:18:04.930428",
     "exception": false,
     "start_time": "2022-04-18T16:18:04.752922",
     "status": "completed"
    },
    "tags": []
   },
   "outputs": [
    {
     "data": {
      "text/html": [
       "<div>\n",
       "<style scoped>\n",
       "    .dataframe tbody tr th:only-of-type {\n",
       "        vertical-align: middle;\n",
       "    }\n",
       "\n",
       "    .dataframe tbody tr th {\n",
       "        vertical-align: top;\n",
       "    }\n",
       "\n",
       "    .dataframe thead th {\n",
       "        text-align: right;\n",
       "    }\n",
       "</style>\n",
       "<table border=\"1\" class=\"dataframe\">\n",
       "  <thead>\n",
       "    <tr style=\"text-align: right;\">\n",
       "      <th></th>\n",
       "      <th>Name</th>\n",
       "      <th>Total_votes</th>\n",
       "      <th>Total_unities</th>\n",
       "      <th>Avg_approx_cost</th>\n",
       "      <th>Mean_rating</th>\n",
       "      <th>Votes_per_unity</th>\n",
       "    </tr>\n",
       "  </thead>\n",
       "  <tbody>\n",
       "    <tr>\n",
       "      <th>5549</th>\n",
       "      <td>Onesta</td>\n",
       "      <td>347520</td>\n",
       "      <td>85</td>\n",
       "      <td>600.000000</td>\n",
       "      <td>4.410588</td>\n",
       "      <td>4088.470588</td>\n",
       "    </tr>\n",
       "    <tr>\n",
       "      <th>8269</th>\n",
       "      <td>Truffles</td>\n",
       "      <td>301059</td>\n",
       "      <td>43</td>\n",
       "      <td>900.000000</td>\n",
       "      <td>4.595349</td>\n",
       "      <td>7001.372093</td>\n",
       "    </tr>\n",
       "    <tr>\n",
       "      <th>2446</th>\n",
       "      <td>Empire Restaurant</td>\n",
       "      <td>229808</td>\n",
       "      <td>71</td>\n",
       "      <td>685.211268</td>\n",
       "      <td>3.916901</td>\n",
       "      <td>3236.732394</td>\n",
       "    </tr>\n",
       "    <tr>\n",
       "      <th>3054</th>\n",
       "      <td>Hammered</td>\n",
       "      <td>180602</td>\n",
       "      <td>47</td>\n",
       "      <td>1272.340426</td>\n",
       "      <td>4.329787</td>\n",
       "      <td>3842.595745</td>\n",
       "    </tr>\n",
       "    <tr>\n",
       "      <th>7751</th>\n",
       "      <td>The Black Pearl</td>\n",
       "      <td>172122</td>\n",
       "      <td>18</td>\n",
       "      <td>1427.777778</td>\n",
       "      <td>4.727778</td>\n",
       "      <td>9562.333333</td>\n",
       "    </tr>\n",
       "  </tbody>\n",
       "</table>\n",
       "</div>"
      ],
      "text/plain": [
       "                   Name  Total_votes  Total_unities  Avg_approx_cost  \\\n",
       "5549             Onesta       347520             85       600.000000   \n",
       "8269           Truffles       301059             43       900.000000   \n",
       "2446  Empire Restaurant       229808             71       685.211268   \n",
       "3054           Hammered       180602             47      1272.340426   \n",
       "7751    The Black Pearl       172122             18      1427.777778   \n",
       "\n",
       "      Mean_rating  Votes_per_unity  \n",
       "5549     4.410588      4088.470588  \n",
       "8269     4.595349      7001.372093  \n",
       "2446     3.916901      3236.732394  \n",
       "3054     4.329787      3842.595745  \n",
       "7751     4.727778      9562.333333  "
      ]
     },
     "execution_count": 56,
     "metadata": {},
     "output_type": "execute_result"
    }
   ],
   "source": [
    "# Top 5 most voted restaurants.\n",
    "popular.sort_values(by='Total_votes', ascending=False).query('Total_votes > 0').head(5)"
   ]
  },
  {
   "cell_type": "code",
   "execution_count": 57,
   "id": "f1b537e2",
   "metadata": {
    "execution": {
     "iopub.execute_input": "2022-04-18T16:18:05.234908Z",
     "iopub.status.busy": "2022-04-18T16:18:05.234594Z",
     "iopub.status.idle": "2022-04-18T16:18:05.254703Z",
     "shell.execute_reply": "2022-04-18T16:18:05.254120Z"
    },
    "papermill": {
     "duration": 0.173499,
     "end_time": "2022-04-18T16:18:05.256576",
     "exception": false,
     "start_time": "2022-04-18T16:18:05.083077",
     "status": "completed"
    },
    "tags": []
   },
   "outputs": [
    {
     "data": {
      "text/html": [
       "<div>\n",
       "<style scoped>\n",
       "    .dataframe tbody tr th:only-of-type {\n",
       "        vertical-align: middle;\n",
       "    }\n",
       "\n",
       "    .dataframe tbody tr th {\n",
       "        vertical-align: top;\n",
       "    }\n",
       "\n",
       "    .dataframe thead th {\n",
       "        text-align: right;\n",
       "    }\n",
       "</style>\n",
       "<table border=\"1\" class=\"dataframe\">\n",
       "  <thead>\n",
       "    <tr style=\"text-align: right;\">\n",
       "      <th></th>\n",
       "      <th>Name</th>\n",
       "      <th>Total_votes</th>\n",
       "      <th>Total_unities</th>\n",
       "      <th>Avg_approx_cost</th>\n",
       "      <th>Mean_rating</th>\n",
       "      <th>Votes_per_unity</th>\n",
       "    </tr>\n",
       "  </thead>\n",
       "  <tbody>\n",
       "    <tr>\n",
       "      <th>6840</th>\n",
       "      <td>Silver Spoon</td>\n",
       "      <td>4</td>\n",
       "      <td>1</td>\n",
       "      <td>800.0</td>\n",
       "      <td>3.30</td>\n",
       "      <td>4.0</td>\n",
       "    </tr>\n",
       "    <tr>\n",
       "      <th>3420</th>\n",
       "      <td>House of Mandarin</td>\n",
       "      <td>4</td>\n",
       "      <td>1</td>\n",
       "      <td>300.0</td>\n",
       "      <td>3.30</td>\n",
       "      <td>4.0</td>\n",
       "    </tr>\n",
       "    <tr>\n",
       "      <th>858</th>\n",
       "      <td>Begum's Biriyani</td>\n",
       "      <td>4</td>\n",
       "      <td>1</td>\n",
       "      <td>500.0</td>\n",
       "      <td>3.20</td>\n",
       "      <td>4.0</td>\n",
       "    </tr>\n",
       "    <tr>\n",
       "      <th>4580</th>\n",
       "      <td>Mahadwani Restaurant</td>\n",
       "      <td>4</td>\n",
       "      <td>1</td>\n",
       "      <td>300.0</td>\n",
       "      <td>3.30</td>\n",
       "      <td>4.0</td>\n",
       "    </tr>\n",
       "    <tr>\n",
       "      <th>8632</th>\n",
       "      <td>Wood Fire Pizza</td>\n",
       "      <td>4</td>\n",
       "      <td>4</td>\n",
       "      <td>350.0</td>\n",
       "      <td>1.55</td>\n",
       "      <td>1.0</td>\n",
       "    </tr>\n",
       "  </tbody>\n",
       "</table>\n",
       "</div>"
      ],
      "text/plain": [
       "                      Name  Total_votes  Total_unities  Avg_approx_cost  \\\n",
       "6840          Silver Spoon            4              1            800.0   \n",
       "3420     House of Mandarin            4              1            300.0   \n",
       "858       Begum's Biriyani            4              1            500.0   \n",
       "4580  Mahadwani Restaurant            4              1            300.0   \n",
       "8632       Wood Fire Pizza            4              4            350.0   \n",
       "\n",
       "      Mean_rating  Votes_per_unity  \n",
       "6840         3.30              4.0  \n",
       "3420         3.30              4.0  \n",
       "858          3.20              4.0  \n",
       "4580         3.30              4.0  \n",
       "8632         1.55              1.0  "
      ]
     },
     "execution_count": 57,
     "metadata": {},
     "output_type": "execute_result"
    }
   ],
   "source": [
    "# Top 5 least voted restaurants (using tail)...\n",
    "popular.sort_values(by='Total_votes', ascending=False).query('Total_votes > 0').tail(5)"
   ]
  },
  {
   "cell_type": "code",
   "execution_count": 58,
   "id": "ea73f2f8",
   "metadata": {
    "execution": {
     "iopub.execute_input": "2022-04-18T16:18:05.555802Z",
     "iopub.status.busy": "2022-04-18T16:18:05.555504Z",
     "iopub.status.idle": "2022-04-18T16:18:06.145599Z",
     "shell.execute_reply": "2022-04-18T16:18:06.144706Z"
    },
    "papermill": {
     "duration": 0.742486,
     "end_time": "2022-04-18T16:18:06.147760",
     "exception": false,
     "start_time": "2022-04-18T16:18:05.405274",
     "status": "completed"
    },
    "tags": []
   },
   "outputs": [
    {
     "data": {
      "text/plain": [
       "Text(0.5, 1.0, 'Top 5 Least Voted Restaurants\\n(with at least 1 vote)')"
      ]
     },
     "execution_count": 58,
     "metadata": {},
     "output_type": "execute_result"
    },
    {
     "data": {
      "image/png": "[encoded data removed]",
      "text/plain": [
       "<Figure size 1440x1800 with 3 Axes>"
      ]
     },
     "metadata": {
      "needs_background": "light"
     },
     "output_type": "display_data"
    }
   ],
   "source": [
    "#creating a subplot...(Plotting all the 3 statistics)\n",
    "fig, (ax1,ax2,ax3)= plt.subplots(3,1,figsize=(20,25))  # 3 axis for these 3 analysis...\n",
    "# ax1-- for avg votes recieved by restaurant\n",
    "ax1.text(0.50, 0.50, int(popular['Total_votes'].mean()), fontsize=54, ha='center') # ha for text to be center...\n",
    "ax1.text(0.50, 0.35, 'is the average of votes', fontsize=18, ha='center')\n",
    "ax1.text(0.50, 0.30, 'recieved by the restaurants', fontsize=18, ha='center')\n",
    "\n",
    "# ax2-- for top 5 most voted restaurants\n",
    "sns.barplot(x='Total_votes', y='Name', data=popular.sort_values(by='Total_votes', ascending=False).query('Total_votes > 0').head(5),ax=ax2, palette='plasma')\n",
    "ax2.set_title('Top 5 Most Voted Restaurants', size=16)\n",
    "\n",
    "# ax3-- for top 5 least voted restaurants\n",
    "sns.barplot(x='Total_votes', y='Name', data=popular.sort_values(by='Total_votes', ascending=False).query('Total_votes > 0').tail(5),ax=ax3, palette='plasma_r')\n",
    "ax3.set_title('Top 5 Least Voted Restaurants\\n(with at least 1 vote)', size=16)"
   ]
  },
  {
   "cell_type": "code",
   "execution_count": 59,
   "id": "76b3519e",
   "metadata": {
    "execution": {
     "iopub.execute_input": "2022-04-18T16:18:06.464679Z",
     "iopub.status.busy": "2022-04-18T16:18:06.464361Z",
     "iopub.status.idle": "2022-04-18T16:18:06.468277Z",
     "shell.execute_reply": "2022-04-18T16:18:06.467417Z"
    },
    "papermill": {
     "duration": 0.164252,
     "end_time": "2022-04-18T16:18:06.470156",
     "exception": false,
     "start_time": "2022-04-18T16:18:06.305904",
     "status": "completed"
    },
    "tags": []
   },
   "outputs": [],
   "source": [
    "## PERFORMING IN DEPTH ANALYSIS OF RESTAURANT...\n",
    "# Most expensive and cheapest restaurants\n",
    "# How many restaurants offer book table services and online order services"
   ]
  },
  {
   "cell_type": "code",
   "execution_count": 60,
   "id": "1b79f8cd",
   "metadata": {
    "execution": {
     "iopub.execute_input": "2022-04-18T16:18:06.781703Z",
     "iopub.status.busy": "2022-04-18T16:18:06.781430Z",
     "iopub.status.idle": "2022-04-18T16:18:07.348614Z",
     "shell.execute_reply": "2022-04-18T16:18:07.347692Z"
    },
    "papermill": {
     "duration": 0.727279,
     "end_time": "2022-04-18T16:18:07.351732",
     "exception": false,
     "start_time": "2022-04-18T16:18:06.624453",
     "status": "completed"
    },
    "tags": []
   },
   "outputs": [
    {
     "data": {
      "text/plain": [
       "Text(0.5, 1.0, 'Top 5 Cheapest Restaurants')"
      ]
     },
     "execution_count": 60,
     "metadata": {},
     "output_type": "execute_result"
    },
    {
     "data": {
      "image/png": "[encoded data removed]",
      "text/plain": [
       "<Figure size 1440x1800 with 3 Axes>"
      ]
     },
     "metadata": {
      "needs_background": "light"
     },
     "output_type": "display_data"
    }
   ],
   "source": [
    "# Most expensive and cheapest restaurants\n",
    "fig, (ax1,ax2,ax3)= plt.subplots(3,1,figsize=(20,25))  # 3 axis for these 3 analysis...\n",
    "ax1.text(0.50, 0.50, int(popular['Avg_approx_cost'].mean()), fontsize=54, ha='center') # ha for text to be center...\n",
    "ax1.text(0.50, 0.35, 'is the mean approx cost', fontsize=18, ha='center')\n",
    "ax1.text(0.50, 0.30, 'of Bengaluru restaurants', fontsize=18, ha='center')\n",
    "\n",
    "sns.barplot(x='Avg_approx_cost', y='Name', data=popular.sort_values(by='Avg_approx_cost', ascending=False).query('Avg_approx_cost > 0').head(5),ax=ax2, palette='plasma')\n",
    "ax2.set_title('Top 5 Most Expensive Restaurants', size=16)\n",
    "\n",
    "sns.barplot(x='Avg_approx_cost', y='Name', data=popular.sort_values(by='Avg_approx_cost', ascending=False).query('Avg_approx_cost > 0').tail(5),ax=ax3, palette='plasma_r')\n",
    "ax3.set_title('Top 5 Cheapest Restaurants', size=16)"
   ]
  },
  {
   "cell_type": "code",
   "execution_count": 61,
   "id": "89e42df2",
   "metadata": {
    "execution": {
     "iopub.execute_input": "2022-04-18T16:18:07.664344Z",
     "iopub.status.busy": "2022-04-18T16:18:07.663737Z",
     "iopub.status.idle": "2022-04-18T16:18:07.668321Z",
     "shell.execute_reply": "2022-04-18T16:18:07.667307Z"
    },
    "papermill": {
     "duration": 0.162719,
     "end_time": "2022-04-18T16:18:07.670344",
     "exception": false,
     "start_time": "2022-04-18T16:18:07.507625",
     "status": "completed"
    },
    "tags": []
   },
   "outputs": [],
   "source": [
    "# How many restaurants offer book table services and online order services"
   ]
  },
  {
   "cell_type": "code",
   "execution_count": 62,
   "id": "acb78829",
   "metadata": {
    "execution": {
     "iopub.execute_input": "2022-04-18T16:18:07.984230Z",
     "iopub.status.busy": "2022-04-18T16:18:07.983910Z",
     "iopub.status.idle": "2022-04-18T16:18:07.997758Z",
     "shell.execute_reply": "2022-04-18T16:18:07.996825Z"
    },
    "papermill": {
     "duration": 0.175671,
     "end_time": "2022-04-18T16:18:07.999851",
     "exception": false,
     "start_time": "2022-04-18T16:18:07.824180",
     "status": "completed"
    },
    "tags": []
   },
   "outputs": [],
   "source": [
    "x=df['book_table'].value_counts()  # checking the number of restaurants providing this service... \n",
    "labels=['No Book Table', 'Book Table']"
   ]
  },
  {
   "cell_type": "code",
   "execution_count": 63,
   "id": "2b694947",
   "metadata": {
    "execution": {
     "iopub.execute_input": "2022-04-18T16:18:08.314229Z",
     "iopub.status.busy": "2022-04-18T16:18:08.313919Z",
     "iopub.status.idle": "2022-04-18T16:18:08.356387Z",
     "shell.execute_reply": "2022-04-18T16:18:08.355563Z"
    },
    "papermill": {
     "duration": 0.199084,
     "end_time": "2022-04-18T16:18:08.358489",
     "exception": false,
     "start_time": "2022-04-18T16:18:08.159405",
     "status": "completed"
    },
    "tags": []
   },
   "outputs": [
    {
     "data": {
      "text/html": [
       "<div>                            <div id=\"4ab15762-b516-4192-9ece-07e0c1630388\" class=\"plotly-graph-div\" style=\"height:525px; width:100%;\"></div>            <script type=\"text/javascript\">                require([\"plotly\"], function(Plotly) {                    window.PLOTLYENV=window.PLOTLYENV || {};                                    if (document.getElementById(\"4ab15762-b516-4192-9ece-07e0c1630388\")) {                    Plotly.newPlot(                        \"4ab15762-b516-4192-9ece-07e0c1630388\",                        [{\"hoverinfo\":\"label+percent\",\"labels\":[\"No Book Table\",\"Book Table\"],\"pull\":[0,0,0,0.2,0],\"textfont\":{\"size\":25},\"textinfo\":\"percent\",\"values\":[45268,6449],\"type\":\"pie\"}],                        {\"template\":{\"data\":{\"barpolar\":[{\"marker\":{\"line\":{\"color\":\"#E5ECF6\",\"width\":0.5},\"pattern\":{\"fillmode\":\"overlay\",\"size\":10,\"solidity\":0.2}},\"type\":\"barpolar\"}],\"bar\":[{\"error_x\":{\"color\":\"#2a3f5f\"},\"error_y\":{\"color\":\"#2a3f5f\"},\"marker\":{\"line\":{\"color\":\"#E5ECF6\",\"width\":0.5},\"pattern\":{\"fillmode\":\"overlay\",\"size\":10,\"solidity\":0.2}},\"type\":\"bar\"}],\"carpet\":[{\"aaxis\":{\"endlinecolor\":\"#2a3f5f\",\"gridcolor\":\"white\",\"linecolor\":\"white\",\"minorgridcolor\":\"white\",\"startlinecolor\":\"#2a3f5f\"},\"baxis\":{\"endlinecolor\":\"#2a3f5f\",\"gridcolor\":\"white\",\"linecolor\":\"white\",\"minorgridcolor\":\"white\",\"startlinecolor\":\"#2a3f5f\"},\"type\":\"carpet\"}],\"choropleth\":[{\"colorbar\":{\"outlinewidth\":0,\"ticks\":\"\"},\"type\":\"choropleth\"}],\"contourcarpet\":[{\"colorbar\":{\"outlinewidth\":0,\"ticks\":\"\"},\"type\":\"contourcarpet\"}],\"contour\":[{\"colorbar\":{\"outlinewidth\":0,\"ticks\":\"\"},\"colorscale\":[[0.0,\"#0d0887\"],[0.1111111111111111,\"#46039f\"],[0.2222222222222222,\"#7201a8\"],[0.3333333333333333,\"#9c179e\"],[0.4444444444444444,\"#bd3786\"],[0.5555555555555556,\"#d8576b\"],[0.6666666666666666,\"#ed7953\"],[0.7777777777777778,\"#fb9f3a\"],[0.8888888888888888,\"#fdca26\"],[1.0,\"#f0f921\"]],\"type\":\"contour\"}],\"heatmapgl\":[{\"colorbar\":{\"outlinewidth\":0,\"ticks\":\"\"},\"colorscale\":[[0.0,\"#0d0887\"],[0.1111111111111111,\"#46039f\"],[0.2222222222222222,\"#7201a8\"],[0.3333333333333333,\"#9c179e\"],[0.4444444444444444,\"#bd3786\"],[0.5555555555555556,\"#d8576b\"],[0.6666666666666666,\"#ed7953\"],[0.7777777777777778,\"#fb9f3a\"],[0.8888888888888888,\"#fdca26\"],[1.0,\"#f0f921\"]],\"type\":\"heatmapgl\"}],\"heatmap\":[{\"colorbar\":{\"outlinewidth\":0,\"ticks\":\"\"},\"colorscale\":[[0.0,\"#0d0887\"],[0.1111111111111111,\"#46039f\"],[0.2222222222222222,\"#7201a8\"],[0.3333333333333333,\"#9c179e\"],[0.4444444444444444,\"#bd3786\"],[0.5555555555555556,\"#d8576b\"],[0.6666666666666666,\"#ed7953\"],[0.7777777777777778,\"#fb9f3a\"],[0.8888888888888888,\"#fdca26\"],[1.0,\"#f0f921\"]],\"type\":\"heatmap\"}],\"histogram2dcontour\":[{\"colorbar\":{\"outlinewidth\":0,\"ticks\":\"\"},\"colorscale\":[[0.0,\"#0d0887\"],[0.1111111111111111,\"#46039f\"],[0.2222222222222222,\"#7201a8\"],[0.3333333333333333,\"#9c179e\"],[0.4444444444444444,\"#bd3786\"],[0.5555555555555556,\"#d8576b\"],[0.6666666666666666,\"#ed7953\"],[0.7777777777777778,\"#fb9f3a\"],[0.8888888888888888,\"#fdca26\"],[1.0,\"#f0f921\"]],\"type\":\"histogram2dcontour\"}],\"histogram2d\":[{\"colorbar\":{\"outlinewidth\":0,\"ticks\":\"\"},\"colorscale\":[[0.0,\"#0d0887\"],[0.1111111111111111,\"#46039f\"],[0.2222222222222222,\"#7201a8\"],[0.3333333333333333,\"#9c179e\"],[0.4444444444444444,\"#bd3786\"],[0.5555555555555556,\"#d8576b\"],[0.6666666666666666,\"#ed7953\"],[0.7777777777777778,\"#fb9f3a\"],[0.8888888888888888,\"#fdca26\"],[1.0,\"#f0f921\"]],\"type\":\"histogram2d\"}],\"histogram\":[{\"marker\":{\"pattern\":{\"fillmode\":\"overlay\",\"size\":10,\"solidity\":0.2}},\"type\":\"histogram\"}],\"mesh3d\":[{\"colorbar\":{\"outlinewidth\":0,\"ticks\":\"\"},\"type\":\"mesh3d\"}],\"parcoords\":[{\"line\":{\"colorbar\":{\"outlinewidth\":0,\"ticks\":\"\"}},\"type\":\"parcoords\"}],\"pie\":[{\"automargin\":true,\"type\":\"pie\"}],\"scatter3d\":[{\"line\":{\"colorbar\":{\"outlinewidth\":0,\"ticks\":\"\"}},\"marker\":{\"colorbar\":{\"outlinewidth\":0,\"ticks\":\"\"}},\"type\":\"scatter3d\"}],\"scattercarpet\":[{\"marker\":{\"colorbar\":{\"outlinewidth\":0,\"ticks\":\"\"}},\"type\":\"scattercarpet\"}],\"scattergeo\":[{\"marker\":{\"colorbar\":{\"outlinewidth\":0,\"ticks\":\"\"}},\"type\":\"scattergeo\"}],\"scattergl\":[{\"marker\":{\"colorbar\":{\"outlinewidth\":0,\"ticks\":\"\"}},\"type\":\"scattergl\"}],\"scattermapbox\":[{\"marker\":{\"colorbar\":{\"outlinewidth\":0,\"ticks\":\"\"}},\"type\":\"scattermapbox\"}],\"scatterpolargl\":[{\"marker\":{\"colorbar\":{\"outlinewidth\":0,\"ticks\":\"\"}},\"type\":\"scatterpolargl\"}],\"scatterpolar\":[{\"marker\":{\"colorbar\":{\"outlinewidth\":0,\"ticks\":\"\"}},\"type\":\"scatterpolar\"}],\"scatter\":[{\"fillpattern\":{\"fillmode\":\"overlay\",\"size\":10,\"solidity\":0.2},\"type\":\"scatter\"}],\"scatterternary\":[{\"marker\":{\"colorbar\":{\"outlinewidth\":0,\"ticks\":\"\"}},\"type\":\"scatterternary\"}],\"surface\":[{\"colorbar\":{\"outlinewidth\":0,\"ticks\":\"\"},\"colorscale\":[[0.0,\"#0d0887\"],[0.1111111111111111,\"#46039f\"],[0.2222222222222222,\"#7201a8\"],[0.3333333333333333,\"#9c179e\"],[0.4444444444444444,\"#bd3786\"],[0.5555555555555556,\"#d8576b\"],[0.6666666666666666,\"#ed7953\"],[0.7777777777777778,\"#fb9f3a\"],[0.8888888888888888,\"#fdca26\"],[1.0,\"#f0f921\"]],\"type\":\"surface\"}],\"table\":[{\"cells\":{\"fill\":{\"color\":\"#EBF0F8\"},\"line\":{\"color\":\"white\"}},\"header\":{\"fill\":{\"color\":\"#C8D4E3\"},\"line\":{\"color\":\"white\"}},\"type\":\"table\"}]},\"layout\":{\"annotationdefaults\":{\"arrowcolor\":\"#2a3f5f\",\"arrowhead\":0,\"arrowwidth\":1},\"autotypenumbers\":\"strict\",\"coloraxis\":{\"colorbar\":{\"outlinewidth\":0,\"ticks\":\"\"}},\"colorscale\":{\"diverging\":[[0,\"#8e0152\"],[0.1,\"#c51b7d\"],[0.2,\"#de77ae\"],[0.3,\"#f1b6da\"],[0.4,\"#fde0ef\"],[0.5,\"#f7f7f7\"],[0.6,\"#e6f5d0\"],[0.7,\"#b8e186\"],[0.8,\"#7fbc41\"],[0.9,\"#4d9221\"],[1,\"#276419\"]],\"sequential\":[[0.0,\"#0d0887\"],[0.1111111111111111,\"#46039f\"],[0.2222222222222222,\"#7201a8\"],[0.3333333333333333,\"#9c179e\"],[0.4444444444444444,\"#bd3786\"],[0.5555555555555556,\"#d8576b\"],[0.6666666666666666,\"#ed7953\"],[0.7777777777777778,\"#fb9f3a\"],[0.8888888888888888,\"#fdca26\"],[1.0,\"#f0f921\"]],\"sequentialminus\":[[0.0,\"#0d0887\"],[0.1111111111111111,\"#46039f\"],[0.2222222222222222,\"#7201a8\"],[0.3333333333333333,\"#9c179e\"],[0.4444444444444444,\"#bd3786\"],[0.5555555555555556,\"#d8576b\"],[0.6666666666666666,\"#ed7953\"],[0.7777777777777778,\"#fb9f3a\"],[0.8888888888888888,\"#fdca26\"],[1.0,\"#f0f921\"]]},\"colorway\":[\"#636efa\",\"#EF553B\",\"#00cc96\",\"#ab63fa\",\"#FFA15A\",\"#19d3f3\",\"#FF6692\",\"#B6E880\",\"#FF97FF\",\"#FECB52\"],\"font\":{\"color\":\"#2a3f5f\"},\"geo\":{\"bgcolor\":\"white\",\"lakecolor\":\"white\",\"landcolor\":\"#E5ECF6\",\"showlakes\":true,\"showland\":true,\"subunitcolor\":\"white\"},\"hoverlabel\":{\"align\":\"left\"},\"hovermode\":\"closest\",\"mapbox\":{\"style\":\"light\"},\"paper_bgcolor\":\"white\",\"plot_bgcolor\":\"#E5ECF6\",\"polar\":{\"angularaxis\":{\"gridcolor\":\"white\",\"linecolor\":\"white\",\"ticks\":\"\"},\"bgcolor\":\"#E5ECF6\",\"radialaxis\":{\"gridcolor\":\"white\",\"linecolor\":\"white\",\"ticks\":\"\"}},\"scene\":{\"xaxis\":{\"backgroundcolor\":\"#E5ECF6\",\"gridcolor\":\"white\",\"gridwidth\":2,\"linecolor\":\"white\",\"showbackground\":true,\"ticks\":\"\",\"zerolinecolor\":\"white\"},\"yaxis\":{\"backgroundcolor\":\"#E5ECF6\",\"gridcolor\":\"white\",\"gridwidth\":2,\"linecolor\":\"white\",\"showbackground\":true,\"ticks\":\"\",\"zerolinecolor\":\"white\"},\"zaxis\":{\"backgroundcolor\":\"#E5ECF6\",\"gridcolor\":\"white\",\"gridwidth\":2,\"linecolor\":\"white\",\"showbackground\":true,\"ticks\":\"\",\"zerolinecolor\":\"white\"}},\"shapedefaults\":{\"line\":{\"color\":\"#2a3f5f\"}},\"ternary\":{\"aaxis\":{\"gridcolor\":\"white\",\"linecolor\":\"white\",\"ticks\":\"\"},\"baxis\":{\"gridcolor\":\"white\",\"linecolor\":\"white\",\"ticks\":\"\"},\"bgcolor\":\"#E5ECF6\",\"caxis\":{\"gridcolor\":\"white\",\"linecolor\":\"white\",\"ticks\":\"\"}},\"title\":{\"x\":0.05},\"xaxis\":{\"automargin\":true,\"gridcolor\":\"white\",\"linecolor\":\"white\",\"ticks\":\"\",\"title\":{\"standoff\":15},\"zerolinecolor\":\"white\",\"zerolinewidth\":2},\"yaxis\":{\"automargin\":true,\"gridcolor\":\"white\",\"linecolor\":\"white\",\"ticks\":\"\",\"title\":{\"standoff\":15},\"zerolinecolor\":\"white\",\"zerolinewidth\":2}}}},                        {\"responsive\": true}                    ).then(function(){\n",
       "                            \n",
       "var gd = document.getElementById('4ab15762-b516-4192-9ece-07e0c1630388');\n",
       "var x = new MutationObserver(function (mutations, observer) {{\n",
       "        var display = window.getComputedStyle(gd).display;\n",
       "        if (!display || display === 'none') {{\n",
       "            console.log([gd, 'removed!']);\n",
       "            Plotly.purge(gd);\n",
       "            observer.disconnect();\n",
       "        }}\n",
       "}});\n",
       "\n",
       "// Listen for the removal of the full notebook cells\n",
       "var notebookContainer = gd.closest('#notebook-container');\n",
       "if (notebookContainer) {{\n",
       "    x.observe(notebookContainer, {childList: true});\n",
       "}}\n",
       "\n",
       "// Listen for the clearing of the current output cell\n",
       "var outputEl = gd.closest('.output');\n",
       "if (outputEl) {{\n",
       "    x.observe(outputEl, {childList: true});\n",
       "}}\n",
       "\n",
       "                        })                };                });            </script>        </div>"
      ]
     },
     "metadata": {},
     "output_type": "display_data"
    }
   ],
   "source": [
    "import plotly.graph_objs as go\n",
    "from plotly.offline import iplot  #ipython plot-- to display the plot, passed it to iplot...\n",
    "\n",
    "trace=go.Pie(labels=labels,values=x,hoverinfo='label+percent',textinfo='percent',textfont=dict(size=25),\n",
    "              pull=[0, 0, 0,0.2, 0])\n",
    "iplot([trace])"
   ]
  },
  {
   "cell_type": "code",
   "execution_count": 64,
   "id": "c08b2c4c",
   "metadata": {
    "execution": {
     "iopub.execute_input": "2022-04-18T16:18:08.670833Z",
     "iopub.status.busy": "2022-04-18T16:18:08.670548Z",
     "iopub.status.idle": "2022-04-18T16:18:08.673934Z",
     "shell.execute_reply": "2022-04-18T16:18:08.673307Z"
    },
    "papermill": {
     "duration": 0.163391,
     "end_time": "2022-04-18T16:18:08.675683",
     "exception": false,
     "start_time": "2022-04-18T16:18:08.512292",
     "status": "completed"
    },
    "tags": []
   },
   "outputs": [],
   "source": [
    "# from the above pie chart, it is clear that most of the restaurants do not provide book table services... "
   ]
  },
  {
   "cell_type": "code",
   "execution_count": 65,
   "id": "d2d956b0",
   "metadata": {
    "execution": {
     "iopub.execute_input": "2022-04-18T16:18:08.989281Z",
     "iopub.status.busy": "2022-04-18T16:18:08.988717Z",
     "iopub.status.idle": "2022-04-18T16:18:09.047239Z",
     "shell.execute_reply": "2022-04-18T16:18:09.046182Z"
    },
    "papermill": {
     "duration": 0.219015,
     "end_time": "2022-04-18T16:18:09.049951",
     "exception": false,
     "start_time": "2022-04-18T16:18:08.830936",
     "status": "completed"
    },
    "tags": []
   },
   "outputs": [
    {
     "data": {
      "text/html": [
       "<div>                            <div id=\"f92fc52f-edd6-4fe6-903a-5c121a6af022\" class=\"plotly-graph-div\" style=\"height:525px; width:100%;\"></div>            <script type=\"text/javascript\">                require([\"plotly\"], function(Plotly) {                    window.PLOTLYENV=window.PLOTLYENV || {};                                    if (document.getElementById(\"f92fc52f-edd6-4fe6-903a-5c121a6af022\")) {                    Plotly.newPlot(                        \"f92fc52f-edd6-4fe6-903a-5c121a6af022\",                        [{\"domain\":{\"x\":[0.0,1.0],\"y\":[0.0,1.0]},\"hovertemplate\":\"label=%{label}<br>value=%{value}<extra></extra>\",\"labels\":[\"Accepted\",\"Not accepted\"],\"legendgroup\":\"\",\"name\":\"\",\"showlegend\":true,\"values\":[30444,21273],\"type\":\"pie\"}],                        {\"template\":{\"data\":{\"histogram2dcontour\":[{\"type\":\"histogram2dcontour\",\"colorbar\":{\"outlinewidth\":0,\"ticks\":\"\"},\"colorscale\":[[0.0,\"#0d0887\"],[0.1111111111111111,\"#46039f\"],[0.2222222222222222,\"#7201a8\"],[0.3333333333333333,\"#9c179e\"],[0.4444444444444444,\"#bd3786\"],[0.5555555555555556,\"#d8576b\"],[0.6666666666666666,\"#ed7953\"],[0.7777777777777778,\"#fb9f3a\"],[0.8888888888888888,\"#fdca26\"],[1.0,\"#f0f921\"]]}],\"choropleth\":[{\"type\":\"choropleth\",\"colorbar\":{\"outlinewidth\":0,\"ticks\":\"\"}}],\"histogram2d\":[{\"type\":\"histogram2d\",\"colorbar\":{\"outlinewidth\":0,\"ticks\":\"\"},\"colorscale\":[[0.0,\"#0d0887\"],[0.1111111111111111,\"#46039f\"],[0.2222222222222222,\"#7201a8\"],[0.3333333333333333,\"#9c179e\"],[0.4444444444444444,\"#bd3786\"],[0.5555555555555556,\"#d8576b\"],[0.6666666666666666,\"#ed7953\"],[0.7777777777777778,\"#fb9f3a\"],[0.8888888888888888,\"#fdca26\"],[1.0,\"#f0f921\"]]}],\"heatmap\":[{\"type\":\"heatmap\",\"colorbar\":{\"outlinewidth\":0,\"ticks\":\"\"},\"colorscale\":[[0.0,\"#0d0887\"],[0.1111111111111111,\"#46039f\"],[0.2222222222222222,\"#7201a8\"],[0.3333333333333333,\"#9c179e\"],[0.4444444444444444,\"#bd3786\"],[0.5555555555555556,\"#d8576b\"],[0.6666666666666666,\"#ed7953\"],[0.7777777777777778,\"#fb9f3a\"],[0.8888888888888888,\"#fdca26\"],[1.0,\"#f0f921\"]]}],\"heatmapgl\":[{\"type\":\"heatmapgl\",\"colorbar\":{\"outlinewidth\":0,\"ticks\":\"\"},\"colorscale\":[[0.0,\"#0d0887\"],[0.1111111111111111,\"#46039f\"],[0.2222222222222222,\"#7201a8\"],[0.3333333333333333,\"#9c179e\"],[0.4444444444444444,\"#bd3786\"],[0.5555555555555556,\"#d8576b\"],[0.6666666666666666,\"#ed7953\"],[0.7777777777777778,\"#fb9f3a\"],[0.8888888888888888,\"#fdca26\"],[1.0,\"#f0f921\"]]}],\"contourcarpet\":[{\"type\":\"contourcarpet\",\"colorbar\":{\"outlinewidth\":0,\"ticks\":\"\"}}],\"contour\":[{\"type\":\"contour\",\"colorbar\":{\"outlinewidth\":0,\"ticks\":\"\"},\"colorscale\":[[0.0,\"#0d0887\"],[0.1111111111111111,\"#46039f\"],[0.2222222222222222,\"#7201a8\"],[0.3333333333333333,\"#9c179e\"],[0.4444444444444444,\"#bd3786\"],[0.5555555555555556,\"#d8576b\"],[0.6666666666666666,\"#ed7953\"],[0.7777777777777778,\"#fb9f3a\"],[0.8888888888888888,\"#fdca26\"],[1.0,\"#f0f921\"]]}],\"surface\":[{\"type\":\"surface\",\"colorbar\":{\"outlinewidth\":0,\"ticks\":\"\"},\"colorscale\":[[0.0,\"#0d0887\"],[0.1111111111111111,\"#46039f\"],[0.2222222222222222,\"#7201a8\"],[0.3333333333333333,\"#9c179e\"],[0.4444444444444444,\"#bd3786\"],[0.5555555555555556,\"#d8576b\"],[0.6666666666666666,\"#ed7953\"],[0.7777777777777778,\"#fb9f3a\"],[0.8888888888888888,\"#fdca26\"],[1.0,\"#f0f921\"]]}],\"mesh3d\":[{\"type\":\"mesh3d\",\"colorbar\":{\"outlinewidth\":0,\"ticks\":\"\"}}],\"scatter\":[{\"fillpattern\":{\"fillmode\":\"overlay\",\"size\":10,\"solidity\":0.2},\"type\":\"scatter\"}],\"parcoords\":[{\"type\":\"parcoords\",\"line\":{\"colorbar\":{\"outlinewidth\":0,\"ticks\":\"\"}}}],\"scatterpolargl\":[{\"type\":\"scatterpolargl\",\"marker\":{\"colorbar\":{\"outlinewidth\":0,\"ticks\":\"\"}}}],\"bar\":[{\"error_x\":{\"color\":\"#2a3f5f\"},\"error_y\":{\"color\":\"#2a3f5f\"},\"marker\":{\"line\":{\"color\":\"#E5ECF6\",\"width\":0.5},\"pattern\":{\"fillmode\":\"overlay\",\"size\":10,\"solidity\":0.2}},\"type\":\"bar\"}],\"scattergeo\":[{\"type\":\"scattergeo\",\"marker\":{\"colorbar\":{\"outlinewidth\":0,\"ticks\":\"\"}}}],\"scatterpolar\":[{\"type\":\"scatterpolar\",\"marker\":{\"colorbar\":{\"outlinewidth\":0,\"ticks\":\"\"}}}],\"histogram\":[{\"marker\":{\"pattern\":{\"fillmode\":\"overlay\",\"size\":10,\"solidity\":0.2}},\"type\":\"histogram\"}],\"scattergl\":[{\"type\":\"scattergl\",\"marker\":{\"colorbar\":{\"outlinewidth\":0,\"ticks\":\"\"}}}],\"scatter3d\":[{\"type\":\"scatter3d\",\"line\":{\"colorbar\":{\"outlinewidth\":0,\"ticks\":\"\"}},\"marker\":{\"colorbar\":{\"outlinewidth\":0,\"ticks\":\"\"}}}],\"scattermapbox\":[{\"type\":\"scattermapbox\",\"marker\":{\"colorbar\":{\"outlinewidth\":0,\"ticks\":\"\"}}}],\"scatterternary\":[{\"type\":\"scatterternary\",\"marker\":{\"colorbar\":{\"outlinewidth\":0,\"ticks\":\"\"}}}],\"scattercarpet\":[{\"type\":\"scattercarpet\",\"marker\":{\"colorbar\":{\"outlinewidth\":0,\"ticks\":\"\"}}}],\"carpet\":[{\"aaxis\":{\"endlinecolor\":\"#2a3f5f\",\"gridcolor\":\"white\",\"linecolor\":\"white\",\"minorgridcolor\":\"white\",\"startlinecolor\":\"#2a3f5f\"},\"baxis\":{\"endlinecolor\":\"#2a3f5f\",\"gridcolor\":\"white\",\"linecolor\":\"white\",\"minorgridcolor\":\"white\",\"startlinecolor\":\"#2a3f5f\"},\"type\":\"carpet\"}],\"table\":[{\"cells\":{\"fill\":{\"color\":\"#EBF0F8\"},\"line\":{\"color\":\"white\"}},\"header\":{\"fill\":{\"color\":\"#C8D4E3\"},\"line\":{\"color\":\"white\"}},\"type\":\"table\"}],\"barpolar\":[{\"marker\":{\"line\":{\"color\":\"#E5ECF6\",\"width\":0.5},\"pattern\":{\"fillmode\":\"overlay\",\"size\":10,\"solidity\":0.2}},\"type\":\"barpolar\"}],\"pie\":[{\"automargin\":true,\"type\":\"pie\"}]},\"layout\":{\"autotypenumbers\":\"strict\",\"colorway\":[\"#636efa\",\"#EF553B\",\"#00cc96\",\"#ab63fa\",\"#FFA15A\",\"#19d3f3\",\"#FF6692\",\"#B6E880\",\"#FF97FF\",\"#FECB52\"],\"font\":{\"color\":\"#2a3f5f\"},\"hovermode\":\"closest\",\"hoverlabel\":{\"align\":\"left\"},\"paper_bgcolor\":\"white\",\"plot_bgcolor\":\"#E5ECF6\",\"polar\":{\"bgcolor\":\"#E5ECF6\",\"angularaxis\":{\"gridcolor\":\"white\",\"linecolor\":\"white\",\"ticks\":\"\"},\"radialaxis\":{\"gridcolor\":\"white\",\"linecolor\":\"white\",\"ticks\":\"\"}},\"ternary\":{\"bgcolor\":\"#E5ECF6\",\"aaxis\":{\"gridcolor\":\"white\",\"linecolor\":\"white\",\"ticks\":\"\"},\"baxis\":{\"gridcolor\":\"white\",\"linecolor\":\"white\",\"ticks\":\"\"},\"caxis\":{\"gridcolor\":\"white\",\"linecolor\":\"white\",\"ticks\":\"\"}},\"coloraxis\":{\"colorbar\":{\"outlinewidth\":0,\"ticks\":\"\"}},\"colorscale\":{\"sequential\":[[0.0,\"#0d0887\"],[0.1111111111111111,\"#46039f\"],[0.2222222222222222,\"#7201a8\"],[0.3333333333333333,\"#9c179e\"],[0.4444444444444444,\"#bd3786\"],[0.5555555555555556,\"#d8576b\"],[0.6666666666666666,\"#ed7953\"],[0.7777777777777778,\"#fb9f3a\"],[0.8888888888888888,\"#fdca26\"],[1.0,\"#f0f921\"]],\"sequentialminus\":[[0.0,\"#0d0887\"],[0.1111111111111111,\"#46039f\"],[0.2222222222222222,\"#7201a8\"],[0.3333333333333333,\"#9c179e\"],[0.4444444444444444,\"#bd3786\"],[0.5555555555555556,\"#d8576b\"],[0.6666666666666666,\"#ed7953\"],[0.7777777777777778,\"#fb9f3a\"],[0.8888888888888888,\"#fdca26\"],[1.0,\"#f0f921\"]],\"diverging\":[[0,\"#8e0152\"],[0.1,\"#c51b7d\"],[0.2,\"#de77ae\"],[0.3,\"#f1b6da\"],[0.4,\"#fde0ef\"],[0.5,\"#f7f7f7\"],[0.6,\"#e6f5d0\"],[0.7,\"#b8e186\"],[0.8,\"#7fbc41\"],[0.9,\"#4d9221\"],[1,\"#276419\"]]},\"xaxis\":{\"gridcolor\":\"white\",\"linecolor\":\"white\",\"ticks\":\"\",\"title\":{\"standoff\":15},\"zerolinecolor\":\"white\",\"automargin\":true,\"zerolinewidth\":2},\"yaxis\":{\"gridcolor\":\"white\",\"linecolor\":\"white\",\"ticks\":\"\",\"title\":{\"standoff\":15},\"zerolinecolor\":\"white\",\"automargin\":true,\"zerolinewidth\":2},\"scene\":{\"xaxis\":{\"backgroundcolor\":\"#E5ECF6\",\"gridcolor\":\"white\",\"linecolor\":\"white\",\"showbackground\":true,\"ticks\":\"\",\"zerolinecolor\":\"white\",\"gridwidth\":2},\"yaxis\":{\"backgroundcolor\":\"#E5ECF6\",\"gridcolor\":\"white\",\"linecolor\":\"white\",\"showbackground\":true,\"ticks\":\"\",\"zerolinecolor\":\"white\",\"gridwidth\":2},\"zaxis\":{\"backgroundcolor\":\"#E5ECF6\",\"gridcolor\":\"white\",\"linecolor\":\"white\",\"showbackground\":true,\"ticks\":\"\",\"zerolinecolor\":\"white\",\"gridwidth\":2}},\"shapedefaults\":{\"line\":{\"color\":\"#2a3f5f\"}},\"annotationdefaults\":{\"arrowcolor\":\"#2a3f5f\",\"arrowhead\":0,\"arrowwidth\":1},\"geo\":{\"bgcolor\":\"white\",\"landcolor\":\"#E5ECF6\",\"subunitcolor\":\"white\",\"showland\":true,\"showlakes\":true,\"lakecolor\":\"white\"},\"title\":{\"x\":0.05},\"mapbox\":{\"style\":\"light\"}}},\"legend\":{\"tracegroupgap\":0},\"title\":{\"text\":\"Pie chart\"}},                        {\"responsive\": true}                    ).then(function(){\n",
       "                            \n",
       "var gd = document.getElementById('f92fc52f-edd6-4fe6-903a-5c121a6af022');\n",
       "var x = new MutationObserver(function (mutations, observer) {{\n",
       "        var display = window.getComputedStyle(gd).display;\n",
       "        if (!display || display === 'none') {{\n",
       "            console.log([gd, 'removed!']);\n",
       "            Plotly.purge(gd);\n",
       "            observer.disconnect();\n",
       "        }}\n",
       "}});\n",
       "\n",
       "// Listen for the removal of the full notebook cells\n",
       "var notebookContainer = gd.closest('#notebook-container');\n",
       "if (notebookContainer) {{\n",
       "    x.observe(notebookContainer, {childList: true});\n",
       "}}\n",
       "\n",
       "// Listen for the clearing of the current output cell\n",
       "var outputEl = gd.closest('.output');\n",
       "if (outputEl) {{\n",
       "    x.observe(outputEl, {childList: true});\n",
       "}}\n",
       "\n",
       "                        })                };                });            </script>        </div>"
      ]
     },
     "metadata": {},
     "output_type": "display_data"
    }
   ],
   "source": [
    "x=df['online_order'].value_counts()\n",
    "labels=['Accepted','Not accepted']\n",
    "\n",
    "fig = px.pie(df, values=x, names=labels,title='Pie chart')\n",
    "fig.show()"
   ]
  },
  {
   "cell_type": "code",
   "execution_count": 66,
   "id": "a8f3a354",
   "metadata": {
    "execution": {
     "iopub.execute_input": "2022-04-18T16:18:09.376419Z",
     "iopub.status.busy": "2022-04-18T16:18:09.376082Z",
     "iopub.status.idle": "2022-04-18T16:18:09.380897Z",
     "shell.execute_reply": "2022-04-18T16:18:09.379961Z"
    },
    "papermill": {
     "duration": 0.173338,
     "end_time": "2022-04-18T16:18:09.383422",
     "exception": false,
     "start_time": "2022-04-18T16:18:09.210084",
     "status": "completed"
    },
    "tags": []
   },
   "outputs": [],
   "source": [
    "# from the above pie chart, it is clear that most of the restaurants accept online order services... "
   ]
  },
  {
   "cell_type": "code",
   "execution_count": 67,
   "id": "e6ab96f9",
   "metadata": {
    "execution": {
     "iopub.execute_input": "2022-04-18T16:18:09.719615Z",
     "iopub.status.busy": "2022-04-18T16:18:09.719294Z",
     "iopub.status.idle": "2022-04-18T16:18:09.723143Z",
     "shell.execute_reply": "2022-04-18T16:18:09.722210Z"
    },
    "papermill": {
     "duration": 0.172953,
     "end_time": "2022-04-18T16:18:09.725276",
     "exception": false,
     "start_time": "2022-04-18T16:18:09.552323",
     "status": "completed"
    },
    "tags": []
   },
   "outputs": [],
   "source": [
    "## ANALYSING BEST BUDGET RESTAURANTS...\n",
    "#1 Best budget restaurants in any location"
   ]
  },
  {
   "cell_type": "code",
   "execution_count": 68,
   "id": "c0db2f19",
   "metadata": {
    "execution": {
     "iopub.execute_input": "2022-04-18T16:18:10.046161Z",
     "iopub.status.busy": "2022-04-18T16:18:10.045360Z",
     "iopub.status.idle": "2022-04-18T16:18:10.048933Z",
     "shell.execute_reply": "2022-04-18T16:18:10.048245Z"
    },
    "papermill": {
     "duration": 0.164769,
     "end_time": "2022-04-18T16:18:10.050770",
     "exception": false,
     "start_time": "2022-04-18T16:18:09.886001",
     "status": "completed"
    },
    "tags": []
   },
   "outputs": [],
   "source": [
    "#1 Best budget restaurants in any location\n",
    "# created a function that accepts the location and type of rest. and gives the best budget restaurant accordingly..\n",
    "# with the condition of rating greater than 4.0"
   ]
  },
  {
   "cell_type": "code",
   "execution_count": 69,
   "id": "98991013",
   "metadata": {
    "execution": {
     "iopub.execute_input": "2022-04-18T16:18:10.365780Z",
     "iopub.status.busy": "2022-04-18T16:18:10.365277Z",
     "iopub.status.idle": "2022-04-18T16:18:10.370421Z",
     "shell.execute_reply": "2022-04-18T16:18:10.369637Z"
    },
    "papermill": {
     "duration": 0.165435,
     "end_time": "2022-04-18T16:18:10.372596",
     "exception": false,
     "start_time": "2022-04-18T16:18:10.207161",
     "status": "completed"
    },
    "tags": []
   },
   "outputs": [],
   "source": [
    "def return_budget(location,restaurant_type):\n",
    "    filter=(df['approx_cost(for two people)']<=400) & (df['location']==location) & (df['rate']>=4) & (df['rest_type']==restaurant_type)\n",
    "    budget=df[filter]\n",
    "    return (budget['name'].unique())"
   ]
  },
  {
   "cell_type": "code",
   "execution_count": 70,
   "id": "37b3946e",
   "metadata": {
    "execution": {
     "iopub.execute_input": "2022-04-18T16:18:10.689413Z",
     "iopub.status.busy": "2022-04-18T16:18:10.688937Z",
     "iopub.status.idle": "2022-04-18T16:18:10.727347Z",
     "shell.execute_reply": "2022-04-18T16:18:10.726223Z"
    },
    "papermill": {
     "duration": 0.199898,
     "end_time": "2022-04-18T16:18:10.730028",
     "exception": false,
     "start_time": "2022-04-18T16:18:10.530130",
     "status": "completed"
    },
    "tags": []
   },
   "outputs": [
    {
     "data": {
      "text/plain": [
       "array(['Hiyar Majhe Kolkata', 'Swadista Aahar', 'Swad Punjab Da',\n",
       "       'Roti Wala', 'Litti Twist', 'The Shawarma Shop', 'Gorbandh',\n",
       "       'Yum In My Tum', 'Nanna Munna Paratha House', 'Chaatimes',\n",
       "       'Andhra Kitchen', \"Muthashy's\", 'Ashirvaad Grand', 'Petoo',\n",
       "       'Ilyazsab The House Of Chicken', 'Kannur Food Point',\n",
       "       \"Domino's Pizza\", 'KFC', 'Hari Super Sandwich',\n",
       "       'The Biriyani Pedia', 'World Of Asia'], dtype=object)"
      ]
     },
     "execution_count": 70,
     "metadata": {},
     "output_type": "execute_result"
    }
   ],
   "source": [
    "return_budget('BTM','Quick Bites')  # provide any location and restaurant type according to our convinience"
   ]
  },
  {
   "cell_type": "code",
   "execution_count": 71,
   "id": "bf6ff352",
   "metadata": {
    "execution": {
     "iopub.execute_input": "2022-04-18T16:18:11.050076Z",
     "iopub.status.busy": "2022-04-18T16:18:11.049664Z",
     "iopub.status.idle": "2022-04-18T16:18:11.053379Z",
     "shell.execute_reply": "2022-04-18T16:18:11.052481Z"
    },
    "papermill": {
     "duration": 0.167907,
     "end_time": "2022-04-18T16:18:11.055462",
     "exception": false,
     "start_time": "2022-04-18T16:18:10.887555",
     "status": "completed"
    },
    "tags": []
   },
   "outputs": [],
   "source": [
    "#2 Extract latitude and longitude for any place (for geographical analysis)\n",
    "#-- means, to find highest rated restaurant at a particular location (we need latitude and longitude)"
   ]
  },
  {
   "cell_type": "code",
   "execution_count": 72,
   "id": "b4ad841a",
   "metadata": {
    "execution": {
     "iopub.execute_input": "2022-04-18T16:18:11.379560Z",
     "iopub.status.busy": "2022-04-18T16:18:11.379234Z",
     "iopub.status.idle": "2022-04-18T16:18:11.382652Z",
     "shell.execute_reply": "2022-04-18T16:18:11.382029Z"
    },
    "papermill": {
     "duration": 0.168875,
     "end_time": "2022-04-18T16:18:11.384459",
     "exception": false,
     "start_time": "2022-04-18T16:18:11.215584",
     "status": "completed"
    },
    "tags": []
   },
   "outputs": [],
   "source": [
    "## GEOGRAPHICAL ANALYSIS...\n",
    "#1 Extract latitude nad longitudes of each and every restaurant\n",
    "#-- for finding highest rated restaurant at a particular location (we need latitude and longitude)\n",
    "#2 Spatial analysis (geo. analysis) --generating the map\n",
    "#-- where exactly most of the restaurants are situated"
   ]
  },
  {
   "cell_type": "code",
   "execution_count": 73,
   "id": "44f9f160",
   "metadata": {
    "execution": {
     "iopub.execute_input": "2022-04-18T16:18:11.780119Z",
     "iopub.status.busy": "2022-04-18T16:18:11.779570Z",
     "iopub.status.idle": "2022-04-18T16:18:11.795601Z",
     "shell.execute_reply": "2022-04-18T16:18:11.794810Z"
    },
    "papermill": {
     "duration": 0.189176,
     "end_time": "2022-04-18T16:18:11.797842",
     "exception": false,
     "start_time": "2022-04-18T16:18:11.608666",
     "status": "completed"
    },
    "tags": []
   },
   "outputs": [
    {
     "data": {
      "text/html": [
       "<div>\n",
       "<style scoped>\n",
       "    .dataframe tbody tr th:only-of-type {\n",
       "        vertical-align: middle;\n",
       "    }\n",
       "\n",
       "    .dataframe tbody tr th {\n",
       "        vertical-align: top;\n",
       "    }\n",
       "\n",
       "    .dataframe thead th {\n",
       "        text-align: right;\n",
       "    }\n",
       "</style>\n",
       "<table border=\"1\" class=\"dataframe\">\n",
       "  <thead>\n",
       "    <tr style=\"text-align: right;\">\n",
       "      <th></th>\n",
       "      <th>Name</th>\n",
       "    </tr>\n",
       "  </thead>\n",
       "  <tbody>\n",
       "    <tr>\n",
       "      <th>0</th>\n",
       "      <td>Banashankari</td>\n",
       "    </tr>\n",
       "    <tr>\n",
       "      <th>1</th>\n",
       "      <td>Basavanagudi</td>\n",
       "    </tr>\n",
       "    <tr>\n",
       "      <th>2</th>\n",
       "      <td>Mysore Road</td>\n",
       "    </tr>\n",
       "    <tr>\n",
       "      <th>3</th>\n",
       "      <td>Jayanagar</td>\n",
       "    </tr>\n",
       "    <tr>\n",
       "      <th>4</th>\n",
       "      <td>Kumaraswamy Layout</td>\n",
       "    </tr>\n",
       "    <tr>\n",
       "      <th>...</th>\n",
       "      <td>...</td>\n",
       "    </tr>\n",
       "    <tr>\n",
       "      <th>89</th>\n",
       "      <td>West Bangalore</td>\n",
       "    </tr>\n",
       "    <tr>\n",
       "      <th>90</th>\n",
       "      <td>Magadi Road</td>\n",
       "    </tr>\n",
       "    <tr>\n",
       "      <th>91</th>\n",
       "      <td>Yelahanka</td>\n",
       "    </tr>\n",
       "    <tr>\n",
       "      <th>92</th>\n",
       "      <td>Sahakara Nagar</td>\n",
       "    </tr>\n",
       "    <tr>\n",
       "      <th>93</th>\n",
       "      <td>Peenya</td>\n",
       "    </tr>\n",
       "  </tbody>\n",
       "</table>\n",
       "<p>94 rows × 1 columns</p>\n",
       "</div>"
      ],
      "text/plain": [
       "                  Name\n",
       "0         Banashankari\n",
       "1         Basavanagudi\n",
       "2          Mysore Road\n",
       "3            Jayanagar\n",
       "4   Kumaraswamy Layout\n",
       "..                 ...\n",
       "89      West Bangalore\n",
       "90         Magadi Road\n",
       "91           Yelahanka\n",
       "92      Sahakara Nagar\n",
       "93              Peenya\n",
       "\n",
       "[94 rows x 1 columns]"
      ]
     },
     "execution_count": 73,
     "metadata": {},
     "output_type": "execute_result"
    }
   ],
   "source": [
    "# there are total 93 unique locations\n",
    "locations=pd.DataFrame({'Name':df['location'].unique()})  # converting it into data frame specifically for location\n",
    "locations"
   ]
  },
  {
   "cell_type": "code",
   "execution_count": 74,
   "id": "756c67c6",
   "metadata": {
    "execution": {
     "iopub.execute_input": "2022-04-18T16:18:12.126528Z",
     "iopub.status.busy": "2022-04-18T16:18:12.125943Z",
     "iopub.status.idle": "2022-04-18T16:18:12.129163Z",
     "shell.execute_reply": "2022-04-18T16:18:12.128553Z"
    },
    "papermill": {
     "duration": 0.169841,
     "end_time": "2022-04-18T16:18:12.131126",
     "exception": false,
     "start_time": "2022-04-18T16:18:11.961285",
     "status": "completed"
    },
    "tags": []
   },
   "outputs": [],
   "source": [
    "#2 where exactly most of the restaurants are situated\n",
    "# for each location, there is count of the no. of restaurants"
   ]
  },
  {
   "cell_type": "code",
   "execution_count": 75,
   "id": "76b7ee8a",
   "metadata": {
    "execution": {
     "iopub.execute_input": "2022-04-18T16:18:12.465455Z",
     "iopub.status.busy": "2022-04-18T16:18:12.464604Z",
     "iopub.status.idle": "2022-04-18T16:18:12.483119Z",
     "shell.execute_reply": "2022-04-18T16:18:12.482353Z"
    },
    "papermill": {
     "duration": 0.188014,
     "end_time": "2022-04-18T16:18:12.485308",
     "exception": false,
     "start_time": "2022-04-18T16:18:12.297294",
     "status": "completed"
    },
    "tags": []
   },
   "outputs": [
    {
     "data": {
      "text/html": [
       "<div>\n",
       "<style scoped>\n",
       "    .dataframe tbody tr th:only-of-type {\n",
       "        vertical-align: middle;\n",
       "    }\n",
       "\n",
       "    .dataframe tbody tr th {\n",
       "        vertical-align: top;\n",
       "    }\n",
       "\n",
       "    .dataframe thead th {\n",
       "        text-align: right;\n",
       "    }\n",
       "</style>\n",
       "<table border=\"1\" class=\"dataframe\">\n",
       "  <thead>\n",
       "    <tr style=\"text-align: right;\">\n",
       "      <th></th>\n",
       "      <th>Name</th>\n",
       "      <th>count</th>\n",
       "    </tr>\n",
       "  </thead>\n",
       "  <tbody>\n",
       "    <tr>\n",
       "      <th>0</th>\n",
       "      <td>BTM</td>\n",
       "      <td>5124</td>\n",
       "    </tr>\n",
       "    <tr>\n",
       "      <th>1</th>\n",
       "      <td>HSR</td>\n",
       "      <td>2523</td>\n",
       "    </tr>\n",
       "    <tr>\n",
       "      <th>2</th>\n",
       "      <td>Koramangala 5th Block</td>\n",
       "      <td>2504</td>\n",
       "    </tr>\n",
       "    <tr>\n",
       "      <th>3</th>\n",
       "      <td>JP Nagar</td>\n",
       "      <td>2235</td>\n",
       "    </tr>\n",
       "    <tr>\n",
       "      <th>4</th>\n",
       "      <td>Whitefield</td>\n",
       "      <td>2144</td>\n",
       "    </tr>\n",
       "  </tbody>\n",
       "</table>\n",
       "</div>"
      ],
      "text/plain": [
       "                    Name  count\n",
       "0                    BTM   5124\n",
       "1                    HSR   2523\n",
       "2  Koramangala 5th Block   2504\n",
       "3               JP Nagar   2235\n",
       "4             Whitefield   2144"
      ]
     },
     "execution_count": 75,
     "metadata": {},
     "output_type": "execute_result"
    }
   ],
   "source": [
    "Rest_locations=pd.DataFrame(df['location'].value_counts().reset_index())  #Rest_type data frame \n",
    "Rest_locations.columns=['Name','count']  # changing the column/feature name\n",
    "Rest_locations.head()"
   ]
  },
  {
   "cell_type": "code",
   "execution_count": 76,
   "id": "60b4d3e0",
   "metadata": {
    "execution": {
     "iopub.execute_input": "2022-04-18T16:18:12.829600Z",
     "iopub.status.busy": "2022-04-18T16:18:12.829017Z",
     "iopub.status.idle": "2022-04-18T16:18:12.848476Z",
     "shell.execute_reply": "2022-04-18T16:18:12.847836Z"
    },
    "papermill": {
     "duration": 0.198869,
     "end_time": "2022-04-18T16:18:12.850430",
     "exception": false,
     "start_time": "2022-04-18T16:18:12.651561",
     "status": "completed"
    },
    "tags": []
   },
   "outputs": [
    {
     "data": {
      "text/html": [
       "<div>\n",
       "<style scoped>\n",
       "    .dataframe tbody tr th:only-of-type {\n",
       "        vertical-align: middle;\n",
       "    }\n",
       "\n",
       "    .dataframe tbody tr th {\n",
       "        vertical-align: top;\n",
       "    }\n",
       "\n",
       "    .dataframe thead th {\n",
       "        text-align: right;\n",
       "    }\n",
       "</style>\n",
       "<table border=\"1\" class=\"dataframe\">\n",
       "  <thead>\n",
       "    <tr style=\"text-align: right;\">\n",
       "      <th></th>\n",
       "      <th>Name</th>\n",
       "      <th>count</th>\n",
       "    </tr>\n",
       "  </thead>\n",
       "  <tbody>\n",
       "    <tr>\n",
       "      <th>0</th>\n",
       "      <td>BTM</td>\n",
       "      <td>5124</td>\n",
       "    </tr>\n",
       "    <tr>\n",
       "      <th>1</th>\n",
       "      <td>HSR</td>\n",
       "      <td>2523</td>\n",
       "    </tr>\n",
       "    <tr>\n",
       "      <th>2</th>\n",
       "      <td>Koramangala 5th Block</td>\n",
       "      <td>2504</td>\n",
       "    </tr>\n",
       "    <tr>\n",
       "      <th>3</th>\n",
       "      <td>JP Nagar</td>\n",
       "      <td>2235</td>\n",
       "    </tr>\n",
       "    <tr>\n",
       "      <th>4</th>\n",
       "      <td>Whitefield</td>\n",
       "      <td>2144</td>\n",
       "    </tr>\n",
       "  </tbody>\n",
       "</table>\n",
       "</div>"
      ],
      "text/plain": [
       "                    Name  count\n",
       "0                    BTM   5124\n",
       "1                    HSR   2523\n",
       "2  Koramangala 5th Block   2504\n",
       "3               JP Nagar   2235\n",
       "4             Whitefield   2144"
      ]
     },
     "execution_count": 76,
     "metadata": {},
     "output_type": "execute_result"
    }
   ],
   "source": [
    "# merging both the data frames on the basis of common (feature i.e; name) to get the total no. of restaurants at each location\n",
    "Restaurant_locations=Rest_locations.merge(locations,on='Name',how=\"left\").dropna()  # used for spatial analysis\n",
    "Restaurant_locations.head()"
   ]
  },
  {
   "cell_type": "code",
   "execution_count": 77,
   "id": "f3b18b15",
   "metadata": {
    "execution": {
     "iopub.execute_input": "2022-04-18T16:18:13.180751Z",
     "iopub.status.busy": "2022-04-18T16:18:13.180190Z",
     "iopub.status.idle": "2022-04-18T16:18:13.183574Z",
     "shell.execute_reply": "2022-04-18T16:18:13.182983Z"
    },
    "papermill": {
     "duration": 0.174236,
     "end_time": "2022-04-18T16:18:13.185559",
     "exception": false,
     "start_time": "2022-04-18T16:18:13.011323",
     "status": "completed"
    },
    "tags": []
   },
   "outputs": [],
   "source": [
    "#-- Spatial analysis"
   ]
  },
  {
   "cell_type": "code",
   "execution_count": 78,
   "id": "31ee261d",
   "metadata": {
    "execution": {
     "iopub.execute_input": "2022-04-18T16:18:13.512967Z",
     "iopub.status.busy": "2022-04-18T16:18:13.512400Z",
     "iopub.status.idle": "2022-04-18T16:18:13.515630Z",
     "shell.execute_reply": "2022-04-18T16:18:13.514960Z"
    },
    "papermill": {
     "duration": 0.167002,
     "end_time": "2022-04-18T16:18:13.517691",
     "exception": false,
     "start_time": "2022-04-18T16:18:13.350689",
     "status": "completed"
    },
    "tags": []
   },
   "outputs": [],
   "source": [
    "## ANALYSING CUSTOMER BEHAVIOUR USING WORDCLOUD\n",
    "#1 Analyze customer preference (likes/dislikes)"
   ]
  },
  {
   "cell_type": "code",
   "execution_count": 79,
   "id": "cb2f0542",
   "metadata": {
    "execution": {
     "iopub.execute_input": "2022-04-18T16:18:13.848908Z",
     "iopub.status.busy": "2022-04-18T16:18:13.848328Z",
     "iopub.status.idle": "2022-04-18T16:18:13.894180Z",
     "shell.execute_reply": "2022-04-18T16:18:13.893002Z"
    },
    "papermill": {
     "duration": 0.213567,
     "end_time": "2022-04-18T16:18:13.896940",
     "exception": false,
     "start_time": "2022-04-18T16:18:13.683373",
     "status": "completed"
    },
    "tags": []
   },
   "outputs": [],
   "source": [
    "# wordcloud-- data visualization technique used for representing text data in which the size of each word indicates its importance\n",
    "#-- bigger the size of dish, more it is liked \n",
    "from wordcloud import WordCloud, STOPWORDS  # STOPWORDS-- used to deal with unneccesary words like is, am are etc."
   ]
  },
  {
   "cell_type": "code",
   "execution_count": 80,
   "id": "df289bba",
   "metadata": {
    "execution": {
     "iopub.execute_input": "2022-04-18T16:18:14.234487Z",
     "iopub.status.busy": "2022-04-18T16:18:14.233962Z",
     "iopub.status.idle": "2022-04-18T16:18:14.270796Z",
     "shell.execute_reply": "2022-04-18T16:18:14.270162Z"
    },
    "papermill": {
     "duration": 0.205113,
     "end_time": "2022-04-18T16:18:14.272701",
     "exception": false,
     "start_time": "2022-04-18T16:18:14.067588",
     "status": "completed"
    },
    "tags": []
   },
   "outputs": [
    {
     "data": {
      "text/html": [
       "<div>\n",
       "<style scoped>\n",
       "    .dataframe tbody tr th:only-of-type {\n",
       "        vertical-align: middle;\n",
       "    }\n",
       "\n",
       "    .dataframe tbody tr th {\n",
       "        vertical-align: top;\n",
       "    }\n",
       "\n",
       "    .dataframe thead th {\n",
       "        text-align: right;\n",
       "    }\n",
       "</style>\n",
       "<table border=\"1\" class=\"dataframe\">\n",
       "  <thead>\n",
       "    <tr style=\"text-align: right;\">\n",
       "      <th></th>\n",
       "      <th>url</th>\n",
       "      <th>address</th>\n",
       "      <th>name</th>\n",
       "      <th>online_order</th>\n",
       "      <th>book_table</th>\n",
       "      <th>rate</th>\n",
       "      <th>votes</th>\n",
       "      <th>phone</th>\n",
       "      <th>location</th>\n",
       "      <th>rest_type</th>\n",
       "      <th>dish_liked</th>\n",
       "      <th>cuisines</th>\n",
       "      <th>approx_cost(for two people)</th>\n",
       "      <th>reviews_list</th>\n",
       "      <th>menu_item</th>\n",
       "      <th>listed_in(type)</th>\n",
       "      <th>listed_in(city)</th>\n",
       "      <th>Top_types</th>\n",
       "    </tr>\n",
       "  </thead>\n",
       "  <tbody>\n",
       "    <tr>\n",
       "      <th>3</th>\n",
       "      <td>https://www.zomato.com/bangalore/addhuri-udupi...</td>\n",
       "      <td>1st Floor, Annakuteera, 3rd Stage, Banashankar...</td>\n",
       "      <td>Addhuri Udupi Bhojana</td>\n",
       "      <td>No</td>\n",
       "      <td>No</td>\n",
       "      <td>3.7</td>\n",
       "      <td>88</td>\n",
       "      <td>+91 9620009302</td>\n",
       "      <td>Banashankari</td>\n",
       "      <td>Quick Bites</td>\n",
       "      <td>Masala Dosa</td>\n",
       "      <td>South Indian, North Indian</td>\n",
       "      <td>300.0</td>\n",
       "      <td>[('Rated 4.0', \"RATED\\n  Great food and proper...</td>\n",
       "      <td>[]</td>\n",
       "      <td>Buffet</td>\n",
       "      <td>Banashankari</td>\n",
       "      <td>Quick Bites + Casual Dining</td>\n",
       "    </tr>\n",
       "    <tr>\n",
       "      <th>31</th>\n",
       "      <td>https://www.zomato.com/bangalore/foodiction-1-...</td>\n",
       "      <td>2/1, 7th Main, Dwarakangar, Hosakeregalli, Ban...</td>\n",
       "      <td>Foodiction</td>\n",
       "      <td>Yes</td>\n",
       "      <td>No</td>\n",
       "      <td>2.8</td>\n",
       "      <td>506</td>\n",
       "      <td>+91 9916107070</td>\n",
       "      <td>Banashankari</td>\n",
       "      <td>Quick Bites</td>\n",
       "      <td>Burgers, Lassi, Chicken Grill, Naan, Momos, Ch...</td>\n",
       "      <td>North Indian, Fast Food, Chinese, Burger</td>\n",
       "      <td>500.0</td>\n",
       "      <td>[('Rated 1.0', \"RATED\\n  Worst restaurant ever...</td>\n",
       "      <td>[]</td>\n",
       "      <td>Delivery</td>\n",
       "      <td>Banashankari</td>\n",
       "      <td>Quick Bites + Casual Dining</td>\n",
       "    </tr>\n",
       "    <tr>\n",
       "      <th>34</th>\n",
       "      <td>https://www.zomato.com/bangalore/faasos-banash...</td>\n",
       "      <td>80, BDA Complex, 2nd Stage, Banashankari, Bang...</td>\n",
       "      <td>Faasos</td>\n",
       "      <td>Yes</td>\n",
       "      <td>No</td>\n",
       "      <td>4.2</td>\n",
       "      <td>415</td>\n",
       "      <td>+91 7700020020</td>\n",
       "      <td>Banashankari</td>\n",
       "      <td>Quick Bites</td>\n",
       "      <td>Rolls, Veggie Wrap, Chocolate Fantasy, Rice Bo...</td>\n",
       "      <td>North Indian, Biryani, Fast Food</td>\n",
       "      <td>500.0</td>\n",
       "      <td>[('Rated 3.0', 'RATED\\n  Not worth for the mon...</td>\n",
       "      <td>['Chole Kulcha Meal', 'Upvas Aloo Paratha With...</td>\n",
       "      <td>Delivery</td>\n",
       "      <td>Banashankari</td>\n",
       "      <td>Quick Bites + Casual Dining</td>\n",
       "    </tr>\n",
       "    <tr>\n",
       "      <th>36</th>\n",
       "      <td>https://www.zomato.com/bangalore/fast-and-fres...</td>\n",
       "      <td>32, 7th Main Road, Dwaraka Nagar,Near PES Coll...</td>\n",
       "      <td>Fast And Fresh</td>\n",
       "      <td>Yes</td>\n",
       "      <td>No</td>\n",
       "      <td>2.8</td>\n",
       "      <td>91</td>\n",
       "      <td>+91 9742974232</td>\n",
       "      <td>Banashankari</td>\n",
       "      <td>Quick Bites</td>\n",
       "      <td>NaN</td>\n",
       "      <td>North Indian, Chinese, Fast Food</td>\n",
       "      <td>400.0</td>\n",
       "      <td>[('Rated 1.0', 'RATED\\n  Half baked rice in a ...</td>\n",
       "      <td>[]</td>\n",
       "      <td>Delivery</td>\n",
       "      <td>Banashankari</td>\n",
       "      <td>Quick Bites + Casual Dining</td>\n",
       "    </tr>\n",
       "    <tr>\n",
       "      <th>39</th>\n",
       "      <td>https://www.zomato.com/bangalore/maruthi-davan...</td>\n",
       "      <td>556/A, Water Tank Road, 3rd Stage, Banashankar...</td>\n",
       "      <td>Maruthi Davangere Benne Dosa</td>\n",
       "      <td>Yes</td>\n",
       "      <td>No</td>\n",
       "      <td>4.0</td>\n",
       "      <td>17</td>\n",
       "      <td>+91 9019563485</td>\n",
       "      <td>Banashankari</td>\n",
       "      <td>Quick Bites</td>\n",
       "      <td>NaN</td>\n",
       "      <td>South Indian</td>\n",
       "      <td>150.0</td>\n",
       "      <td>[('Rated 5.0', \"RATED\\n  This restaurant serve...</td>\n",
       "      <td>['Benne Dosa', 'Benne Masala Dosa', 'Benne Kal...</td>\n",
       "      <td>Delivery</td>\n",
       "      <td>Banashankari</td>\n",
       "      <td>Quick Bites + Casual Dining</td>\n",
       "    </tr>\n",
       "  </tbody>\n",
       "</table>\n",
       "</div>"
      ],
      "text/plain": [
       "                                                  url  \\\n",
       "3   https://www.zomato.com/bangalore/addhuri-udupi...   \n",
       "31  https://www.zomato.com/bangalore/foodiction-1-...   \n",
       "34  https://www.zomato.com/bangalore/faasos-banash...   \n",
       "36  https://www.zomato.com/bangalore/fast-and-fres...   \n",
       "39  https://www.zomato.com/bangalore/maruthi-davan...   \n",
       "\n",
       "                                              address  \\\n",
       "3   1st Floor, Annakuteera, 3rd Stage, Banashankar...   \n",
       "31  2/1, 7th Main, Dwarakangar, Hosakeregalli, Ban...   \n",
       "34  80, BDA Complex, 2nd Stage, Banashankari, Bang...   \n",
       "36  32, 7th Main Road, Dwaraka Nagar,Near PES Coll...   \n",
       "39  556/A, Water Tank Road, 3rd Stage, Banashankar...   \n",
       "\n",
       "                            name online_order book_table  rate  votes  \\\n",
       "3          Addhuri Udupi Bhojana           No         No   3.7     88   \n",
       "31                    Foodiction          Yes         No   2.8    506   \n",
       "34                        Faasos          Yes         No   4.2    415   \n",
       "36                Fast And Fresh          Yes         No   2.8     91   \n",
       "39  Maruthi Davangere Benne Dosa          Yes         No   4.0     17   \n",
       "\n",
       "             phone      location    rest_type  \\\n",
       "3   +91 9620009302  Banashankari  Quick Bites   \n",
       "31  +91 9916107070  Banashankari  Quick Bites   \n",
       "34  +91 7700020020  Banashankari  Quick Bites   \n",
       "36  +91 9742974232  Banashankari  Quick Bites   \n",
       "39  +91 9019563485  Banashankari  Quick Bites   \n",
       "\n",
       "                                           dish_liked  \\\n",
       "3                                         Masala Dosa   \n",
       "31  Burgers, Lassi, Chicken Grill, Naan, Momos, Ch...   \n",
       "34  Rolls, Veggie Wrap, Chocolate Fantasy, Rice Bo...   \n",
       "36                                                NaN   \n",
       "39                                                NaN   \n",
       "\n",
       "                                    cuisines  approx_cost(for two people)  \\\n",
       "3                 South Indian, North Indian                        300.0   \n",
       "31  North Indian, Fast Food, Chinese, Burger                        500.0   \n",
       "34          North Indian, Biryani, Fast Food                        500.0   \n",
       "36          North Indian, Chinese, Fast Food                        400.0   \n",
       "39                              South Indian                        150.0   \n",
       "\n",
       "                                         reviews_list  \\\n",
       "3   [('Rated 4.0', \"RATED\\n  Great food and proper...   \n",
       "31  [('Rated 1.0', \"RATED\\n  Worst restaurant ever...   \n",
       "34  [('Rated 3.0', 'RATED\\n  Not worth for the mon...   \n",
       "36  [('Rated 1.0', 'RATED\\n  Half baked rice in a ...   \n",
       "39  [('Rated 5.0', \"RATED\\n  This restaurant serve...   \n",
       "\n",
       "                                            menu_item listed_in(type)  \\\n",
       "3                                                  []          Buffet   \n",
       "31                                                 []        Delivery   \n",
       "34  ['Chole Kulcha Meal', 'Upvas Aloo Paratha With...        Delivery   \n",
       "36                                                 []        Delivery   \n",
       "39  ['Benne Dosa', 'Benne Masala Dosa', 'Benne Kal...        Delivery   \n",
       "\n",
       "   listed_in(city)                    Top_types  \n",
       "3     Banashankari  Quick Bites + Casual Dining  \n",
       "31    Banashankari  Quick Bites + Casual Dining  \n",
       "34    Banashankari  Quick Bites + Casual Dining  \n",
       "36    Banashankari  Quick Bites + Casual Dining  \n",
       "39    Banashankari  Quick Bites + Casual Dining  "
      ]
     },
     "execution_count": 80,
     "metadata": {},
     "output_type": "execute_result"
    }
   ],
   "source": [
    "data=df[df['rest_type']=='Quick Bites']  # data w.r.t Quick Bites restaurants\n",
    "data.head()"
   ]
  },
  {
   "cell_type": "code",
   "execution_count": 81,
   "id": "86791b0b",
   "metadata": {
    "execution": {
     "iopub.execute_input": "2022-04-18T16:18:14.603651Z",
     "iopub.status.busy": "2022-04-18T16:18:14.602808Z",
     "iopub.status.idle": "2022-04-18T16:18:19.557780Z",
     "shell.execute_reply": "2022-04-18T16:18:19.556922Z"
    },
    "papermill": {
     "duration": 5.124823,
     "end_time": "2022-04-18T16:18:19.561754",
     "exception": false,
     "start_time": "2022-04-18T16:18:14.436931",
     "status": "completed"
    },
    "tags": []
   },
   "outputs": [
    {
     "data": {
      "text/plain": [
       "(-0.5, 1499.5, 1499.5, -0.5)"
      ]
     },
     "execution_count": 81,
     "metadata": {},
     "output_type": "execute_result"
    },
    {
     "data": {
      "image/png": "[encoded data removed]",
      "text/plain": [
       "<Figure size 720x432 with 1 Axes>"
      ]
     },
     "metadata": {
      "needs_background": "light"
     },
     "output_type": "display_data"
    }
   ],
   "source": [
    "# gather the data of dish_liked feature and then creat a wordcloud\n",
    "# created an empty list to store the entire data of popular dishes\n",
    "stopwords=set(STOPWORDS)\n",
    "dishes=''\n",
    "for word in data['dish_liked'].dropna():\n",
    "    words=word.split()\n",
    "    # Converts each token into lowercase \n",
    "    for i in range(len(words)): \n",
    "        words[i] = words[i].lower() \n",
    "    dishes=dishes+ \" \".join(words)+\" \"\n",
    "wordcloud = WordCloud(max_font_size=None, background_color='white', collocations=False,stopwords = stopwords,width=1500, height=1500).generate(dishes)\n",
    "plt.figure(figsize=(10,6))\n",
    "plt.imshow(wordcloud)\n",
    "plt.axis(\"off\")"
   ]
  },
  {
   "cell_type": "code",
   "execution_count": 82,
   "id": "7fc92389",
   "metadata": {
    "execution": {
     "iopub.execute_input": "2022-04-18T16:18:19.905621Z",
     "iopub.status.busy": "2022-04-18T16:18:19.904601Z",
     "iopub.status.idle": "2022-04-18T16:18:19.908938Z",
     "shell.execute_reply": "2022-04-18T16:18:19.908025Z"
    },
    "papermill": {
     "duration": 0.176817,
     "end_time": "2022-04-18T16:18:19.911084",
     "exception": false,
     "start_time": "2022-04-18T16:18:19.734267",
     "status": "completed"
    },
    "tags": []
   },
   "outputs": [],
   "source": [
    "## ANALYSING REVIEW OF RESTAURANT\n",
    "#1 Analyze review of particular restaurant"
   ]
  },
  {
   "cell_type": "code",
   "execution_count": 83,
   "id": "908de5e1",
   "metadata": {
    "execution": {
     "iopub.execute_input": "2022-04-18T16:18:20.248841Z",
     "iopub.status.busy": "2022-04-18T16:18:20.248533Z",
     "iopub.status.idle": "2022-04-18T16:18:20.252457Z",
     "shell.execute_reply": "2022-04-18T16:18:20.251546Z"
    },
    "papermill": {
     "duration": 0.174538,
     "end_time": "2022-04-18T16:18:20.254573",
     "exception": false,
     "start_time": "2022-04-18T16:18:20.080035",
     "status": "completed"
    },
    "tags": []
   },
   "outputs": [],
   "source": [
    "# fetch the data of review_list column\n",
    "# cleaning the data (removing special characters, extra spaces, repeated words)\n",
    "# store the data in a word cloud\n",
    "# display the wordcloud of reviews"
   ]
  },
  {
   "cell_type": "code",
   "execution_count": 84,
   "id": "fd96e056",
   "metadata": {
    "execution": {
     "iopub.execute_input": "2022-04-18T16:18:20.588844Z",
     "iopub.status.busy": "2022-04-18T16:18:20.588268Z",
     "iopub.status.idle": "2022-04-18T16:18:20.594974Z",
     "shell.execute_reply": "2022-04-18T16:18:20.594107Z"
    },
    "papermill": {
     "duration": 0.175895,
     "end_time": "2022-04-18T16:18:20.597279",
     "exception": false,
     "start_time": "2022-04-18T16:18:20.421384",
     "status": "completed"
    },
    "tags": []
   },
   "outputs": [
    {
     "data": {
      "text/plain": [
       "'[(\\'rated 4.0\\', \\'rated\\\\n  a beautiful place to dine in.the interiors take you back to the mughal era. the lightings are just perfect.we went there on the occasion of christmas and so they had only limited items available. but the taste and service was not compromised at all.the only complaint is that the breads could have been better.would surely like to come here again.\\'), (\\'rated 4.0\\', \\'rated\\\\n  i was here for dinner with my family on a weekday. the restaurant was completely empty. ambience is good with some good old hindi music. seating arrangement are good too. we ordered masala papad, panner and baby corn starters, lemon and corrionder soup, butter roti, olive and chilli paratha. food was fresh and good, service is good too. good for family hangout.\\\\ncheers\\'), (\\'rated 2.0\\', \\'rated\\\\n  its a restaurant near to banashankari bda. me along with few of my office friends visited to have buffet but unfortunately they only provide veg buffet. on inquiring they said this place is mostly visited by vegetarians. anyways we ordered ala carte items which took ages to come. food was ok ok. definitely not visiting anymore.\\'), (\\'rated 4.0\\', \\'rated\\\\n  we went here on a weekend and one of us had the buffet while two of us took ala carte. firstly the ambience and service of this place is great! the buffet had a lot of items and the good was good. we had a pumpkin halwa intm the dessert which was amazing. must try! the kulchas are great here. cheers!\\'), (\\'rated 5.0\\', \\'rated\\\\n  the best thing about the place is itã\\x83\\\\x83ã\\x82\\\\x83ã\\x83\\\\x82ã\\x82\\\\x82ã\\x83\\\\x83ã\\x82\\\\x82ã\\x83\\\\x82ã\\x82\\\\x92s ambiance. second best thing was yummy ? food. we try buffet and buffet food was not disappointed us.\\\\ntest ?. ?? ?? ?? ?? ??\\\\nquality ?. ??????????.\\\\nservice: staff was very professional and friendly.\\\\n\\\\noverall experience was excellent.\\\\n\\\\nsubirmajumder85.wixsite.com\\'), (\\'rated 5.0\\', \\'rated\\\\n  great food and pleasant ambience. expensive but coll place to chill and relax......\\\\n\\\\nservice is really very very good and friendly staff...\\\\n\\\\nfood : 5/5\\\\nservice : 5/5\\\\nambience :5/5\\\\noverall :5/5\\'), (\\'rated 4.0\\', \\'rated\\\\n  good ambience with tasty food.\\\\ncheese chilli paratha with bhutta palak methi curry is a good combo.\\\\nlemon chicken in the starters is a must try item.\\\\negg fried rice was also quite tasty.\\\\nin the mocktails, recommend \"alice in junoon\". do not miss it.\\'), (\\'rated 4.0\\', \\'rated\\\\n  you canã\\x83\\\\x83ã\\x82\\\\x83ã\\x83\\\\x82ã\\x82\\\\x82ã\\x83\\\\x83ã\\x82\\\\x82ã\\x83\\\\x82ã\\x82\\\\x92t go wrong with jalsa. never been a fan of their buffet and thus always order alacarteã\\x83\\\\x83ã\\x82\\\\x83ã\\x83\\\\x82ã\\x82\\\\x82ã\\x83\\\\x83ã\\x82\\\\x82ã\\x83\\\\x82ã\\x82\\\\x92. service at times can be on the slower side but food is worth the wait.\\'), (\\'rated 5.0\\', \\'rated\\\\n  overdelighted by the service and food provided at this place. a royal and ethnic atmosphere builds a strong essence of being in india and also the quality and taste of food is truly authentic. i would totally recommend to visit this place once.\\'), (\\'rated 4.0\\', \\'rated\\\\n  the place is nice and comfortable. food wise all jalea outlets maintain a good standard. the soya chaap was a standout dish. clearly one of trademark dish as per me and a must try.\\\\n\\\\nthe only concern is the parking. it very congested and limited to just 5cars. the basement parking is very steep and makes it cumbersome\\'), (\\'rated 4.0\\', \\'rated\\\\n  the place is nice and comfortable. food wise all jalea outlets maintain a good standard. the soya chaap was a standout dish. clearly one of trademark dish as per me and a must try.\\\\n\\\\nthe only concern is the parking. it very congested and limited to just 5cars. the basement parking is very steep and makes it cumbersome\\'), (\\'rated 4.0\\', \\'rated\\\\n  the place is nice and comfortable. food wise all jalea outlets maintain a good standard. the soya chaap was a standout dish. clearly one of trademark dish as per me and a must try.\\\\n\\\\nthe only concern is the parking. it very congested and limited to just 5cars. the basement parking is very steep and makes it cumbersome\\')]'"
      ]
     },
     "execution_count": 84,
     "metadata": {},
     "output_type": "execute_result"
    }
   ],
   "source": [
    "# fetch the data of review_list column\n",
    "df['reviews_list'][0]\n",
    "data=df['reviews_list'][0].lower()\n",
    "data"
   ]
  },
  {
   "cell_type": "code",
   "execution_count": 85,
   "id": "dc1bcead",
   "metadata": {
    "execution": {
     "iopub.execute_input": "2022-04-18T16:18:20.934308Z",
     "iopub.status.busy": "2022-04-18T16:18:20.934015Z",
     "iopub.status.idle": "2022-04-18T16:18:20.944994Z",
     "shell.execute_reply": "2022-04-18T16:18:20.944171Z"
    },
    "papermill": {
     "duration": 0.181745,
     "end_time": "2022-04-18T16:18:20.946929",
     "exception": false,
     "start_time": "2022-04-18T16:18:20.765184",
     "status": "completed"
    },
    "tags": []
   },
   "outputs": [
    {
     "data": {
      "text/plain": [
       "' rated rated n a beautiful place to dine in the interiors take you back to the mughal era the lightings are just perfect we went there on the occasion of christmas and so they had only limited items available but the taste and service was not compromised at all the only complaint is that the breads could have been better would surely like to come here again rated rated n i was here for dinner with my family on a weekday the restaurant was completely empty ambience is good with some good old hindi music seating arrangement are good too we ordered masala papad panner and baby corn starters lemon and corrionder soup butter roti olive and chilli paratha food was fresh and good service is good too good for family hangout ncheers rated rated n its a restaurant near to banashankari bda me along with few of my office friends visited to have buffet but unfortunately they only provide veg buffet on inquiring they said this place is mostly visited by vegetarians anyways we ordered ala carte items which took ages to come food was ok ok definitely not visiting anymore rated rated n we went here on a weekend and one of us had the buffet while two of us took ala carte firstly the ambience and service of this place is great the buffet had a lot of items and the good was good we had a pumpkin halwa intm the dessert which was amazing must try the kulchas are great here cheers rated rated n the best thing about the place is it s ambiance second best thing was yummy food we try buffet and buffet food was not disappointed us ntest nquality nservice staff was very professional and friendly n noverall e perience was e cellent n nsubirmajumder wi site com rated rated n great food and pleasant ambience e pensive but coll place to chill and rela n nservice is really very very good and friendly staff n nfood nservice nambience noverall rated rated n good ambience with tasty food ncheese chilli paratha with bhutta palak methi curry is a good combo nlemon chicken in the starters is a must try item negg fried rice was also quite tasty nin the mocktails recommend alice in junoon do not miss it rated rated n you can t go wrong with jalsa never been a fan of their buffet and thus always order alacarte service at times can be on the slower side but food is worth the wait rated rated n overdelighted by the service and food provided at this place a royal and ethnic atmosphere builds a strong essence of being in india and also the quality and taste of food is truly authentic i would totally recommend to visit this place once rated rated n the place is nice and comfortable food wise all jalea outlets maintain a good standard the soya chaap was a standout dish clearly one of trademark dish as per me and a must try n nthe only concern is the parking it very congested and limited to just cars the basement parking is very steep and makes it cumbersome rated rated n the place is nice and comfortable food wise all jalea outlets maintain a good standard the soya chaap was a standout dish clearly one of trademark dish as per me and a must try n nthe only concern is the parking it very congested and limited to just cars the basement parking is very steep and makes it cumbersome rated rated n the place is nice and comfortable food wise all jalea outlets maintain a good standard the soya chaap was a standout dish clearly one of trademark dish as per me and a must try n nthe only concern is the parking it very congested and limited to just cars the basement parking is very steep and makes it cumbersome '"
      ]
     },
     "execution_count": 85,
     "metadata": {},
     "output_type": "execute_result"
    }
   ],
   "source": [
    "# cleaning the data (removing special characters) using substitute function of regular expression module\n",
    "import re  \n",
    "data2=re.sub('[^a-zA-Z]', ' ',data)  # except words...replace other things with white space\n",
    "data2\n",
    "\n",
    "# cleaning the data (removing repeated words)\n",
    "data3=re.sub('repeat', ' ',data2)\n",
    "data3\n",
    "\n",
    "# cleaning the data (removing repeated characters)\n",
    "data4=re.sub('x', ' ', data3)\n",
    "data4\n",
    "\n",
    "# cleaning the data (removing extra white spaces)\n",
    "data5=re.sub(' +',' ',data4)\n",
    "data5"
   ]
  },
  {
   "cell_type": "code",
   "execution_count": 86,
   "id": "1c4a8438",
   "metadata": {
    "execution": {
     "iopub.execute_input": "2022-04-18T16:18:21.286675Z",
     "iopub.status.busy": "2022-04-18T16:18:21.285785Z",
     "iopub.status.idle": "2022-04-18T16:18:21.304005Z",
     "shell.execute_reply": "2022-04-18T16:18:21.303116Z"
    },
    "papermill": {
     "duration": 0.189724,
     "end_time": "2022-04-18T16:18:21.306449",
     "exception": false,
     "start_time": "2022-04-18T16:18:21.116725",
     "status": "completed"
    },
    "tags": []
   },
   "outputs": [],
   "source": [
    "dataset=df[df['rest_type']=='Quick Bites']  # data w.r.t some Quick Bite restaurants"
   ]
  },
  {
   "cell_type": "code",
   "execution_count": 87,
   "id": "00169a01",
   "metadata": {
    "execution": {
     "iopub.execute_input": "2022-04-18T16:18:21.651604Z",
     "iopub.status.busy": "2022-04-18T16:18:21.651285Z",
     "iopub.status.idle": "2022-04-18T16:18:35.792020Z",
     "shell.execute_reply": "2022-04-18T16:18:35.791153Z"
    },
    "papermill": {
     "duration": 14.314063,
     "end_time": "2022-04-18T16:18:35.794486",
     "exception": false,
     "start_time": "2022-04-18T16:18:21.480423",
     "status": "completed"
    },
    "tags": []
   },
   "outputs": [],
   "source": [
    "# store the data in a word cloud\n",
    "total_review=' '  # empty list to store all the reviews for word cloud\n",
    "for review in dataset['reviews_list']:  # accessing the review list column\n",
    "    review=review.lower()\n",
    "    review=re.sub('[^a-zA-Z]', ' ',review)\n",
    "    review=re.sub('rated', ' ',review)\n",
    "    review=re.sub('x',' ',review)\n",
    "    review=re.sub(' +',' ',review)\n",
    "    total_review=total_review + str(review)"
   ]
  },
  {
   "cell_type": "code",
   "execution_count": 88,
   "id": "11ae5130",
   "metadata": {
    "execution": {
     "iopub.execute_input": "2022-04-18T16:18:36.142776Z",
     "iopub.status.busy": "2022-04-18T16:18:36.142081Z",
     "iopub.status.idle": "2022-04-18T16:19:10.828598Z",
     "shell.execute_reply": "2022-04-18T16:19:10.827922Z"
    },
    "papermill": {
     "duration": 34.869081,
     "end_time": "2022-04-18T16:19:10.833284",
     "exception": false,
     "start_time": "2022-04-18T16:18:35.964203",
     "status": "completed"
    },
    "tags": []
   },
   "outputs": [
    {
     "data": {
      "text/plain": [
       "(-0.5, 799.5, 799.5, -0.5)"
      ]
     },
     "execution_count": 88,
     "metadata": {},
     "output_type": "execute_result"
    },
    {
     "data": {
      "image/png": "[encoded data removed]",
      "text/plain": [
       "<Figure size 864x576 with 1 Axes>"
      ]
     },
     "metadata": {
      "needs_background": "light"
     },
     "output_type": "display_data"
    }
   ],
   "source": [
    "# display the wordcloud of reviews\n",
    "wordcloud = WordCloud(width = 800, height = 800, \n",
    "                background_color ='white', \n",
    "                stopwords = stopwords, \n",
    "                min_font_size = 10).generate(total_review) \n",
    "# plot the WordCloud image                        \n",
    "plt.figure(figsize = (12, 8)) \n",
    "plt.imshow(wordcloud) \n",
    "plt.axis(\"off\") "
   ]
  },
  {
   "cell_type": "code",
   "execution_count": 89,
   "id": "855bee03",
   "metadata": {
    "execution": {
     "iopub.execute_input": "2022-04-18T16:19:11.191949Z",
     "iopub.status.busy": "2022-04-18T16:19:11.191454Z",
     "iopub.status.idle": "2022-04-18T16:19:11.194501Z",
     "shell.execute_reply": "2022-04-18T16:19:11.193949Z"
    },
    "papermill": {
     "duration": 0.185839,
     "end_time": "2022-04-18T16:19:11.196406",
     "exception": false,
     "start_time": "2022-04-18T16:19:11.010567",
     "status": "completed"
    },
    "tags": []
   },
   "outputs": [],
   "source": [
    "## PREPARING THE DATA FOR MODELLING PURPOSE\n",
    "#1 preparing the data for ML modelling\n",
    "#2 create target variable"
   ]
  },
  {
   "cell_type": "code",
   "execution_count": 90,
   "id": "b0a3e295",
   "metadata": {
    "execution": {
     "iopub.execute_input": "2022-04-18T16:19:11.551999Z",
     "iopub.status.busy": "2022-04-18T16:19:11.551498Z",
     "iopub.status.idle": "2022-04-18T16:19:11.554669Z",
     "shell.execute_reply": "2022-04-18T16:19:11.554094Z"
    },
    "papermill": {
     "duration": 0.182422,
     "end_time": "2022-04-18T16:19:11.556686",
     "exception": false,
     "start_time": "2022-04-18T16:19:11.374264",
     "status": "completed"
    },
    "tags": []
   },
   "outputs": [],
   "source": [
    "# Imbalance data --outliers cause imbalance data\n",
    "# outliers -- large deviations in the values of training data which causes less accurate models and poor results\n",
    "# --if a data is trained w.r.t any ML algo and consist of outliers; \n",
    "# --then if new data is to be predicted on the basis of trained data, it will give poor and less accurate results."
   ]
  },
  {
   "cell_type": "code",
   "execution_count": 91,
   "id": "6ece2ca9",
   "metadata": {
    "execution": {
     "iopub.execute_input": "2022-04-18T16:19:11.912071Z",
     "iopub.status.busy": "2022-04-18T16:19:11.911618Z",
     "iopub.status.idle": "2022-04-18T16:19:11.933153Z",
     "shell.execute_reply": "2022-04-18T16:19:11.932310Z"
    },
    "papermill": {
     "duration": 0.202394,
     "end_time": "2022-04-18T16:19:11.935236",
     "exception": false,
     "start_time": "2022-04-18T16:19:11.732842",
     "status": "completed"
    },
    "tags": []
   },
   "outputs": [
    {
     "data": {
      "text/html": [
       "<div>\n",
       "<style scoped>\n",
       "    .dataframe tbody tr th:only-of-type {\n",
       "        vertical-align: middle;\n",
       "    }\n",
       "\n",
       "    .dataframe tbody tr th {\n",
       "        vertical-align: top;\n",
       "    }\n",
       "\n",
       "    .dataframe thead th {\n",
       "        text-align: right;\n",
       "    }\n",
       "</style>\n",
       "<table border=\"1\" class=\"dataframe\">\n",
       "  <thead>\n",
       "    <tr style=\"text-align: right;\">\n",
       "      <th></th>\n",
       "      <th>url</th>\n",
       "      <th>address</th>\n",
       "      <th>name</th>\n",
       "      <th>online_order</th>\n",
       "      <th>book_table</th>\n",
       "      <th>rate</th>\n",
       "      <th>votes</th>\n",
       "      <th>phone</th>\n",
       "      <th>location</th>\n",
       "      <th>rest_type</th>\n",
       "      <th>dish_liked</th>\n",
       "      <th>cuisines</th>\n",
       "      <th>approx_cost(for two people)</th>\n",
       "      <th>reviews_list</th>\n",
       "      <th>menu_item</th>\n",
       "      <th>listed_in(type)</th>\n",
       "      <th>listed_in(city)</th>\n",
       "      <th>Top_types</th>\n",
       "    </tr>\n",
       "  </thead>\n",
       "  <tbody>\n",
       "    <tr>\n",
       "      <th>0</th>\n",
       "      <td>https://www.zomato.com/bangalore/jalsa-banasha...</td>\n",
       "      <td>942, 21st Main Road, 2nd Stage, Banashankari, ...</td>\n",
       "      <td>Jalsa</td>\n",
       "      <td>Yes</td>\n",
       "      <td>Yes</td>\n",
       "      <td>4.1</td>\n",
       "      <td>775</td>\n",
       "      <td>080 42297555\\r\\n+91 9743772233</td>\n",
       "      <td>Banashankari</td>\n",
       "      <td>Casual Dining</td>\n",
       "      <td>Pasta, Lunch Buffet, Masala Papad, Paneer Laja...</td>\n",
       "      <td>North Indian, Mughlai, Chinese</td>\n",
       "      <td>800.0</td>\n",
       "      <td>[('Rated 4.0', 'RATED\\n  A beautiful place to ...</td>\n",
       "      <td>[]</td>\n",
       "      <td>Buffet</td>\n",
       "      <td>Banashankari</td>\n",
       "      <td>Quick Bites + Casual Dining</td>\n",
       "    </tr>\n",
       "    <tr>\n",
       "      <th>1</th>\n",
       "      <td>https://www.zomato.com/bangalore/spice-elephan...</td>\n",
       "      <td>2nd Floor, 80 Feet Road, Near Big Bazaar, 6th ...</td>\n",
       "      <td>Spice Elephant</td>\n",
       "      <td>Yes</td>\n",
       "      <td>No</td>\n",
       "      <td>4.1</td>\n",
       "      <td>787</td>\n",
       "      <td>080 41714161</td>\n",
       "      <td>Banashankari</td>\n",
       "      <td>Casual Dining</td>\n",
       "      <td>Momos, Lunch Buffet, Chocolate Nirvana, Thai G...</td>\n",
       "      <td>Chinese, North Indian, Thai</td>\n",
       "      <td>800.0</td>\n",
       "      <td>[('Rated 4.0', 'RATED\\n  Had been here for din...</td>\n",
       "      <td>[]</td>\n",
       "      <td>Buffet</td>\n",
       "      <td>Banashankari</td>\n",
       "      <td>Quick Bites + Casual Dining</td>\n",
       "    </tr>\n",
       "    <tr>\n",
       "      <th>2</th>\n",
       "      <td>https://www.zomato.com/SanchurroBangalore?cont...</td>\n",
       "      <td>1112, Next to KIMS Medical College, 17th Cross...</td>\n",
       "      <td>San Churro Cafe</td>\n",
       "      <td>Yes</td>\n",
       "      <td>No</td>\n",
       "      <td>3.8</td>\n",
       "      <td>918</td>\n",
       "      <td>+91 9663487993</td>\n",
       "      <td>Banashankari</td>\n",
       "      <td>Cafe, Casual Dining</td>\n",
       "      <td>Churros, Cannelloni, Minestrone Soup, Hot Choc...</td>\n",
       "      <td>Cafe, Mexican, Italian</td>\n",
       "      <td>800.0</td>\n",
       "      <td>[('Rated 3.0', \"RATED\\n  Ambience is not that ...</td>\n",
       "      <td>[]</td>\n",
       "      <td>Buffet</td>\n",
       "      <td>Banashankari</td>\n",
       "      <td>others</td>\n",
       "    </tr>\n",
       "    <tr>\n",
       "      <th>3</th>\n",
       "      <td>https://www.zomato.com/bangalore/addhuri-udupi...</td>\n",
       "      <td>1st Floor, Annakuteera, 3rd Stage, Banashankar...</td>\n",
       "      <td>Addhuri Udupi Bhojana</td>\n",
       "      <td>No</td>\n",
       "      <td>No</td>\n",
       "      <td>3.7</td>\n",
       "      <td>88</td>\n",
       "      <td>+91 9620009302</td>\n",
       "      <td>Banashankari</td>\n",
       "      <td>Quick Bites</td>\n",
       "      <td>Masala Dosa</td>\n",
       "      <td>South Indian, North Indian</td>\n",
       "      <td>300.0</td>\n",
       "      <td>[('Rated 4.0', \"RATED\\n  Great food and proper...</td>\n",
       "      <td>[]</td>\n",
       "      <td>Buffet</td>\n",
       "      <td>Banashankari</td>\n",
       "      <td>Quick Bites + Casual Dining</td>\n",
       "    </tr>\n",
       "    <tr>\n",
       "      <th>4</th>\n",
       "      <td>https://www.zomato.com/bangalore/grand-village...</td>\n",
       "      <td>10, 3rd Floor, Lakshmi Associates, Gandhi Baza...</td>\n",
       "      <td>Grand Village</td>\n",
       "      <td>No</td>\n",
       "      <td>No</td>\n",
       "      <td>3.8</td>\n",
       "      <td>166</td>\n",
       "      <td>+91 8026612447\\r\\n+91 9901210005</td>\n",
       "      <td>Basavanagudi</td>\n",
       "      <td>Casual Dining</td>\n",
       "      <td>Panipuri, Gol Gappe</td>\n",
       "      <td>North Indian, Rajasthani</td>\n",
       "      <td>600.0</td>\n",
       "      <td>[('Rated 4.0', 'RATED\\n  Very good restaurant ...</td>\n",
       "      <td>[]</td>\n",
       "      <td>Buffet</td>\n",
       "      <td>Banashankari</td>\n",
       "      <td>Quick Bites + Casual Dining</td>\n",
       "    </tr>\n",
       "  </tbody>\n",
       "</table>\n",
       "</div>"
      ],
      "text/plain": [
       "                                                 url  \\\n",
       "0  https://www.zomato.com/bangalore/jalsa-banasha...   \n",
       "1  https://www.zomato.com/bangalore/spice-elephan...   \n",
       "2  https://www.zomato.com/SanchurroBangalore?cont...   \n",
       "3  https://www.zomato.com/bangalore/addhuri-udupi...   \n",
       "4  https://www.zomato.com/bangalore/grand-village...   \n",
       "\n",
       "                                             address                   name  \\\n",
       "0  942, 21st Main Road, 2nd Stage, Banashankari, ...                  Jalsa   \n",
       "1  2nd Floor, 80 Feet Road, Near Big Bazaar, 6th ...         Spice Elephant   \n",
       "2  1112, Next to KIMS Medical College, 17th Cross...        San Churro Cafe   \n",
       "3  1st Floor, Annakuteera, 3rd Stage, Banashankar...  Addhuri Udupi Bhojana   \n",
       "4  10, 3rd Floor, Lakshmi Associates, Gandhi Baza...          Grand Village   \n",
       "\n",
       "  online_order book_table  rate  votes                             phone  \\\n",
       "0          Yes        Yes   4.1    775    080 42297555\\r\\n+91 9743772233   \n",
       "1          Yes         No   4.1    787                      080 41714161   \n",
       "2          Yes         No   3.8    918                    +91 9663487993   \n",
       "3           No         No   3.7     88                    +91 9620009302   \n",
       "4           No         No   3.8    166  +91 8026612447\\r\\n+91 9901210005   \n",
       "\n",
       "       location            rest_type  \\\n",
       "0  Banashankari        Casual Dining   \n",
       "1  Banashankari        Casual Dining   \n",
       "2  Banashankari  Cafe, Casual Dining   \n",
       "3  Banashankari          Quick Bites   \n",
       "4  Basavanagudi        Casual Dining   \n",
       "\n",
       "                                          dish_liked  \\\n",
       "0  Pasta, Lunch Buffet, Masala Papad, Paneer Laja...   \n",
       "1  Momos, Lunch Buffet, Chocolate Nirvana, Thai G...   \n",
       "2  Churros, Cannelloni, Minestrone Soup, Hot Choc...   \n",
       "3                                        Masala Dosa   \n",
       "4                                Panipuri, Gol Gappe   \n",
       "\n",
       "                         cuisines  approx_cost(for two people)  \\\n",
       "0  North Indian, Mughlai, Chinese                        800.0   \n",
       "1     Chinese, North Indian, Thai                        800.0   \n",
       "2          Cafe, Mexican, Italian                        800.0   \n",
       "3      South Indian, North Indian                        300.0   \n",
       "4        North Indian, Rajasthani                        600.0   \n",
       "\n",
       "                                        reviews_list menu_item  \\\n",
       "0  [('Rated 4.0', 'RATED\\n  A beautiful place to ...        []   \n",
       "1  [('Rated 4.0', 'RATED\\n  Had been here for din...        []   \n",
       "2  [('Rated 3.0', \"RATED\\n  Ambience is not that ...        []   \n",
       "3  [('Rated 4.0', \"RATED\\n  Great food and proper...        []   \n",
       "4  [('Rated 4.0', 'RATED\\n  Very good restaurant ...        []   \n",
       "\n",
       "  listed_in(type) listed_in(city)                    Top_types  \n",
       "0          Buffet    Banashankari  Quick Bites + Casual Dining  \n",
       "1          Buffet    Banashankari  Quick Bites + Casual Dining  \n",
       "2          Buffet    Banashankari                       others  \n",
       "3          Buffet    Banashankari  Quick Bites + Casual Dining  \n",
       "4          Buffet    Banashankari  Quick Bites + Casual Dining  "
      ]
     },
     "execution_count": 91,
     "metadata": {},
     "output_type": "execute_result"
    }
   ],
   "source": [
    "df.head()"
   ]
  },
  {
   "cell_type": "code",
   "execution_count": 92,
   "id": "1670cfed",
   "metadata": {
    "execution": {
     "iopub.execute_input": "2022-04-18T16:19:12.304214Z",
     "iopub.status.busy": "2022-04-18T16:19:12.303545Z",
     "iopub.status.idle": "2022-04-18T16:19:12.308310Z",
     "shell.execute_reply": "2022-04-18T16:19:12.307077Z"
    },
    "papermill": {
     "duration": 0.195338,
     "end_time": "2022-04-18T16:19:12.310795",
     "exception": false,
     "start_time": "2022-04-18T16:19:12.115457",
     "status": "completed"
    },
    "tags": []
   },
   "outputs": [],
   "source": [
    "# splitting the data in two parts;\n",
    "# 1st for the new restaurants-- rating--0\n",
    "# 2nd for training purpose-- rating>0 for ML model"
   ]
  },
  {
   "cell_type": "code",
   "execution_count": 93,
   "id": "d9b8848b",
   "metadata": {
    "execution": {
     "iopub.execute_input": "2022-04-18T16:19:12.669856Z",
     "iopub.status.busy": "2022-04-18T16:19:12.669227Z",
     "iopub.status.idle": "2022-04-18T16:19:12.713576Z",
     "shell.execute_reply": "2022-04-18T16:19:12.712351Z"
    },
    "papermill": {
     "duration": 0.22806,
     "end_time": "2022-04-18T16:19:12.716624",
     "exception": false,
     "start_time": "2022-04-18T16:19:12.488564",
     "status": "completed"
    },
    "tags": []
   },
   "outputs": [],
   "source": [
    "# created a function which distinguish between new restaurants and the restaurants that are already rated(for ML --training)\n",
    "def assign(x):\n",
    "    if x>0:\n",
    "        return 1  # for training\n",
    "    else:\n",
    "        return 0  # for new restaurants\n",
    "df['rated']=df['rate'].apply(assign)"
   ]
  },
  {
   "cell_type": "code",
   "execution_count": 94,
   "id": "ca8da1a6",
   "metadata": {
    "execution": {
     "iopub.execute_input": "2022-04-18T16:19:13.076240Z",
     "iopub.status.busy": "2022-04-18T16:19:13.075963Z",
     "iopub.status.idle": "2022-04-18T16:19:13.097414Z",
     "shell.execute_reply": "2022-04-18T16:19:13.096603Z"
    },
    "papermill": {
     "duration": 0.203628,
     "end_time": "2022-04-18T16:19:13.099641",
     "exception": false,
     "start_time": "2022-04-18T16:19:12.896013",
     "status": "completed"
    },
    "tags": []
   },
   "outputs": [],
   "source": [
    "# splitting the data frames\n",
    "new_restaurants = df[df['rated'] == 0]\n",
    "train_val_restaurants = df.query('rated == 1')"
   ]
  },
  {
   "cell_type": "code",
   "execution_count": 95,
   "id": "01c94ae0",
   "metadata": {
    "execution": {
     "iopub.execute_input": "2022-04-18T16:19:13.454439Z",
     "iopub.status.busy": "2022-04-18T16:19:13.454142Z",
     "iopub.status.idle": "2022-04-18T16:19:13.478025Z",
     "shell.execute_reply": "2022-04-18T16:19:13.476689Z"
    },
    "papermill": {
     "duration": 0.204008,
     "end_time": "2022-04-18T16:19:13.480311",
     "exception": false,
     "start_time": "2022-04-18T16:19:13.276303",
     "status": "completed"
    },
    "tags": []
   },
   "outputs": [
    {
     "data": {
      "text/html": [
       "<div>\n",
       "<style scoped>\n",
       "    .dataframe tbody tr th:only-of-type {\n",
       "        vertical-align: middle;\n",
       "    }\n",
       "\n",
       "    .dataframe tbody tr th {\n",
       "        vertical-align: top;\n",
       "    }\n",
       "\n",
       "    .dataframe thead th {\n",
       "        text-align: right;\n",
       "    }\n",
       "</style>\n",
       "<table border=\"1\" class=\"dataframe\">\n",
       "  <thead>\n",
       "    <tr style=\"text-align: right;\">\n",
       "      <th></th>\n",
       "      <th>url</th>\n",
       "      <th>address</th>\n",
       "      <th>name</th>\n",
       "      <th>online_order</th>\n",
       "      <th>book_table</th>\n",
       "      <th>rate</th>\n",
       "      <th>votes</th>\n",
       "      <th>phone</th>\n",
       "      <th>location</th>\n",
       "      <th>rest_type</th>\n",
       "      <th>dish_liked</th>\n",
       "      <th>cuisines</th>\n",
       "      <th>approx_cost(for two people)</th>\n",
       "      <th>reviews_list</th>\n",
       "      <th>menu_item</th>\n",
       "      <th>listed_in(type)</th>\n",
       "      <th>listed_in(city)</th>\n",
       "      <th>Top_types</th>\n",
       "      <th>rated</th>\n",
       "    </tr>\n",
       "  </thead>\n",
       "  <tbody>\n",
       "    <tr>\n",
       "      <th>0</th>\n",
       "      <td>https://www.zomato.com/bangalore/jalsa-banasha...</td>\n",
       "      <td>942, 21st Main Road, 2nd Stage, Banashankari, ...</td>\n",
       "      <td>Jalsa</td>\n",
       "      <td>Yes</td>\n",
       "      <td>Yes</td>\n",
       "      <td>4.1</td>\n",
       "      <td>775</td>\n",
       "      <td>080 42297555\\r\\n+91 9743772233</td>\n",
       "      <td>Banashankari</td>\n",
       "      <td>Casual Dining</td>\n",
       "      <td>Pasta, Lunch Buffet, Masala Papad, Paneer Laja...</td>\n",
       "      <td>North Indian, Mughlai, Chinese</td>\n",
       "      <td>800.0</td>\n",
       "      <td>[('Rated 4.0', 'RATED\\n  A beautiful place to ...</td>\n",
       "      <td>[]</td>\n",
       "      <td>Buffet</td>\n",
       "      <td>Banashankari</td>\n",
       "      <td>Quick Bites + Casual Dining</td>\n",
       "      <td>1</td>\n",
       "    </tr>\n",
       "    <tr>\n",
       "      <th>1</th>\n",
       "      <td>https://www.zomato.com/bangalore/spice-elephan...</td>\n",
       "      <td>2nd Floor, 80 Feet Road, Near Big Bazaar, 6th ...</td>\n",
       "      <td>Spice Elephant</td>\n",
       "      <td>Yes</td>\n",
       "      <td>No</td>\n",
       "      <td>4.1</td>\n",
       "      <td>787</td>\n",
       "      <td>080 41714161</td>\n",
       "      <td>Banashankari</td>\n",
       "      <td>Casual Dining</td>\n",
       "      <td>Momos, Lunch Buffet, Chocolate Nirvana, Thai G...</td>\n",
       "      <td>Chinese, North Indian, Thai</td>\n",
       "      <td>800.0</td>\n",
       "      <td>[('Rated 4.0', 'RATED\\n  Had been here for din...</td>\n",
       "      <td>[]</td>\n",
       "      <td>Buffet</td>\n",
       "      <td>Banashankari</td>\n",
       "      <td>Quick Bites + Casual Dining</td>\n",
       "      <td>1</td>\n",
       "    </tr>\n",
       "    <tr>\n",
       "      <th>2</th>\n",
       "      <td>https://www.zomato.com/SanchurroBangalore?cont...</td>\n",
       "      <td>1112, Next to KIMS Medical College, 17th Cross...</td>\n",
       "      <td>San Churro Cafe</td>\n",
       "      <td>Yes</td>\n",
       "      <td>No</td>\n",
       "      <td>3.8</td>\n",
       "      <td>918</td>\n",
       "      <td>+91 9663487993</td>\n",
       "      <td>Banashankari</td>\n",
       "      <td>Cafe, Casual Dining</td>\n",
       "      <td>Churros, Cannelloni, Minestrone Soup, Hot Choc...</td>\n",
       "      <td>Cafe, Mexican, Italian</td>\n",
       "      <td>800.0</td>\n",
       "      <td>[('Rated 3.0', \"RATED\\n  Ambience is not that ...</td>\n",
       "      <td>[]</td>\n",
       "      <td>Buffet</td>\n",
       "      <td>Banashankari</td>\n",
       "      <td>others</td>\n",
       "      <td>1</td>\n",
       "    </tr>\n",
       "    <tr>\n",
       "      <th>3</th>\n",
       "      <td>https://www.zomato.com/bangalore/addhuri-udupi...</td>\n",
       "      <td>1st Floor, Annakuteera, 3rd Stage, Banashankar...</td>\n",
       "      <td>Addhuri Udupi Bhojana</td>\n",
       "      <td>No</td>\n",
       "      <td>No</td>\n",
       "      <td>3.7</td>\n",
       "      <td>88</td>\n",
       "      <td>+91 9620009302</td>\n",
       "      <td>Banashankari</td>\n",
       "      <td>Quick Bites</td>\n",
       "      <td>Masala Dosa</td>\n",
       "      <td>South Indian, North Indian</td>\n",
       "      <td>300.0</td>\n",
       "      <td>[('Rated 4.0', \"RATED\\n  Great food and proper...</td>\n",
       "      <td>[]</td>\n",
       "      <td>Buffet</td>\n",
       "      <td>Banashankari</td>\n",
       "      <td>Quick Bites + Casual Dining</td>\n",
       "      <td>1</td>\n",
       "    </tr>\n",
       "    <tr>\n",
       "      <th>4</th>\n",
       "      <td>https://www.zomato.com/bangalore/grand-village...</td>\n",
       "      <td>10, 3rd Floor, Lakshmi Associates, Gandhi Baza...</td>\n",
       "      <td>Grand Village</td>\n",
       "      <td>No</td>\n",
       "      <td>No</td>\n",
       "      <td>3.8</td>\n",
       "      <td>166</td>\n",
       "      <td>+91 8026612447\\r\\n+91 9901210005</td>\n",
       "      <td>Basavanagudi</td>\n",
       "      <td>Casual Dining</td>\n",
       "      <td>Panipuri, Gol Gappe</td>\n",
       "      <td>North Indian, Rajasthani</td>\n",
       "      <td>600.0</td>\n",
       "      <td>[('Rated 4.0', 'RATED\\n  Very good restaurant ...</td>\n",
       "      <td>[]</td>\n",
       "      <td>Buffet</td>\n",
       "      <td>Banashankari</td>\n",
       "      <td>Quick Bites + Casual Dining</td>\n",
       "      <td>1</td>\n",
       "    </tr>\n",
       "  </tbody>\n",
       "</table>\n",
       "</div>"
      ],
      "text/plain": [
       "                                                 url  \\\n",
       "0  https://www.zomato.com/bangalore/jalsa-banasha...   \n",
       "1  https://www.zomato.com/bangalore/spice-elephan...   \n",
       "2  https://www.zomato.com/SanchurroBangalore?cont...   \n",
       "3  https://www.zomato.com/bangalore/addhuri-udupi...   \n",
       "4  https://www.zomato.com/bangalore/grand-village...   \n",
       "\n",
       "                                             address                   name  \\\n",
       "0  942, 21st Main Road, 2nd Stage, Banashankari, ...                  Jalsa   \n",
       "1  2nd Floor, 80 Feet Road, Near Big Bazaar, 6th ...         Spice Elephant   \n",
       "2  1112, Next to KIMS Medical College, 17th Cross...        San Churro Cafe   \n",
       "3  1st Floor, Annakuteera, 3rd Stage, Banashankar...  Addhuri Udupi Bhojana   \n",
       "4  10, 3rd Floor, Lakshmi Associates, Gandhi Baza...          Grand Village   \n",
       "\n",
       "  online_order book_table  rate  votes                             phone  \\\n",
       "0          Yes        Yes   4.1    775    080 42297555\\r\\n+91 9743772233   \n",
       "1          Yes         No   4.1    787                      080 41714161   \n",
       "2          Yes         No   3.8    918                    +91 9663487993   \n",
       "3           No         No   3.7     88                    +91 9620009302   \n",
       "4           No         No   3.8    166  +91 8026612447\\r\\n+91 9901210005   \n",
       "\n",
       "       location            rest_type  \\\n",
       "0  Banashankari        Casual Dining   \n",
       "1  Banashankari        Casual Dining   \n",
       "2  Banashankari  Cafe, Casual Dining   \n",
       "3  Banashankari          Quick Bites   \n",
       "4  Basavanagudi        Casual Dining   \n",
       "\n",
       "                                          dish_liked  \\\n",
       "0  Pasta, Lunch Buffet, Masala Papad, Paneer Laja...   \n",
       "1  Momos, Lunch Buffet, Chocolate Nirvana, Thai G...   \n",
       "2  Churros, Cannelloni, Minestrone Soup, Hot Choc...   \n",
       "3                                        Masala Dosa   \n",
       "4                                Panipuri, Gol Gappe   \n",
       "\n",
       "                         cuisines  approx_cost(for two people)  \\\n",
       "0  North Indian, Mughlai, Chinese                        800.0   \n",
       "1     Chinese, North Indian, Thai                        800.0   \n",
       "2          Cafe, Mexican, Italian                        800.0   \n",
       "3      South Indian, North Indian                        300.0   \n",
       "4        North Indian, Rajasthani                        600.0   \n",
       "\n",
       "                                        reviews_list menu_item  \\\n",
       "0  [('Rated 4.0', 'RATED\\n  A beautiful place to ...        []   \n",
       "1  [('Rated 4.0', 'RATED\\n  Had been here for din...        []   \n",
       "2  [('Rated 3.0', \"RATED\\n  Ambience is not that ...        []   \n",
       "3  [('Rated 4.0', \"RATED\\n  Great food and proper...        []   \n",
       "4  [('Rated 4.0', 'RATED\\n  Very good restaurant ...        []   \n",
       "\n",
       "  listed_in(type) listed_in(city)                    Top_types  rated  \n",
       "0          Buffet    Banashankari  Quick Bites + Casual Dining      1  \n",
       "1          Buffet    Banashankari  Quick Bites + Casual Dining      1  \n",
       "2          Buffet    Banashankari                       others      1  \n",
       "3          Buffet    Banashankari  Quick Bites + Casual Dining      1  \n",
       "4          Buffet    Banashankari  Quick Bites + Casual Dining      1  "
      ]
     },
     "execution_count": 95,
     "metadata": {},
     "output_type": "execute_result"
    }
   ],
   "source": [
    "train_val_restaurants.head()  # this is the entire data frame required for the training"
   ]
  },
  {
   "cell_type": "code",
   "execution_count": 96,
   "id": "1622d1e2",
   "metadata": {
    "execution": {
     "iopub.execute_input": "2022-04-18T16:19:13.839992Z",
     "iopub.status.busy": "2022-04-18T16:19:13.839676Z",
     "iopub.status.idle": "2022-04-18T16:19:13.843722Z",
     "shell.execute_reply": "2022-04-18T16:19:13.842735Z"
    },
    "papermill": {
     "duration": 0.186633,
     "end_time": "2022-04-18T16:19:13.845998",
     "exception": false,
     "start_time": "2022-04-18T16:19:13.659365",
     "status": "completed"
    },
    "tags": []
   },
   "outputs": [],
   "source": [
    "#2 Create a target variable --on the basis of which prediction is done..."
   ]
  },
  {
   "cell_type": "code",
   "execution_count": 97,
   "id": "dd9c5295",
   "metadata": {
    "execution": {
     "iopub.execute_input": "2022-04-18T16:19:14.205060Z",
     "iopub.status.busy": "2022-04-18T16:19:14.204751Z",
     "iopub.status.idle": "2022-04-18T16:19:14.213538Z",
     "shell.execute_reply": "2022-04-18T16:19:14.212937Z"
    },
    "papermill": {
     "duration": 0.189199,
     "end_time": "2022-04-18T16:19:14.215305",
     "exception": false,
     "start_time": "2022-04-18T16:19:14.026106",
     "status": "completed"
    },
    "tags": []
   },
   "outputs": [
    {
     "data": {
      "text/plain": [
       "array([4.1, 3.8, 3.7, 3.6, 4.6, 4. , 4.2, 3.9, 3.1, 3. , 3.2, 3.3, 2.8,\n",
       "       4.4, 4.3, 2.9, 3.5, 2.6, 3.4, 4.5, 2.5, 2.7, 4.7, 2.4, 2.2, 2.3,\n",
       "       4.8, 4.9, 2.1, 2. , 1.8])"
      ]
     },
     "execution_count": 97,
     "metadata": {},
     "output_type": "execute_result"
    }
   ],
   "source": [
    "train_val_restaurants['rate'].unique()  # on the basis of which target varible is created"
   ]
  },
  {
   "cell_type": "code",
   "execution_count": 98,
   "id": "d3cfebbf",
   "metadata": {
    "execution": {
     "iopub.execute_input": "2022-04-18T16:19:14.573518Z",
     "iopub.status.busy": "2022-04-18T16:19:14.573205Z",
     "iopub.status.idle": "2022-04-18T16:19:14.576816Z",
     "shell.execute_reply": "2022-04-18T16:19:14.575962Z"
    },
    "papermill": {
     "duration": 0.18459,
     "end_time": "2022-04-18T16:19:14.578679",
     "exception": false,
     "start_time": "2022-04-18T16:19:14.394089",
     "status": "completed"
    },
    "tags": []
   },
   "outputs": [],
   "source": [
    "# By now we've already splitted our original data into new_restaurants and train_val_restaurants using pandas DataFrames.\n",
    "# The main point here is to define a fair threshold(rating) for splitting the restaurants into good and bad ones.\n",
    "# Taking 3.75 as the threshold value... Good restaurants>=3.75 rating ; Bad restaurants<3.75 rating"
   ]
  },
  {
   "cell_type": "code",
   "execution_count": 99,
   "id": "65b2b239",
   "metadata": {
    "execution": {
     "iopub.execute_input": "2022-04-18T16:19:14.941191Z",
     "iopub.status.busy": "2022-04-18T16:19:14.940927Z",
     "iopub.status.idle": "2022-04-18T16:19:14.944504Z",
     "shell.execute_reply": "2022-04-18T16:19:14.943893Z"
    },
    "papermill": {
     "duration": 0.18622,
     "end_time": "2022-04-18T16:19:14.946331",
     "exception": false,
     "start_time": "2022-04-18T16:19:14.760111",
     "status": "completed"
    },
    "tags": []
   },
   "outputs": [],
   "source": [
    "import warnings\n",
    "from warnings import filterwarnings\n",
    "filterwarnings('ignore')"
   ]
  },
  {
   "cell_type": "code",
   "execution_count": 100,
   "id": "1d7358ad",
   "metadata": {
    "execution": {
     "iopub.execute_input": "2022-04-18T16:19:15.313438Z",
     "iopub.status.busy": "2022-04-18T16:19:15.312910Z",
     "iopub.status.idle": "2022-04-18T16:19:15.344958Z",
     "shell.execute_reply": "2022-04-18T16:19:15.344292Z"
    },
    "papermill": {
     "duration": 0.215868,
     "end_time": "2022-04-18T16:19:15.347259",
     "exception": false,
     "start_time": "2022-04-18T16:19:15.131391",
     "status": "completed"
    },
    "tags": []
   },
   "outputs": [],
   "source": [
    "# Defining a custom threshold for splitting restaurants into good and bad ; storing in new column 'target'\n",
    "# Good restaurants-1\n",
    "# Bad restaurants-0\n",
    "threshold = 3.75\n",
    "train_val_restaurants['target'] = train_val_restaurants['rate'].apply(lambda x: 1 if x >= threshold else 0)"
   ]
  },
  {
   "cell_type": "code",
   "execution_count": 101,
   "id": "fab5c0d2",
   "metadata": {
    "execution": {
     "iopub.execute_input": "2022-04-18T16:19:15.709653Z",
     "iopub.status.busy": "2022-04-18T16:19:15.709171Z",
     "iopub.status.idle": "2022-04-18T16:19:15.730429Z",
     "shell.execute_reply": "2022-04-18T16:19:15.729778Z"
    },
    "papermill": {
     "duration": 0.206125,
     "end_time": "2022-04-18T16:19:15.732353",
     "exception": false,
     "start_time": "2022-04-18T16:19:15.526228",
     "status": "completed"
    },
    "tags": []
   },
   "outputs": [
    {
     "data": {
      "text/html": [
       "<div>\n",
       "<style scoped>\n",
       "    .dataframe tbody tr th:only-of-type {\n",
       "        vertical-align: middle;\n",
       "    }\n",
       "\n",
       "    .dataframe tbody tr th {\n",
       "        vertical-align: top;\n",
       "    }\n",
       "\n",
       "    .dataframe thead th {\n",
       "        text-align: right;\n",
       "    }\n",
       "</style>\n",
       "<table border=\"1\" class=\"dataframe\">\n",
       "  <thead>\n",
       "    <tr style=\"text-align: right;\">\n",
       "      <th></th>\n",
       "      <th>url</th>\n",
       "      <th>address</th>\n",
       "      <th>name</th>\n",
       "      <th>online_order</th>\n",
       "      <th>book_table</th>\n",
       "      <th>rate</th>\n",
       "      <th>votes</th>\n",
       "      <th>phone</th>\n",
       "      <th>location</th>\n",
       "      <th>rest_type</th>\n",
       "      <th>dish_liked</th>\n",
       "      <th>cuisines</th>\n",
       "      <th>approx_cost(for two people)</th>\n",
       "      <th>reviews_list</th>\n",
       "      <th>menu_item</th>\n",
       "      <th>listed_in(type)</th>\n",
       "      <th>listed_in(city)</th>\n",
       "      <th>Top_types</th>\n",
       "      <th>rated</th>\n",
       "      <th>target</th>\n",
       "    </tr>\n",
       "  </thead>\n",
       "  <tbody>\n",
       "    <tr>\n",
       "      <th>0</th>\n",
       "      <td>https://www.zomato.com/bangalore/jalsa-banasha...</td>\n",
       "      <td>942, 21st Main Road, 2nd Stage, Banashankari, ...</td>\n",
       "      <td>Jalsa</td>\n",
       "      <td>Yes</td>\n",
       "      <td>Yes</td>\n",
       "      <td>4.1</td>\n",
       "      <td>775</td>\n",
       "      <td>080 42297555\\r\\n+91 9743772233</td>\n",
       "      <td>Banashankari</td>\n",
       "      <td>Casual Dining</td>\n",
       "      <td>Pasta, Lunch Buffet, Masala Papad, Paneer Laja...</td>\n",
       "      <td>North Indian, Mughlai, Chinese</td>\n",
       "      <td>800.0</td>\n",
       "      <td>[('Rated 4.0', 'RATED\\n  A beautiful place to ...</td>\n",
       "      <td>[]</td>\n",
       "      <td>Buffet</td>\n",
       "      <td>Banashankari</td>\n",
       "      <td>Quick Bites + Casual Dining</td>\n",
       "      <td>1</td>\n",
       "      <td>1</td>\n",
       "    </tr>\n",
       "    <tr>\n",
       "      <th>1</th>\n",
       "      <td>https://www.zomato.com/bangalore/spice-elephan...</td>\n",
       "      <td>2nd Floor, 80 Feet Road, Near Big Bazaar, 6th ...</td>\n",
       "      <td>Spice Elephant</td>\n",
       "      <td>Yes</td>\n",
       "      <td>No</td>\n",
       "      <td>4.1</td>\n",
       "      <td>787</td>\n",
       "      <td>080 41714161</td>\n",
       "      <td>Banashankari</td>\n",
       "      <td>Casual Dining</td>\n",
       "      <td>Momos, Lunch Buffet, Chocolate Nirvana, Thai G...</td>\n",
       "      <td>Chinese, North Indian, Thai</td>\n",
       "      <td>800.0</td>\n",
       "      <td>[('Rated 4.0', 'RATED\\n  Had been here for din...</td>\n",
       "      <td>[]</td>\n",
       "      <td>Buffet</td>\n",
       "      <td>Banashankari</td>\n",
       "      <td>Quick Bites + Casual Dining</td>\n",
       "      <td>1</td>\n",
       "      <td>1</td>\n",
       "    </tr>\n",
       "    <tr>\n",
       "      <th>2</th>\n",
       "      <td>https://www.zomato.com/SanchurroBangalore?cont...</td>\n",
       "      <td>1112, Next to KIMS Medical College, 17th Cross...</td>\n",
       "      <td>San Churro Cafe</td>\n",
       "      <td>Yes</td>\n",
       "      <td>No</td>\n",
       "      <td>3.8</td>\n",
       "      <td>918</td>\n",
       "      <td>+91 9663487993</td>\n",
       "      <td>Banashankari</td>\n",
       "      <td>Cafe, Casual Dining</td>\n",
       "      <td>Churros, Cannelloni, Minestrone Soup, Hot Choc...</td>\n",
       "      <td>Cafe, Mexican, Italian</td>\n",
       "      <td>800.0</td>\n",
       "      <td>[('Rated 3.0', \"RATED\\n  Ambience is not that ...</td>\n",
       "      <td>[]</td>\n",
       "      <td>Buffet</td>\n",
       "      <td>Banashankari</td>\n",
       "      <td>others</td>\n",
       "      <td>1</td>\n",
       "      <td>1</td>\n",
       "    </tr>\n",
       "    <tr>\n",
       "      <th>3</th>\n",
       "      <td>https://www.zomato.com/bangalore/addhuri-udupi...</td>\n",
       "      <td>1st Floor, Annakuteera, 3rd Stage, Banashankar...</td>\n",
       "      <td>Addhuri Udupi Bhojana</td>\n",
       "      <td>No</td>\n",
       "      <td>No</td>\n",
       "      <td>3.7</td>\n",
       "      <td>88</td>\n",
       "      <td>+91 9620009302</td>\n",
       "      <td>Banashankari</td>\n",
       "      <td>Quick Bites</td>\n",
       "      <td>Masala Dosa</td>\n",
       "      <td>South Indian, North Indian</td>\n",
       "      <td>300.0</td>\n",
       "      <td>[('Rated 4.0', \"RATED\\n  Great food and proper...</td>\n",
       "      <td>[]</td>\n",
       "      <td>Buffet</td>\n",
       "      <td>Banashankari</td>\n",
       "      <td>Quick Bites + Casual Dining</td>\n",
       "      <td>1</td>\n",
       "      <td>0</td>\n",
       "    </tr>\n",
       "    <tr>\n",
       "      <th>4</th>\n",
       "      <td>https://www.zomato.com/bangalore/grand-village...</td>\n",
       "      <td>10, 3rd Floor, Lakshmi Associates, Gandhi Baza...</td>\n",
       "      <td>Grand Village</td>\n",
       "      <td>No</td>\n",
       "      <td>No</td>\n",
       "      <td>3.8</td>\n",
       "      <td>166</td>\n",
       "      <td>+91 8026612447\\r\\n+91 9901210005</td>\n",
       "      <td>Basavanagudi</td>\n",
       "      <td>Casual Dining</td>\n",
       "      <td>Panipuri, Gol Gappe</td>\n",
       "      <td>North Indian, Rajasthani</td>\n",
       "      <td>600.0</td>\n",
       "      <td>[('Rated 4.0', 'RATED\\n  Very good restaurant ...</td>\n",
       "      <td>[]</td>\n",
       "      <td>Buffet</td>\n",
       "      <td>Banashankari</td>\n",
       "      <td>Quick Bites + Casual Dining</td>\n",
       "      <td>1</td>\n",
       "      <td>1</td>\n",
       "    </tr>\n",
       "  </tbody>\n",
       "</table>\n",
       "</div>"
      ],
      "text/plain": [
       "                                                 url  \\\n",
       "0  https://www.zomato.com/bangalore/jalsa-banasha...   \n",
       "1  https://www.zomato.com/bangalore/spice-elephan...   \n",
       "2  https://www.zomato.com/SanchurroBangalore?cont...   \n",
       "3  https://www.zomato.com/bangalore/addhuri-udupi...   \n",
       "4  https://www.zomato.com/bangalore/grand-village...   \n",
       "\n",
       "                                             address                   name  \\\n",
       "0  942, 21st Main Road, 2nd Stage, Banashankari, ...                  Jalsa   \n",
       "1  2nd Floor, 80 Feet Road, Near Big Bazaar, 6th ...         Spice Elephant   \n",
       "2  1112, Next to KIMS Medical College, 17th Cross...        San Churro Cafe   \n",
       "3  1st Floor, Annakuteera, 3rd Stage, Banashankar...  Addhuri Udupi Bhojana   \n",
       "4  10, 3rd Floor, Lakshmi Associates, Gandhi Baza...          Grand Village   \n",
       "\n",
       "  online_order book_table  rate  votes                             phone  \\\n",
       "0          Yes        Yes   4.1    775    080 42297555\\r\\n+91 9743772233   \n",
       "1          Yes         No   4.1    787                      080 41714161   \n",
       "2          Yes         No   3.8    918                    +91 9663487993   \n",
       "3           No         No   3.7     88                    +91 9620009302   \n",
       "4           No         No   3.8    166  +91 8026612447\\r\\n+91 9901210005   \n",
       "\n",
       "       location            rest_type  \\\n",
       "0  Banashankari        Casual Dining   \n",
       "1  Banashankari        Casual Dining   \n",
       "2  Banashankari  Cafe, Casual Dining   \n",
       "3  Banashankari          Quick Bites   \n",
       "4  Basavanagudi        Casual Dining   \n",
       "\n",
       "                                          dish_liked  \\\n",
       "0  Pasta, Lunch Buffet, Masala Papad, Paneer Laja...   \n",
       "1  Momos, Lunch Buffet, Chocolate Nirvana, Thai G...   \n",
       "2  Churros, Cannelloni, Minestrone Soup, Hot Choc...   \n",
       "3                                        Masala Dosa   \n",
       "4                                Panipuri, Gol Gappe   \n",
       "\n",
       "                         cuisines  approx_cost(for two people)  \\\n",
       "0  North Indian, Mughlai, Chinese                        800.0   \n",
       "1     Chinese, North Indian, Thai                        800.0   \n",
       "2          Cafe, Mexican, Italian                        800.0   \n",
       "3      South Indian, North Indian                        300.0   \n",
       "4        North Indian, Rajasthani                        600.0   \n",
       "\n",
       "                                        reviews_list menu_item  \\\n",
       "0  [('Rated 4.0', 'RATED\\n  A beautiful place to ...        []   \n",
       "1  [('Rated 4.0', 'RATED\\n  Had been here for din...        []   \n",
       "2  [('Rated 3.0', \"RATED\\n  Ambience is not that ...        []   \n",
       "3  [('Rated 4.0', \"RATED\\n  Great food and proper...        []   \n",
       "4  [('Rated 4.0', 'RATED\\n  Very good restaurant ...        []   \n",
       "\n",
       "  listed_in(type) listed_in(city)                    Top_types  rated  target  \n",
       "0          Buffet    Banashankari  Quick Bites + Casual Dining      1       1  \n",
       "1          Buffet    Banashankari  Quick Bites + Casual Dining      1       1  \n",
       "2          Buffet    Banashankari                       others      1       1  \n",
       "3          Buffet    Banashankari  Quick Bites + Casual Dining      1       0  \n",
       "4          Buffet    Banashankari  Quick Bites + Casual Dining      1       1  "
      ]
     },
     "execution_count": 101,
     "metadata": {},
     "output_type": "execute_result"
    }
   ],
   "source": [
    "train_val_restaurants.head()"
   ]
  },
  {
   "cell_type": "code",
   "execution_count": 102,
   "id": "9c6ee652",
   "metadata": {
    "execution": {
     "iopub.execute_input": "2022-04-18T16:19:16.106595Z",
     "iopub.status.busy": "2022-04-18T16:19:16.106255Z",
     "iopub.status.idle": "2022-04-18T16:19:16.146295Z",
     "shell.execute_reply": "2022-04-18T16:19:16.144977Z"
    },
    "papermill": {
     "duration": 0.236763,
     "end_time": "2022-04-18T16:19:16.148618",
     "exception": false,
     "start_time": "2022-04-18T16:19:15.911855",
     "status": "completed"
    },
    "tags": []
   },
   "outputs": [
    {
     "name": "stdout",
     "output_type": "stream",
     "text": [
      "0    21421\n",
      "1    20244\n",
      "Name: target, dtype: int64\n"
     ]
    },
    {
     "data": {
      "text/html": [
       "<div>                            <div id=\"6359473f-e059-49dc-b997-191c20df951f\" class=\"plotly-graph-div\" style=\"height:525px; width:100%;\"></div>            <script type=\"text/javascript\">                require([\"plotly\"], function(Plotly) {                    window.PLOTLYENV=window.PLOTLYENV || {};                                    if (document.getElementById(\"6359473f-e059-49dc-b997-191c20df951f\")) {                    Plotly.newPlot(                        \"6359473f-e059-49dc-b997-191c20df951f\",                        [{\"hoverinfo\":\"label+percent\",\"labels\":[\"Good Restaurants(1)\",\"Bad Restaurants(0)\"],\"pull\":[0,0,0,0.2,0],\"textfont\":{\"size\":25},\"textinfo\":\"percent\",\"values\":[21421,20244],\"type\":\"pie\"}],                        {\"template\":{\"data\":{\"barpolar\":[{\"marker\":{\"line\":{\"color\":\"#E5ECF6\",\"width\":0.5},\"pattern\":{\"fillmode\":\"overlay\",\"size\":10,\"solidity\":0.2}},\"type\":\"barpolar\"}],\"bar\":[{\"error_x\":{\"color\":\"#2a3f5f\"},\"error_y\":{\"color\":\"#2a3f5f\"},\"marker\":{\"line\":{\"color\":\"#E5ECF6\",\"width\":0.5},\"pattern\":{\"fillmode\":\"overlay\",\"size\":10,\"solidity\":0.2}},\"type\":\"bar\"}],\"carpet\":[{\"aaxis\":{\"endlinecolor\":\"#2a3f5f\",\"gridcolor\":\"white\",\"linecolor\":\"white\",\"minorgridcolor\":\"white\",\"startlinecolor\":\"#2a3f5f\"},\"baxis\":{\"endlinecolor\":\"#2a3f5f\",\"gridcolor\":\"white\",\"linecolor\":\"white\",\"minorgridcolor\":\"white\",\"startlinecolor\":\"#2a3f5f\"},\"type\":\"carpet\"}],\"choropleth\":[{\"colorbar\":{\"outlinewidth\":0,\"ticks\":\"\"},\"type\":\"choropleth\"}],\"contourcarpet\":[{\"colorbar\":{\"outlinewidth\":0,\"ticks\":\"\"},\"type\":\"contourcarpet\"}],\"contour\":[{\"colorbar\":{\"outlinewidth\":0,\"ticks\":\"\"},\"colorscale\":[[0.0,\"#0d0887\"],[0.1111111111111111,\"#46039f\"],[0.2222222222222222,\"#7201a8\"],[0.3333333333333333,\"#9c179e\"],[0.4444444444444444,\"#bd3786\"],[0.5555555555555556,\"#d8576b\"],[0.6666666666666666,\"#ed7953\"],[0.7777777777777778,\"#fb9f3a\"],[0.8888888888888888,\"#fdca26\"],[1.0,\"#f0f921\"]],\"type\":\"contour\"}],\"heatmapgl\":[{\"colorbar\":{\"outlinewidth\":0,\"ticks\":\"\"},\"colorscale\":[[0.0,\"#0d0887\"],[0.1111111111111111,\"#46039f\"],[0.2222222222222222,\"#7201a8\"],[0.3333333333333333,\"#9c179e\"],[0.4444444444444444,\"#bd3786\"],[0.5555555555555556,\"#d8576b\"],[0.6666666666666666,\"#ed7953\"],[0.7777777777777778,\"#fb9f3a\"],[0.8888888888888888,\"#fdca26\"],[1.0,\"#f0f921\"]],\"type\":\"heatmapgl\"}],\"heatmap\":[{\"colorbar\":{\"outlinewidth\":0,\"ticks\":\"\"},\"colorscale\":[[0.0,\"#0d0887\"],[0.1111111111111111,\"#46039f\"],[0.2222222222222222,\"#7201a8\"],[0.3333333333333333,\"#9c179e\"],[0.4444444444444444,\"#bd3786\"],[0.5555555555555556,\"#d8576b\"],[0.6666666666666666,\"#ed7953\"],[0.7777777777777778,\"#fb9f3a\"],[0.8888888888888888,\"#fdca26\"],[1.0,\"#f0f921\"]],\"type\":\"heatmap\"}],\"histogram2dcontour\":[{\"colorbar\":{\"outlinewidth\":0,\"ticks\":\"\"},\"colorscale\":[[0.0,\"#0d0887\"],[0.1111111111111111,\"#46039f\"],[0.2222222222222222,\"#7201a8\"],[0.3333333333333333,\"#9c179e\"],[0.4444444444444444,\"#bd3786\"],[0.5555555555555556,\"#d8576b\"],[0.6666666666666666,\"#ed7953\"],[0.7777777777777778,\"#fb9f3a\"],[0.8888888888888888,\"#fdca26\"],[1.0,\"#f0f921\"]],\"type\":\"histogram2dcontour\"}],\"histogram2d\":[{\"colorbar\":{\"outlinewidth\":0,\"ticks\":\"\"},\"colorscale\":[[0.0,\"#0d0887\"],[0.1111111111111111,\"#46039f\"],[0.2222222222222222,\"#7201a8\"],[0.3333333333333333,\"#9c179e\"],[0.4444444444444444,\"#bd3786\"],[0.5555555555555556,\"#d8576b\"],[0.6666666666666666,\"#ed7953\"],[0.7777777777777778,\"#fb9f3a\"],[0.8888888888888888,\"#fdca26\"],[1.0,\"#f0f921\"]],\"type\":\"histogram2d\"}],\"histogram\":[{\"marker\":{\"pattern\":{\"fillmode\":\"overlay\",\"size\":10,\"solidity\":0.2}},\"type\":\"histogram\"}],\"mesh3d\":[{\"colorbar\":{\"outlinewidth\":0,\"ticks\":\"\"},\"type\":\"mesh3d\"}],\"parcoords\":[{\"line\":{\"colorbar\":{\"outlinewidth\":0,\"ticks\":\"\"}},\"type\":\"parcoords\"}],\"pie\":[{\"automargin\":true,\"type\":\"pie\"}],\"scatter3d\":[{\"line\":{\"colorbar\":{\"outlinewidth\":0,\"ticks\":\"\"}},\"marker\":{\"colorbar\":{\"outlinewidth\":0,\"ticks\":\"\"}},\"type\":\"scatter3d\"}],\"scattercarpet\":[{\"marker\":{\"colorbar\":{\"outlinewidth\":0,\"ticks\":\"\"}},\"type\":\"scattercarpet\"}],\"scattergeo\":[{\"marker\":{\"colorbar\":{\"outlinewidth\":0,\"ticks\":\"\"}},\"type\":\"scattergeo\"}],\"scattergl\":[{\"marker\":{\"colorbar\":{\"outlinewidth\":0,\"ticks\":\"\"}},\"type\":\"scattergl\"}],\"scattermapbox\":[{\"marker\":{\"colorbar\":{\"outlinewidth\":0,\"ticks\":\"\"}},\"type\":\"scattermapbox\"}],\"scatterpolargl\":[{\"marker\":{\"colorbar\":{\"outlinewidth\":0,\"ticks\":\"\"}},\"type\":\"scatterpolargl\"}],\"scatterpolar\":[{\"marker\":{\"colorbar\":{\"outlinewidth\":0,\"ticks\":\"\"}},\"type\":\"scatterpolar\"}],\"scatter\":[{\"fillpattern\":{\"fillmode\":\"overlay\",\"size\":10,\"solidity\":0.2},\"type\":\"scatter\"}],\"scatterternary\":[{\"marker\":{\"colorbar\":{\"outlinewidth\":0,\"ticks\":\"\"}},\"type\":\"scatterternary\"}],\"surface\":[{\"colorbar\":{\"outlinewidth\":0,\"ticks\":\"\"},\"colorscale\":[[0.0,\"#0d0887\"],[0.1111111111111111,\"#46039f\"],[0.2222222222222222,\"#7201a8\"],[0.3333333333333333,\"#9c179e\"],[0.4444444444444444,\"#bd3786\"],[0.5555555555555556,\"#d8576b\"],[0.6666666666666666,\"#ed7953\"],[0.7777777777777778,\"#fb9f3a\"],[0.8888888888888888,\"#fdca26\"],[1.0,\"#f0f921\"]],\"type\":\"surface\"}],\"table\":[{\"cells\":{\"fill\":{\"color\":\"#EBF0F8\"},\"line\":{\"color\":\"white\"}},\"header\":{\"fill\":{\"color\":\"#C8D4E3\"},\"line\":{\"color\":\"white\"}},\"type\":\"table\"}]},\"layout\":{\"annotationdefaults\":{\"arrowcolor\":\"#2a3f5f\",\"arrowhead\":0,\"arrowwidth\":1},\"autotypenumbers\":\"strict\",\"coloraxis\":{\"colorbar\":{\"outlinewidth\":0,\"ticks\":\"\"}},\"colorscale\":{\"diverging\":[[0,\"#8e0152\"],[0.1,\"#c51b7d\"],[0.2,\"#de77ae\"],[0.3,\"#f1b6da\"],[0.4,\"#fde0ef\"],[0.5,\"#f7f7f7\"],[0.6,\"#e6f5d0\"],[0.7,\"#b8e186\"],[0.8,\"#7fbc41\"],[0.9,\"#4d9221\"],[1,\"#276419\"]],\"sequential\":[[0.0,\"#0d0887\"],[0.1111111111111111,\"#46039f\"],[0.2222222222222222,\"#7201a8\"],[0.3333333333333333,\"#9c179e\"],[0.4444444444444444,\"#bd3786\"],[0.5555555555555556,\"#d8576b\"],[0.6666666666666666,\"#ed7953\"],[0.7777777777777778,\"#fb9f3a\"],[0.8888888888888888,\"#fdca26\"],[1.0,\"#f0f921\"]],\"sequentialminus\":[[0.0,\"#0d0887\"],[0.1111111111111111,\"#46039f\"],[0.2222222222222222,\"#7201a8\"],[0.3333333333333333,\"#9c179e\"],[0.4444444444444444,\"#bd3786\"],[0.5555555555555556,\"#d8576b\"],[0.6666666666666666,\"#ed7953\"],[0.7777777777777778,\"#fb9f3a\"],[0.8888888888888888,\"#fdca26\"],[1.0,\"#f0f921\"]]},\"colorway\":[\"#636efa\",\"#EF553B\",\"#00cc96\",\"#ab63fa\",\"#FFA15A\",\"#19d3f3\",\"#FF6692\",\"#B6E880\",\"#FF97FF\",\"#FECB52\"],\"font\":{\"color\":\"#2a3f5f\"},\"geo\":{\"bgcolor\":\"white\",\"lakecolor\":\"white\",\"landcolor\":\"#E5ECF6\",\"showlakes\":true,\"showland\":true,\"subunitcolor\":\"white\"},\"hoverlabel\":{\"align\":\"left\"},\"hovermode\":\"closest\",\"mapbox\":{\"style\":\"light\"},\"paper_bgcolor\":\"white\",\"plot_bgcolor\":\"#E5ECF6\",\"polar\":{\"angularaxis\":{\"gridcolor\":\"white\",\"linecolor\":\"white\",\"ticks\":\"\"},\"bgcolor\":\"#E5ECF6\",\"radialaxis\":{\"gridcolor\":\"white\",\"linecolor\":\"white\",\"ticks\":\"\"}},\"scene\":{\"xaxis\":{\"backgroundcolor\":\"#E5ECF6\",\"gridcolor\":\"white\",\"gridwidth\":2,\"linecolor\":\"white\",\"showbackground\":true,\"ticks\":\"\",\"zerolinecolor\":\"white\"},\"yaxis\":{\"backgroundcolor\":\"#E5ECF6\",\"gridcolor\":\"white\",\"gridwidth\":2,\"linecolor\":\"white\",\"showbackground\":true,\"ticks\":\"\",\"zerolinecolor\":\"white\"},\"zaxis\":{\"backgroundcolor\":\"#E5ECF6\",\"gridcolor\":\"white\",\"gridwidth\":2,\"linecolor\":\"white\",\"showbackground\":true,\"ticks\":\"\",\"zerolinecolor\":\"white\"}},\"shapedefaults\":{\"line\":{\"color\":\"#2a3f5f\"}},\"ternary\":{\"aaxis\":{\"gridcolor\":\"white\",\"linecolor\":\"white\",\"ticks\":\"\"},\"baxis\":{\"gridcolor\":\"white\",\"linecolor\":\"white\",\"ticks\":\"\"},\"bgcolor\":\"#E5ECF6\",\"caxis\":{\"gridcolor\":\"white\",\"linecolor\":\"white\",\"ticks\":\"\"}},\"title\":{\"x\":0.05},\"xaxis\":{\"automargin\":true,\"gridcolor\":\"white\",\"linecolor\":\"white\",\"ticks\":\"\",\"title\":{\"standoff\":15},\"zerolinecolor\":\"white\",\"zerolinewidth\":2},\"yaxis\":{\"automargin\":true,\"gridcolor\":\"white\",\"linecolor\":\"white\",\"ticks\":\"\",\"title\":{\"standoff\":15},\"zerolinecolor\":\"white\",\"zerolinewidth\":2}}}},                        {\"responsive\": true}                    ).then(function(){\n",
       "                            \n",
       "var gd = document.getElementById('6359473f-e059-49dc-b997-191c20df951f');\n",
       "var x = new MutationObserver(function (mutations, observer) {{\n",
       "        var display = window.getComputedStyle(gd).display;\n",
       "        if (!display || display === 'none') {{\n",
       "            console.log([gd, 'removed!']);\n",
       "            Plotly.purge(gd);\n",
       "            observer.disconnect();\n",
       "        }}\n",
       "}});\n",
       "\n",
       "// Listen for the removal of the full notebook cells\n",
       "var notebookContainer = gd.closest('#notebook-container');\n",
       "if (notebookContainer) {{\n",
       "    x.observe(notebookContainer, {childList: true});\n",
       "}}\n",
       "\n",
       "// Listen for the clearing of the current output cell\n",
       "var outputEl = gd.closest('.output');\n",
       "if (outputEl) {{\n",
       "    x.observe(outputEl, {childList: true});\n",
       "}}\n",
       "\n",
       "                        })                };                });            </script>        </div>"
      ]
     },
     "metadata": {},
     "output_type": "display_data"
    }
   ],
   "source": [
    "import plotly.graph_objs as go\n",
    "from plotly.offline import iplot\n",
    "x=train_val_restaurants['target'].value_counts()  # to check if there is imbalance data or not (outliers)\n",
    "labels=['Good Restaurants(1)','Bad Restaurants(0)']\n",
    "print(x)\n",
    "trace=go.Pie(labels=labels,values=x,hoverinfo='label+percent',textinfo='percent',textfont=dict(size=25),\n",
    "              pull=[0, 0, 0,0.2, 0])\n",
    "iplot([trace])"
   ]
  },
  {
   "cell_type": "code",
   "execution_count": 103,
   "id": "6a5691e3",
   "metadata": {
    "execution": {
     "iopub.execute_input": "2022-04-18T16:19:16.516668Z",
     "iopub.status.busy": "2022-04-18T16:19:16.516016Z",
     "iopub.status.idle": "2022-04-18T16:19:16.519669Z",
     "shell.execute_reply": "2022-04-18T16:19:16.519079Z"
    },
    "papermill": {
     "duration": 0.189201,
     "end_time": "2022-04-18T16:19:16.521626",
     "exception": false,
     "start_time": "2022-04-18T16:19:16.332425",
     "status": "completed"
    },
    "tags": []
   },
   "outputs": [],
   "source": [
    "# from the above pie chart, it is clear that approx both the values are equal; so there is no imbalance data... "
   ]
  },
  {
   "cell_type": "code",
   "execution_count": 104,
   "id": "0ce1fc6c",
   "metadata": {
    "execution": {
     "iopub.execute_input": "2022-04-18T16:19:16.892413Z",
     "iopub.status.busy": "2022-04-18T16:19:16.892089Z",
     "iopub.status.idle": "2022-04-18T16:19:16.895978Z",
     "shell.execute_reply": "2022-04-18T16:19:16.895104Z"
    },
    "papermill": {
     "duration": 0.190924,
     "end_time": "2022-04-18T16:19:16.898235",
     "exception": false,
     "start_time": "2022-04-18T16:19:16.707311",
     "status": "completed"
    },
    "tags": []
   },
   "outputs": [],
   "source": [
    "## PERFORM FEATURE IMPORTANCE/EXTRACTION ON DATA"
   ]
  },
  {
   "cell_type": "code",
   "execution_count": 105,
   "id": "46b1ff2b",
   "metadata": {
    "execution": {
     "iopub.execute_input": "2022-04-18T16:19:17.266078Z",
     "iopub.status.busy": "2022-04-18T16:19:17.265760Z",
     "iopub.status.idle": "2022-04-18T16:19:17.269798Z",
     "shell.execute_reply": "2022-04-18T16:19:17.268831Z"
    },
    "papermill": {
     "duration": 0.188266,
     "end_time": "2022-04-18T16:19:17.271901",
     "exception": false,
     "start_time": "2022-04-18T16:19:17.083635",
     "status": "completed"
    },
    "tags": []
   },
   "outputs": [],
   "source": [
    "# Define the features to be used on training. (important features)\n",
    "# Here we will take a look at the raw data to select valuable features and apply some steps to create another ones."
   ]
  },
  {
   "cell_type": "code",
   "execution_count": 106,
   "id": "3d340d50",
   "metadata": {
    "execution": {
     "iopub.execute_input": "2022-04-18T16:19:17.637061Z",
     "iopub.status.busy": "2022-04-18T16:19:17.636400Z",
     "iopub.status.idle": "2022-04-18T16:19:17.640481Z",
     "shell.execute_reply": "2022-04-18T16:19:17.639827Z"
    },
    "papermill": {
     "duration": 0.188006,
     "end_time": "2022-04-18T16:19:17.642421",
     "exception": false,
     "start_time": "2022-04-18T16:19:17.454415",
     "status": "completed"
    },
    "tags": []
   },
   "outputs": [],
   "source": [
    "# the main idea is to get the length of the list of cuisine and rest_type feature so that we can create a new column.\n",
    "def count(x):\n",
    "    return len(x.split(','))"
   ]
  },
  {
   "cell_type": "code",
   "execution_count": 107,
   "id": "b8f8c5ee",
   "metadata": {
    "execution": {
     "iopub.execute_input": "2022-04-18T16:19:18.014507Z",
     "iopub.status.busy": "2022-04-18T16:19:18.014193Z",
     "iopub.status.idle": "2022-04-18T16:19:18.089824Z",
     "shell.execute_reply": "2022-04-18T16:19:18.088804Z"
    },
    "papermill": {
     "duration": 0.263278,
     "end_time": "2022-04-18T16:19:18.092357",
     "exception": false,
     "start_time": "2022-04-18T16:19:17.829079",
     "status": "completed"
    },
    "tags": []
   },
   "outputs": [],
   "source": [
    "# as it have some NAN values, that's why very firstly; have to convert into str  &  then apply count function\n",
    "train_val_restaurants['total_cuisines']=train_val_restaurants['cuisines'].astype(str).apply(count)\n",
    "train_val_restaurants['multiple_types']=train_val_restaurants['rest_type'].astype(str).apply(count)"
   ]
  },
  {
   "cell_type": "code",
   "execution_count": 108,
   "id": "66a5b971",
   "metadata": {
    "execution": {
     "iopub.execute_input": "2022-04-18T16:19:18.462217Z",
     "iopub.status.busy": "2022-04-18T16:19:18.461897Z",
     "iopub.status.idle": "2022-04-18T16:19:18.468889Z",
     "shell.execute_reply": "2022-04-18T16:19:18.467910Z"
    },
    "papermill": {
     "duration": 0.196808,
     "end_time": "2022-04-18T16:19:18.471192",
     "exception": false,
     "start_time": "2022-04-18T16:19:18.274384",
     "status": "completed"
    },
    "tags": []
   },
   "outputs": [
    {
     "data": {
      "text/plain": [
       "Index(['url', 'address', 'name', 'online_order', 'book_table', 'rate', 'votes',\n",
       "       'phone', 'location', 'rest_type', 'dish_liked', 'cuisines',\n",
       "       'approx_cost(for two people)', 'reviews_list', 'menu_item',\n",
       "       'listed_in(type)', 'listed_in(city)', 'Top_types', 'rated', 'target',\n",
       "       'total_cuisines', 'multiple_types'],\n",
       "      dtype='object')"
      ]
     },
     "execution_count": 108,
     "metadata": {},
     "output_type": "execute_result"
    }
   ],
   "source": [
    "# from these features, will choose the important features which will play important role in the prediction\n",
    "train_val_restaurants.columns"
   ]
  },
  {
   "cell_type": "code",
   "execution_count": 109,
   "id": "335d1664",
   "metadata": {
    "execution": {
     "iopub.execute_input": "2022-04-18T16:19:18.858549Z",
     "iopub.status.busy": "2022-04-18T16:19:18.858178Z",
     "iopub.status.idle": "2022-04-18T16:19:18.863507Z",
     "shell.execute_reply": "2022-04-18T16:19:18.862720Z"
    },
    "papermill": {
     "duration": 0.210121,
     "end_time": "2022-04-18T16:19:18.865462",
     "exception": false,
     "start_time": "2022-04-18T16:19:18.655341",
     "status": "completed"
    },
    "tags": []
   },
   "outputs": [],
   "source": [
    "# important features...\n",
    "imp_features=['online_order','book_table','location','rest_type',\n",
    "              'multiple_types','total_cuisines','listed_in(type)', \n",
    "              'listed_in(city)','approx_cost(for two people)','target']"
   ]
  },
  {
   "cell_type": "code",
   "execution_count": 110,
   "id": "f1195fed",
   "metadata": {
    "execution": {
     "iopub.execute_input": "2022-04-18T16:19:19.244607Z",
     "iopub.status.busy": "2022-04-18T16:19:19.244270Z",
     "iopub.status.idle": "2022-04-18T16:19:19.270166Z",
     "shell.execute_reply": "2022-04-18T16:19:19.269290Z"
    },
    "papermill": {
     "duration": 0.220633,
     "end_time": "2022-04-18T16:19:19.272378",
     "exception": false,
     "start_time": "2022-04-18T16:19:19.051745",
     "status": "completed"
    },
    "tags": []
   },
   "outputs": [
    {
     "data": {
      "text/html": [
       "<div>\n",
       "<style scoped>\n",
       "    .dataframe tbody tr th:only-of-type {\n",
       "        vertical-align: middle;\n",
       "    }\n",
       "\n",
       "    .dataframe tbody tr th {\n",
       "        vertical-align: top;\n",
       "    }\n",
       "\n",
       "    .dataframe thead th {\n",
       "        text-align: right;\n",
       "    }\n",
       "</style>\n",
       "<table border=\"1\" class=\"dataframe\">\n",
       "  <thead>\n",
       "    <tr style=\"text-align: right;\">\n",
       "      <th></th>\n",
       "      <th>online_order</th>\n",
       "      <th>book_table</th>\n",
       "      <th>location</th>\n",
       "      <th>rest_type</th>\n",
       "      <th>multiple_types</th>\n",
       "      <th>total_cuisines</th>\n",
       "      <th>listed_in(type)</th>\n",
       "      <th>listed_in(city)</th>\n",
       "      <th>approx_cost(for two people)</th>\n",
       "      <th>target</th>\n",
       "    </tr>\n",
       "  </thead>\n",
       "  <tbody>\n",
       "    <tr>\n",
       "      <th>0</th>\n",
       "      <td>Yes</td>\n",
       "      <td>Yes</td>\n",
       "      <td>Banashankari</td>\n",
       "      <td>Casual Dining</td>\n",
       "      <td>1</td>\n",
       "      <td>3</td>\n",
       "      <td>Buffet</td>\n",
       "      <td>Banashankari</td>\n",
       "      <td>800.0</td>\n",
       "      <td>1</td>\n",
       "    </tr>\n",
       "    <tr>\n",
       "      <th>1</th>\n",
       "      <td>Yes</td>\n",
       "      <td>No</td>\n",
       "      <td>Banashankari</td>\n",
       "      <td>Casual Dining</td>\n",
       "      <td>1</td>\n",
       "      <td>3</td>\n",
       "      <td>Buffet</td>\n",
       "      <td>Banashankari</td>\n",
       "      <td>800.0</td>\n",
       "      <td>1</td>\n",
       "    </tr>\n",
       "    <tr>\n",
       "      <th>2</th>\n",
       "      <td>Yes</td>\n",
       "      <td>No</td>\n",
       "      <td>Banashankari</td>\n",
       "      <td>Cafe, Casual Dining</td>\n",
       "      <td>2</td>\n",
       "      <td>3</td>\n",
       "      <td>Buffet</td>\n",
       "      <td>Banashankari</td>\n",
       "      <td>800.0</td>\n",
       "      <td>1</td>\n",
       "    </tr>\n",
       "    <tr>\n",
       "      <th>3</th>\n",
       "      <td>No</td>\n",
       "      <td>No</td>\n",
       "      <td>Banashankari</td>\n",
       "      <td>Quick Bites</td>\n",
       "      <td>1</td>\n",
       "      <td>2</td>\n",
       "      <td>Buffet</td>\n",
       "      <td>Banashankari</td>\n",
       "      <td>300.0</td>\n",
       "      <td>0</td>\n",
       "    </tr>\n",
       "    <tr>\n",
       "      <th>4</th>\n",
       "      <td>No</td>\n",
       "      <td>No</td>\n",
       "      <td>Basavanagudi</td>\n",
       "      <td>Casual Dining</td>\n",
       "      <td>1</td>\n",
       "      <td>2</td>\n",
       "      <td>Buffet</td>\n",
       "      <td>Banashankari</td>\n",
       "      <td>600.0</td>\n",
       "      <td>1</td>\n",
       "    </tr>\n",
       "  </tbody>\n",
       "</table>\n",
       "</div>"
      ],
      "text/plain": [
       "  online_order book_table      location            rest_type  multiple_types  \\\n",
       "0          Yes        Yes  Banashankari        Casual Dining               1   \n",
       "1          Yes         No  Banashankari        Casual Dining               1   \n",
       "2          Yes         No  Banashankari  Cafe, Casual Dining               2   \n",
       "3           No         No  Banashankari          Quick Bites               1   \n",
       "4           No         No  Basavanagudi        Casual Dining               1   \n",
       "\n",
       "   total_cuisines listed_in(type) listed_in(city)  \\\n",
       "0               3          Buffet    Banashankari   \n",
       "1               3          Buffet    Banashankari   \n",
       "2               3          Buffet    Banashankari   \n",
       "3               2          Buffet    Banashankari   \n",
       "4               2          Buffet    Banashankari   \n",
       "\n",
       "   approx_cost(for two people)  target  \n",
       "0                        800.0       1  \n",
       "1                        800.0       1  \n",
       "2                        800.0       1  \n",
       "3                        300.0       0  \n",
       "4                        600.0       1  "
      ]
     },
     "execution_count": 110,
     "metadata": {},
     "output_type": "execute_result"
    }
   ],
   "source": [
    "data = train_val_restaurants[imp_features]\n",
    "data.head()"
   ]
  },
  {
   "cell_type": "code",
   "execution_count": 111,
   "id": "d386b630",
   "metadata": {
    "execution": {
     "iopub.execute_input": "2022-04-18T16:19:19.702577Z",
     "iopub.status.busy": "2022-04-18T16:19:19.701474Z",
     "iopub.status.idle": "2022-04-18T16:19:19.705892Z",
     "shell.execute_reply": "2022-04-18T16:19:19.705303Z"
    },
    "papermill": {
     "duration": 0.224665,
     "end_time": "2022-04-18T16:19:19.708110",
     "exception": false,
     "start_time": "2022-04-18T16:19:19.483445",
     "status": "completed"
    },
    "tags": []
   },
   "outputs": [],
   "source": [
    "## COMING ACCROSS WITH THE MISSING VALUES IN THE DATA...\n",
    "#1 removing all the missing values\n",
    "#2 separate catagorical and numerical values"
   ]
  },
  {
   "cell_type": "code",
   "execution_count": 112,
   "id": "b4353f7f",
   "metadata": {
    "execution": {
     "iopub.execute_input": "2022-04-18T16:19:20.152517Z",
     "iopub.status.busy": "2022-04-18T16:19:20.151903Z",
     "iopub.status.idle": "2022-04-18T16:19:20.188535Z",
     "shell.execute_reply": "2022-04-18T16:19:20.187428Z"
    },
    "papermill": {
     "duration": 0.269985,
     "end_time": "2022-04-18T16:19:20.191229",
     "exception": false,
     "start_time": "2022-04-18T16:19:19.921244",
     "status": "completed"
    },
    "tags": []
   },
   "outputs": [
    {
     "data": {
      "text/plain": [
       "online_order                     0\n",
       "book_table                       0\n",
       "location                         0\n",
       "rest_type                      149\n",
       "multiple_types                   0\n",
       "total_cuisines                   0\n",
       "listed_in(type)                  0\n",
       "listed_in(city)                  0\n",
       "approx_cost(for two people)    247\n",
       "target                           0\n",
       "dtype: int64"
      ]
     },
     "execution_count": 112,
     "metadata": {},
     "output_type": "execute_result"
    }
   ],
   "source": [
    "#1 removing all the missing values\n",
    "# checking how many missing values are there\n",
    "data.isnull().sum()  "
   ]
  },
  {
   "cell_type": "code",
   "execution_count": 113,
   "id": "910cfb69",
   "metadata": {
    "execution": {
     "iopub.execute_input": "2022-04-18T16:19:20.648386Z",
     "iopub.status.busy": "2022-04-18T16:19:20.646859Z",
     "iopub.status.idle": "2022-04-18T16:19:20.713952Z",
     "shell.execute_reply": "2022-04-18T16:19:20.712961Z"
    },
    "papermill": {
     "duration": 0.298238,
     "end_time": "2022-04-18T16:19:20.717000",
     "exception": false,
     "start_time": "2022-04-18T16:19:20.418762",
     "status": "completed"
    },
    "tags": []
   },
   "outputs": [],
   "source": [
    "data.dropna(how='any', inplace=True)  # --any is used to remove all missing values where ever present in the data"
   ]
  },
  {
   "cell_type": "code",
   "execution_count": 114,
   "id": "d991d39a",
   "metadata": {
    "execution": {
     "iopub.execute_input": "2022-04-18T16:19:21.197445Z",
     "iopub.status.busy": "2022-04-18T16:19:21.196857Z",
     "iopub.status.idle": "2022-04-18T16:19:21.205810Z",
     "shell.execute_reply": "2022-04-18T16:19:21.204916Z"
    },
    "papermill": {
     "duration": 0.237579,
     "end_time": "2022-04-18T16:19:21.208506",
     "exception": false,
     "start_time": "2022-04-18T16:19:20.970927",
     "status": "completed"
    },
    "tags": []
   },
   "outputs": [
    {
     "data": {
      "text/plain": [
       "online_order                    object\n",
       "book_table                      object\n",
       "location                        object\n",
       "rest_type                       object\n",
       "multiple_types                   int64\n",
       "total_cuisines                   int64\n",
       "listed_in(type)                 object\n",
       "listed_in(city)                 object\n",
       "approx_cost(for two people)    float64\n",
       "target                           int64\n",
       "dtype: object"
      ]
     },
     "execution_count": 114,
     "metadata": {},
     "output_type": "execute_result"
    }
   ],
   "source": [
    "#2 separate catagorical and numerical values (-- separate objects from int and float)\n",
    "data.dtypes"
   ]
  },
  {
   "cell_type": "code",
   "execution_count": 115,
   "id": "cbdbe8e7",
   "metadata": {
    "execution": {
     "iopub.execute_input": "2022-04-18T16:19:21.682307Z",
     "iopub.status.busy": "2022-04-18T16:19:21.681927Z",
     "iopub.status.idle": "2022-04-18T16:19:21.688523Z",
     "shell.execute_reply": "2022-04-18T16:19:21.687927Z"
    },
    "papermill": {
     "duration": 0.244441,
     "end_time": "2022-04-18T16:19:21.690597",
     "exception": false,
     "start_time": "2022-04-18T16:19:21.446156",
     "status": "completed"
    },
    "tags": []
   },
   "outputs": [],
   "source": [
    "cat_features=[col for col in data.columns if data[col].dtype=='O']  # if dtype is object, store it in a cat_features list\n",
    "num_features=[col for col in data.columns if data[col].dtype!='O']  # if dtype is int/float, store it in a num_features list"
   ]
  },
  {
   "cell_type": "code",
   "execution_count": 116,
   "id": "60b02d6d",
   "metadata": {
    "execution": {
     "iopub.execute_input": "2022-04-18T16:19:22.138092Z",
     "iopub.status.busy": "2022-04-18T16:19:22.137478Z",
     "iopub.status.idle": "2022-04-18T16:19:22.165327Z",
     "shell.execute_reply": "2022-04-18T16:19:22.164615Z"
    },
    "papermill": {
     "duration": 0.255268,
     "end_time": "2022-04-18T16:19:22.167753",
     "exception": false,
     "start_time": "2022-04-18T16:19:21.912485",
     "status": "completed"
    },
    "tags": []
   },
   "outputs": [
    {
     "name": "stdout",
     "output_type": "stream",
     "text": [
      "online_order has total 2 unique features\n",
      "book_table has total 2 unique features\n",
      "location has total 92 unique features\n",
      "rest_type has total 87 unique features\n",
      "listed_in(type) has total 7 unique features\n",
      "listed_in(city) has total 30 unique features\n"
     ]
    }
   ],
   "source": [
    "# for each cat_feature we found the total no. of unique values \n",
    "for feature in cat_features:\n",
    "    print('{} has total {} unique features'.format(feature, data[feature].nunique()))"
   ]
  },
  {
   "cell_type": "code",
   "execution_count": 117,
   "id": "401c9c31",
   "metadata": {
    "execution": {
     "iopub.execute_input": "2022-04-18T16:19:22.547266Z",
     "iopub.status.busy": "2022-04-18T16:19:22.546949Z",
     "iopub.status.idle": "2022-04-18T16:19:22.550533Z",
     "shell.execute_reply": "2022-04-18T16:19:22.549934Z"
    },
    "papermill": {
     "duration": 0.196784,
     "end_time": "2022-04-18T16:19:22.552646",
     "exception": false,
     "start_time": "2022-04-18T16:19:22.355862",
     "status": "completed"
    },
    "tags": []
   },
   "outputs": [],
   "source": [
    "## PERFORM FEATURE ENCODING ON THE DATA\n",
    "#1 reducing the unique no. of features\n",
    "#2 feature encoding --converting catagorical values into numerical values"
   ]
  },
  {
   "cell_type": "code",
   "execution_count": 118,
   "id": "775c57c4",
   "metadata": {
    "execution": {
     "iopub.execute_input": "2022-04-18T16:19:23.011256Z",
     "iopub.status.busy": "2022-04-18T16:19:23.010677Z",
     "iopub.status.idle": "2022-04-18T16:19:23.013887Z",
     "shell.execute_reply": "2022-04-18T16:19:23.013280Z"
    },
    "papermill": {
     "duration": 0.230926,
     "end_time": "2022-04-18T16:19:23.016171",
     "exception": false,
     "start_time": "2022-04-18T16:19:22.785245",
     "status": "completed"
    },
    "tags": []
   },
   "outputs": [],
   "source": [
    "#1 reducing the unique no. of features\n",
    "# checking the % contibution of each location --if contribution is greater than threshold, keeping them(imp) and rest as others.\n",
    "# location and rest_type has max features; so reducing thre less important ones"
   ]
  },
  {
   "cell_type": "code",
   "execution_count": 119,
   "id": "915e7348",
   "metadata": {
    "execution": {
     "iopub.execute_input": "2022-04-18T16:19:23.473843Z",
     "iopub.status.busy": "2022-04-18T16:19:23.473313Z",
     "iopub.status.idle": "2022-04-18T16:19:23.486767Z",
     "shell.execute_reply": "2022-04-18T16:19:23.486039Z"
    },
    "papermill": {
     "duration": 0.243027,
     "end_time": "2022-04-18T16:19:23.489764",
     "exception": false,
     "start_time": "2022-04-18T16:19:23.246737",
     "status": "completed"
    },
    "tags": []
   },
   "outputs": [
    {
     "name": "stdout",
     "output_type": "stream",
     "text": [
      "Total feature in location are 92\n",
      "Total feature in rest_type are 87\n"
     ]
    }
   ],
   "source": [
    "cols=['location','rest_type']\n",
    "for col in cols:\n",
    "    print('Total feature in {} are {}'.format(col,data[col].nunique()))"
   ]
  },
  {
   "cell_type": "code",
   "execution_count": 120,
   "id": "b7c9d4a4",
   "metadata": {
    "execution": {
     "iopub.execute_input": "2022-04-18T16:19:23.950444Z",
     "iopub.status.busy": "2022-04-18T16:19:23.950155Z",
     "iopub.status.idle": "2022-04-18T16:19:23.967076Z",
     "shell.execute_reply": "2022-04-18T16:19:23.966384Z"
    },
    "papermill": {
     "duration": 0.252297,
     "end_time": "2022-04-18T16:19:23.969440",
     "exception": false,
     "start_time": "2022-04-18T16:19:23.717143",
     "status": "completed"
    },
    "tags": []
   },
   "outputs": [
    {
     "data": {
      "text/plain": [
       "BTM                      9.398851\n",
       "Koramangala 5th Block    5.565651\n",
       "HSR                      4.829057\n",
       "Indiranagar              4.361416\n",
       "JP Nagar                 4.143345\n",
       "Jayanagar                3.959197\n",
       "Whitefield               3.808970\n",
       "Marathahalli             3.416443\n",
       "Bannerghatta Road        2.970609\n",
       "Koramangala 7th Block    2.556274\n",
       "Koramangala 6th Block    2.553851\n",
       "Brigade Road             2.549005\n",
       "Bellandur                2.415740\n",
       "Sarjapur Road            2.069250\n",
       "Koramangala 1st Block    2.064404\n",
       "Ulsoor                   2.057135\n",
       "Koramangala 4th Block    2.037750\n",
       "Electronic City          2.020789\n",
       "MG Road                  1.921446\n",
       "Banashankari             1.802719\n",
       "Kalyan Nagar             1.681568\n",
       "Malleshwaram             1.553149\n",
       "Residency Road           1.463497\n",
       "Richmond Road            1.463497\n",
       "Basavanagudi             1.441690\n",
       "Frazer Town              1.371423\n",
       "Church Street            1.322963\n",
       "Brookefield              1.315694\n",
       "New BEL Road             1.226042\n",
       "Kammanahalli             1.194543\n",
       "Lavelle Road             1.165467\n",
       "Cunningham Road          1.150929\n",
       "Banaswadi                1.133968\n",
       "Rajajinagar              1.117007\n",
       "Domlur                   0.983742\n",
       "Shanti Nagar             0.891667\n",
       "Old Airport Road         0.855322\n",
       "St. Marks Road           0.831092\n",
       "Shivajinagar             0.671173\n",
       "Commercial Street        0.654212\n",
       "Ejipura                  0.620290\n",
       "Jeevan Bhima Nagar       0.598483\n",
       "Vasanth Nagar            0.593637\n",
       "Koramangala 8th Block    0.513678\n",
       "Koramangala 3rd Block    0.462795\n",
       "Wilson Garden            0.453103\n",
       "Name: location, dtype: float64"
      ]
     },
     "execution_count": 120,
     "metadata": {},
     "output_type": "execute_result"
    }
   ],
   "source": [
    "# for location, setting threshold=0.4 for selecting important, and less important to others.\n",
    "values=data['location'].value_counts()/len(data)*100\n",
    "values\n",
    "\n",
    "threshold=0.4\n",
    "imp=values[values>threshold]\n",
    "imp"
   ]
  },
  {
   "cell_type": "code",
   "execution_count": 121,
   "id": "32388625",
   "metadata": {
    "execution": {
     "iopub.execute_input": "2022-04-18T16:19:24.429414Z",
     "iopub.status.busy": "2022-04-18T16:19:24.429089Z",
     "iopub.status.idle": "2022-04-18T16:19:24.443489Z",
     "shell.execute_reply": "2022-04-18T16:19:24.442187Z"
    },
    "papermill": {
     "duration": 0.246488,
     "end_time": "2022-04-18T16:19:24.446108",
     "exception": false,
     "start_time": "2022-04-18T16:19:24.199620",
     "status": "completed"
    },
    "tags": []
   },
   "outputs": [
    {
     "data": {
      "text/plain": [
       "0        Banashankari\n",
       "1        Banashankari\n",
       "2        Banashankari\n",
       "3        Banashankari\n",
       "4        Basavanagudi\n",
       "             ...     \n",
       "51709      Whitefield\n",
       "51711      Whitefield\n",
       "51712      Whitefield\n",
       "51715           other\n",
       "51716           other\n",
       "Name: location, Length: 41271, dtype: object"
      ]
     },
     "execution_count": 121,
     "metadata": {},
     "output_type": "execute_result"
    }
   ],
   "source": [
    "# if value<threshold, assign it to others else keep the important ones\n",
    "data['location']=np.where(data['location'].isin(imp.index),data['location'],'other')\n",
    "data['location']"
   ]
  },
  {
   "cell_type": "code",
   "execution_count": 122,
   "id": "f7c251c6",
   "metadata": {
    "execution": {
     "iopub.execute_input": "2022-04-18T16:19:24.899385Z",
     "iopub.status.busy": "2022-04-18T16:19:24.899099Z",
     "iopub.status.idle": "2022-04-18T16:19:24.913508Z",
     "shell.execute_reply": "2022-04-18T16:19:24.912855Z"
    },
    "papermill": {
     "duration": 0.243483,
     "end_time": "2022-04-18T16:19:24.915602",
     "exception": false,
     "start_time": "2022-04-18T16:19:24.672119",
     "status": "completed"
    },
    "tags": []
   },
   "outputs": [
    {
     "data": {
      "text/plain": [
       "Quick Bites           33.643478\n",
       "Casual Dining         23.299654\n",
       "Cafe                   8.163117\n",
       "Dessert Parlor         4.482566\n",
       "Delivery               4.048848\n",
       "Takeaway, Delivery     3.099028\n",
       "Casual Dining, Bar     2.645926\n",
       "Bakery                 1.705798\n",
       "Beverage Shop          1.555572\n",
       "Bar                    1.550726\n",
       "Name: rest_type, dtype: float64"
      ]
     },
     "execution_count": 122,
     "metadata": {},
     "output_type": "execute_result"
    }
   ],
   "source": [
    "# for rest_type, setting threshold=1.5 for selecting important, and less important to others.\n",
    "values2=data['rest_type'].value_counts()/len(data)*100\n",
    "values2\n",
    "\n",
    "threshold=1.5\n",
    "imp2=values2[values2>threshold]\n",
    "imp2"
   ]
  },
  {
   "cell_type": "code",
   "execution_count": 123,
   "id": "8796bc52",
   "metadata": {
    "execution": {
     "iopub.execute_input": "2022-04-18T16:19:25.381944Z",
     "iopub.status.busy": "2022-04-18T16:19:25.381264Z",
     "iopub.status.idle": "2022-04-18T16:19:25.392662Z",
     "shell.execute_reply": "2022-04-18T16:19:25.391967Z"
    },
    "papermill": {
     "duration": 0.249959,
     "end_time": "2022-04-18T16:19:25.395179",
     "exception": false,
     "start_time": "2022-04-18T16:19:25.145220",
     "status": "completed"
    },
    "tags": []
   },
   "outputs": [
    {
     "data": {
      "text/plain": [
       "0             Casual Dining\n",
       "1             Casual Dining\n",
       "2                     other\n",
       "3               Quick Bites\n",
       "4             Casual Dining\n",
       "                ...        \n",
       "51709    Casual Dining, Bar\n",
       "51711    Casual Dining, Bar\n",
       "51712                   Bar\n",
       "51715                   Bar\n",
       "51716                 other\n",
       "Name: rest_type, Length: 41271, dtype: object"
      ]
     },
     "execution_count": 123,
     "metadata": {},
     "output_type": "execute_result"
    }
   ],
   "source": [
    "# if value<threshold, assign it to others else keep the important ones\n",
    "data['rest_type']=np.where(data['rest_type'].isin(imp2.index),data['rest_type'],'other')\n",
    "data['rest_type']"
   ]
  },
  {
   "cell_type": "code",
   "execution_count": 124,
   "id": "202ddae4",
   "metadata": {
    "execution": {
     "iopub.execute_input": "2022-04-18T16:19:25.862682Z",
     "iopub.status.busy": "2022-04-18T16:19:25.862133Z",
     "iopub.status.idle": "2022-04-18T16:19:25.893163Z",
     "shell.execute_reply": "2022-04-18T16:19:25.891940Z"
    },
    "papermill": {
     "duration": 0.269403,
     "end_time": "2022-04-18T16:19:25.895715",
     "exception": false,
     "start_time": "2022-04-18T16:19:25.626312",
     "status": "completed"
    },
    "tags": []
   },
   "outputs": [
    {
     "name": "stdout",
     "output_type": "stream",
     "text": [
      "online_order has total 2 unique features\n",
      "book_table has total 2 unique features\n",
      "location has total 47 unique features\n",
      "rest_type has total 11 unique features\n",
      "listed_in(type) has total 7 unique features\n",
      "listed_in(city) has total 30 unique features\n"
     ]
    }
   ],
   "source": [
    "# after applying feature reduction, we will observe less number of features\n",
    "for feature in cat_features:\n",
    "    print('{} has total {} unique features'.format(feature, data[feature].nunique()))"
   ]
  },
  {
   "cell_type": "code",
   "execution_count": 125,
   "id": "6aea22bb",
   "metadata": {
    "execution": {
     "iopub.execute_input": "2022-04-18T16:19:26.291379Z",
     "iopub.status.busy": "2022-04-18T16:19:26.291016Z",
     "iopub.status.idle": "2022-04-18T16:19:26.294962Z",
     "shell.execute_reply": "2022-04-18T16:19:26.294210Z"
    },
    "papermill": {
     "duration": 0.204157,
     "end_time": "2022-04-18T16:19:26.296943",
     "exception": false,
     "start_time": "2022-04-18T16:19:26.092786",
     "status": "completed"
    },
    "tags": []
   },
   "outputs": [],
   "source": [
    "#2 feature encoding --converting catagorical values into numerical values (ML works on numeric data)\n",
    "# one-hot encoding "
   ]
  },
  {
   "cell_type": "code",
   "execution_count": 126,
   "id": "d746eecd",
   "metadata": {
    "execution": {
     "iopub.execute_input": "2022-04-18T16:19:26.701502Z",
     "iopub.status.busy": "2022-04-18T16:19:26.700789Z",
     "iopub.status.idle": "2022-04-18T16:19:26.706346Z",
     "shell.execute_reply": "2022-04-18T16:19:26.705679Z"
    },
    "papermill": {
     "duration": 0.213334,
     "end_time": "2022-04-18T16:19:26.708313",
     "exception": false,
     "start_time": "2022-04-18T16:19:26.494979",
     "status": "completed"
    },
    "tags": []
   },
   "outputs": [
    {
     "data": {
      "text/plain": [
       "['online_order',\n",
       " 'book_table',\n",
       " 'location',\n",
       " 'rest_type',\n",
       " 'listed_in(type)',\n",
       " 'listed_in(city)']"
      ]
     },
     "execution_count": 126,
     "metadata": {},
     "output_type": "execute_result"
    }
   ],
   "source": [
    "cat_features"
   ]
  },
  {
   "cell_type": "code",
   "execution_count": 127,
   "id": "3b495cc5",
   "metadata": {
    "execution": {
     "iopub.execute_input": "2022-04-18T16:19:27.094545Z",
     "iopub.status.busy": "2022-04-18T16:19:27.093914Z",
     "iopub.status.idle": "2022-04-18T16:19:27.253228Z",
     "shell.execute_reply": "2022-04-18T16:19:27.252376Z"
    },
    "papermill": {
     "duration": 0.356361,
     "end_time": "2022-04-18T16:19:27.255460",
     "exception": false,
     "start_time": "2022-04-18T16:19:26.899099",
     "status": "completed"
    },
    "tags": []
   },
   "outputs": [],
   "source": [
    "data_cat = data[cat_features]\n",
    "for col in cat_features:\n",
    "    col_encoded = pd.get_dummies(data_cat[col],prefix=col,drop_first=True)\n",
    "    data_cat=pd.concat([data_cat,col_encoded],axis=1)\n",
    "    data_cat.drop(col, axis=1, inplace=True)"
   ]
  },
  {
   "cell_type": "code",
   "execution_count": 128,
   "id": "7e1482fd",
   "metadata": {
    "execution": {
     "iopub.execute_input": "2022-04-18T16:19:27.667128Z",
     "iopub.status.busy": "2022-04-18T16:19:27.666425Z",
     "iopub.status.idle": "2022-04-18T16:19:27.688548Z",
     "shell.execute_reply": "2022-04-18T16:19:27.687864Z"
    },
    "papermill": {
     "duration": 0.224263,
     "end_time": "2022-04-18T16:19:27.692256",
     "exception": false,
     "start_time": "2022-04-18T16:19:27.467993",
     "status": "completed"
    },
    "tags": []
   },
   "outputs": [
    {
     "data": {
      "text/html": [
       "<div>\n",
       "<style scoped>\n",
       "    .dataframe tbody tr th:only-of-type {\n",
       "        vertical-align: middle;\n",
       "    }\n",
       "\n",
       "    .dataframe tbody tr th {\n",
       "        vertical-align: top;\n",
       "    }\n",
       "\n",
       "    .dataframe thead th {\n",
       "        text-align: right;\n",
       "    }\n",
       "</style>\n",
       "<table border=\"1\" class=\"dataframe\">\n",
       "  <thead>\n",
       "    <tr style=\"text-align: right;\">\n",
       "      <th></th>\n",
       "      <th>online_order_Yes</th>\n",
       "      <th>book_table_Yes</th>\n",
       "      <th>location_Banashankari</th>\n",
       "      <th>location_Banaswadi</th>\n",
       "      <th>location_Bannerghatta Road</th>\n",
       "      <th>location_Basavanagudi</th>\n",
       "      <th>location_Bellandur</th>\n",
       "      <th>location_Brigade Road</th>\n",
       "      <th>location_Brookefield</th>\n",
       "      <th>location_Church Street</th>\n",
       "      <th>...</th>\n",
       "      <th>listed_in(city)_Lavelle Road</th>\n",
       "      <th>listed_in(city)_MG Road</th>\n",
       "      <th>listed_in(city)_Malleshwaram</th>\n",
       "      <th>listed_in(city)_Marathahalli</th>\n",
       "      <th>listed_in(city)_New BEL Road</th>\n",
       "      <th>listed_in(city)_Old Airport Road</th>\n",
       "      <th>listed_in(city)_Rajajinagar</th>\n",
       "      <th>listed_in(city)_Residency Road</th>\n",
       "      <th>listed_in(city)_Sarjapur Road</th>\n",
       "      <th>listed_in(city)_Whitefield</th>\n",
       "    </tr>\n",
       "  </thead>\n",
       "  <tbody>\n",
       "    <tr>\n",
       "      <th>0</th>\n",
       "      <td>1</td>\n",
       "      <td>1</td>\n",
       "      <td>1</td>\n",
       "      <td>0</td>\n",
       "      <td>0</td>\n",
       "      <td>0</td>\n",
       "      <td>0</td>\n",
       "      <td>0</td>\n",
       "      <td>0</td>\n",
       "      <td>0</td>\n",
       "      <td>...</td>\n",
       "      <td>0</td>\n",
       "      <td>0</td>\n",
       "      <td>0</td>\n",
       "      <td>0</td>\n",
       "      <td>0</td>\n",
       "      <td>0</td>\n",
       "      <td>0</td>\n",
       "      <td>0</td>\n",
       "      <td>0</td>\n",
       "      <td>0</td>\n",
       "    </tr>\n",
       "    <tr>\n",
       "      <th>1</th>\n",
       "      <td>1</td>\n",
       "      <td>0</td>\n",
       "      <td>1</td>\n",
       "      <td>0</td>\n",
       "      <td>0</td>\n",
       "      <td>0</td>\n",
       "      <td>0</td>\n",
       "      <td>0</td>\n",
       "      <td>0</td>\n",
       "      <td>0</td>\n",
       "      <td>...</td>\n",
       "      <td>0</td>\n",
       "      <td>0</td>\n",
       "      <td>0</td>\n",
       "      <td>0</td>\n",
       "      <td>0</td>\n",
       "      <td>0</td>\n",
       "      <td>0</td>\n",
       "      <td>0</td>\n",
       "      <td>0</td>\n",
       "      <td>0</td>\n",
       "    </tr>\n",
       "    <tr>\n",
       "      <th>2</th>\n",
       "      <td>1</td>\n",
       "      <td>0</td>\n",
       "      <td>1</td>\n",
       "      <td>0</td>\n",
       "      <td>0</td>\n",
       "      <td>0</td>\n",
       "      <td>0</td>\n",
       "      <td>0</td>\n",
       "      <td>0</td>\n",
       "      <td>0</td>\n",
       "      <td>...</td>\n",
       "      <td>0</td>\n",
       "      <td>0</td>\n",
       "      <td>0</td>\n",
       "      <td>0</td>\n",
       "      <td>0</td>\n",
       "      <td>0</td>\n",
       "      <td>0</td>\n",
       "      <td>0</td>\n",
       "      <td>0</td>\n",
       "      <td>0</td>\n",
       "    </tr>\n",
       "    <tr>\n",
       "      <th>3</th>\n",
       "      <td>0</td>\n",
       "      <td>0</td>\n",
       "      <td>1</td>\n",
       "      <td>0</td>\n",
       "      <td>0</td>\n",
       "      <td>0</td>\n",
       "      <td>0</td>\n",
       "      <td>0</td>\n",
       "      <td>0</td>\n",
       "      <td>0</td>\n",
       "      <td>...</td>\n",
       "      <td>0</td>\n",
       "      <td>0</td>\n",
       "      <td>0</td>\n",
       "      <td>0</td>\n",
       "      <td>0</td>\n",
       "      <td>0</td>\n",
       "      <td>0</td>\n",
       "      <td>0</td>\n",
       "      <td>0</td>\n",
       "      <td>0</td>\n",
       "    </tr>\n",
       "    <tr>\n",
       "      <th>4</th>\n",
       "      <td>0</td>\n",
       "      <td>0</td>\n",
       "      <td>0</td>\n",
       "      <td>0</td>\n",
       "      <td>0</td>\n",
       "      <td>1</td>\n",
       "      <td>0</td>\n",
       "      <td>0</td>\n",
       "      <td>0</td>\n",
       "      <td>0</td>\n",
       "      <td>...</td>\n",
       "      <td>0</td>\n",
       "      <td>0</td>\n",
       "      <td>0</td>\n",
       "      <td>0</td>\n",
       "      <td>0</td>\n",
       "      <td>0</td>\n",
       "      <td>0</td>\n",
       "      <td>0</td>\n",
       "      <td>0</td>\n",
       "      <td>0</td>\n",
       "    </tr>\n",
       "  </tbody>\n",
       "</table>\n",
       "<p>5 rows × 93 columns</p>\n",
       "</div>"
      ],
      "text/plain": [
       "   online_order_Yes  book_table_Yes  location_Banashankari  \\\n",
       "0                 1               1                      1   \n",
       "1                 1               0                      1   \n",
       "2                 1               0                      1   \n",
       "3                 0               0                      1   \n",
       "4                 0               0                      0   \n",
       "\n",
       "   location_Banaswadi  location_Bannerghatta Road  location_Basavanagudi  \\\n",
       "0                   0                           0                      0   \n",
       "1                   0                           0                      0   \n",
       "2                   0                           0                      0   \n",
       "3                   0                           0                      0   \n",
       "4                   0                           0                      1   \n",
       "\n",
       "   location_Bellandur  location_Brigade Road  location_Brookefield  \\\n",
       "0                   0                      0                     0   \n",
       "1                   0                      0                     0   \n",
       "2                   0                      0                     0   \n",
       "3                   0                      0                     0   \n",
       "4                   0                      0                     0   \n",
       "\n",
       "   location_Church Street  ...  listed_in(city)_Lavelle Road  \\\n",
       "0                       0  ...                             0   \n",
       "1                       0  ...                             0   \n",
       "2                       0  ...                             0   \n",
       "3                       0  ...                             0   \n",
       "4                       0  ...                             0   \n",
       "\n",
       "   listed_in(city)_MG Road  listed_in(city)_Malleshwaram  \\\n",
       "0                        0                             0   \n",
       "1                        0                             0   \n",
       "2                        0                             0   \n",
       "3                        0                             0   \n",
       "4                        0                             0   \n",
       "\n",
       "   listed_in(city)_Marathahalli  listed_in(city)_New BEL Road  \\\n",
       "0                             0                             0   \n",
       "1                             0                             0   \n",
       "2                             0                             0   \n",
       "3                             0                             0   \n",
       "4                             0                             0   \n",
       "\n",
       "   listed_in(city)_Old Airport Road  listed_in(city)_Rajajinagar  \\\n",
       "0                                 0                            0   \n",
       "1                                 0                            0   \n",
       "2                                 0                            0   \n",
       "3                                 0                            0   \n",
       "4                                 0                            0   \n",
       "\n",
       "   listed_in(city)_Residency Road  listed_in(city)_Sarjapur Road  \\\n",
       "0                               0                              0   \n",
       "1                               0                              0   \n",
       "2                               0                              0   \n",
       "3                               0                              0   \n",
       "4                               0                              0   \n",
       "\n",
       "   listed_in(city)_Whitefield  \n",
       "0                           0  \n",
       "1                           0  \n",
       "2                           0  \n",
       "3                           0  \n",
       "4                           0  \n",
       "\n",
       "[5 rows x 93 columns]"
      ]
     },
     "execution_count": 128,
     "metadata": {},
     "output_type": "execute_result"
    }
   ],
   "source": [
    "data_cat.head()  # after applying feature encoding, all the data is converted into numerical values."
   ]
  },
  {
   "cell_type": "code",
   "execution_count": 129,
   "id": "e1a46c5f",
   "metadata": {
    "execution": {
     "iopub.execute_input": "2022-04-18T16:19:28.112588Z",
     "iopub.status.busy": "2022-04-18T16:19:28.110612Z",
     "iopub.status.idle": "2022-04-18T16:19:28.117154Z",
     "shell.execute_reply": "2022-04-18T16:19:28.116194Z"
    },
    "papermill": {
     "duration": 0.210195,
     "end_time": "2022-04-18T16:19:28.119577",
     "exception": false,
     "start_time": "2022-04-18T16:19:27.909382",
     "status": "completed"
    },
    "tags": []
   },
   "outputs": [],
   "source": [
    "### PREPARE ENTIRE DATA FOR MODELLING\n",
    "#1 concatenate both the datas numerical-catagorical data and numerical data\n",
    "#2 Apply Random Forest on the data"
   ]
  },
  {
   "cell_type": "code",
   "execution_count": 130,
   "id": "5d9731c2",
   "metadata": {
    "execution": {
     "iopub.execute_input": "2022-04-18T16:19:28.507802Z",
     "iopub.status.busy": "2022-04-18T16:19:28.507151Z",
     "iopub.status.idle": "2022-04-18T16:19:28.521312Z",
     "shell.execute_reply": "2022-04-18T16:19:28.520428Z"
    },
    "papermill": {
     "duration": 0.213348,
     "end_time": "2022-04-18T16:19:28.523786",
     "exception": false,
     "start_time": "2022-04-18T16:19:28.310438",
     "status": "completed"
    },
    "tags": []
   },
   "outputs": [],
   "source": [
    "data_final=pd.concat([data.loc[:,['multiple_types','total_cuisines','approx_cost(for two people)','target']],data_cat],axis=1)"
   ]
  },
  {
   "cell_type": "code",
   "execution_count": 131,
   "id": "8e62909f",
   "metadata": {
    "execution": {
     "iopub.execute_input": "2022-04-18T16:19:29.103488Z",
     "iopub.status.busy": "2022-04-18T16:19:29.102650Z",
     "iopub.status.idle": "2022-04-18T16:19:29.124216Z",
     "shell.execute_reply": "2022-04-18T16:19:29.123455Z"
    },
    "papermill": {
     "duration": 0.321582,
     "end_time": "2022-04-18T16:19:29.127232",
     "exception": false,
     "start_time": "2022-04-18T16:19:28.805650",
     "status": "completed"
    },
    "tags": []
   },
   "outputs": [
    {
     "data": {
      "text/html": [
       "<div>\n",
       "<style scoped>\n",
       "    .dataframe tbody tr th:only-of-type {\n",
       "        vertical-align: middle;\n",
       "    }\n",
       "\n",
       "    .dataframe tbody tr th {\n",
       "        vertical-align: top;\n",
       "    }\n",
       "\n",
       "    .dataframe thead th {\n",
       "        text-align: right;\n",
       "    }\n",
       "</style>\n",
       "<table border=\"1\" class=\"dataframe\">\n",
       "  <thead>\n",
       "    <tr style=\"text-align: right;\">\n",
       "      <th></th>\n",
       "      <th>multiple_types</th>\n",
       "      <th>total_cuisines</th>\n",
       "      <th>approx_cost(for two people)</th>\n",
       "      <th>target</th>\n",
       "      <th>online_order_Yes</th>\n",
       "      <th>book_table_Yes</th>\n",
       "      <th>location_Banashankari</th>\n",
       "      <th>location_Banaswadi</th>\n",
       "      <th>location_Bannerghatta Road</th>\n",
       "      <th>location_Basavanagudi</th>\n",
       "      <th>...</th>\n",
       "      <th>listed_in(city)_Lavelle Road</th>\n",
       "      <th>listed_in(city)_MG Road</th>\n",
       "      <th>listed_in(city)_Malleshwaram</th>\n",
       "      <th>listed_in(city)_Marathahalli</th>\n",
       "      <th>listed_in(city)_New BEL Road</th>\n",
       "      <th>listed_in(city)_Old Airport Road</th>\n",
       "      <th>listed_in(city)_Rajajinagar</th>\n",
       "      <th>listed_in(city)_Residency Road</th>\n",
       "      <th>listed_in(city)_Sarjapur Road</th>\n",
       "      <th>listed_in(city)_Whitefield</th>\n",
       "    </tr>\n",
       "  </thead>\n",
       "  <tbody>\n",
       "    <tr>\n",
       "      <th>0</th>\n",
       "      <td>1</td>\n",
       "      <td>3</td>\n",
       "      <td>800.0</td>\n",
       "      <td>1</td>\n",
       "      <td>1</td>\n",
       "      <td>1</td>\n",
       "      <td>1</td>\n",
       "      <td>0</td>\n",
       "      <td>0</td>\n",
       "      <td>0</td>\n",
       "      <td>...</td>\n",
       "      <td>0</td>\n",
       "      <td>0</td>\n",
       "      <td>0</td>\n",
       "      <td>0</td>\n",
       "      <td>0</td>\n",
       "      <td>0</td>\n",
       "      <td>0</td>\n",
       "      <td>0</td>\n",
       "      <td>0</td>\n",
       "      <td>0</td>\n",
       "    </tr>\n",
       "    <tr>\n",
       "      <th>1</th>\n",
       "      <td>1</td>\n",
       "      <td>3</td>\n",
       "      <td>800.0</td>\n",
       "      <td>1</td>\n",
       "      <td>1</td>\n",
       "      <td>0</td>\n",
       "      <td>1</td>\n",
       "      <td>0</td>\n",
       "      <td>0</td>\n",
       "      <td>0</td>\n",
       "      <td>...</td>\n",
       "      <td>0</td>\n",
       "      <td>0</td>\n",
       "      <td>0</td>\n",
       "      <td>0</td>\n",
       "      <td>0</td>\n",
       "      <td>0</td>\n",
       "      <td>0</td>\n",
       "      <td>0</td>\n",
       "      <td>0</td>\n",
       "      <td>0</td>\n",
       "    </tr>\n",
       "    <tr>\n",
       "      <th>2</th>\n",
       "      <td>2</td>\n",
       "      <td>3</td>\n",
       "      <td>800.0</td>\n",
       "      <td>1</td>\n",
       "      <td>1</td>\n",
       "      <td>0</td>\n",
       "      <td>1</td>\n",
       "      <td>0</td>\n",
       "      <td>0</td>\n",
       "      <td>0</td>\n",
       "      <td>...</td>\n",
       "      <td>0</td>\n",
       "      <td>0</td>\n",
       "      <td>0</td>\n",
       "      <td>0</td>\n",
       "      <td>0</td>\n",
       "      <td>0</td>\n",
       "      <td>0</td>\n",
       "      <td>0</td>\n",
       "      <td>0</td>\n",
       "      <td>0</td>\n",
       "    </tr>\n",
       "    <tr>\n",
       "      <th>3</th>\n",
       "      <td>1</td>\n",
       "      <td>2</td>\n",
       "      <td>300.0</td>\n",
       "      <td>0</td>\n",
       "      <td>0</td>\n",
       "      <td>0</td>\n",
       "      <td>1</td>\n",
       "      <td>0</td>\n",
       "      <td>0</td>\n",
       "      <td>0</td>\n",
       "      <td>...</td>\n",
       "      <td>0</td>\n",
       "      <td>0</td>\n",
       "      <td>0</td>\n",
       "      <td>0</td>\n",
       "      <td>0</td>\n",
       "      <td>0</td>\n",
       "      <td>0</td>\n",
       "      <td>0</td>\n",
       "      <td>0</td>\n",
       "      <td>0</td>\n",
       "    </tr>\n",
       "    <tr>\n",
       "      <th>4</th>\n",
       "      <td>1</td>\n",
       "      <td>2</td>\n",
       "      <td>600.0</td>\n",
       "      <td>1</td>\n",
       "      <td>0</td>\n",
       "      <td>0</td>\n",
       "      <td>0</td>\n",
       "      <td>0</td>\n",
       "      <td>0</td>\n",
       "      <td>1</td>\n",
       "      <td>...</td>\n",
       "      <td>0</td>\n",
       "      <td>0</td>\n",
       "      <td>0</td>\n",
       "      <td>0</td>\n",
       "      <td>0</td>\n",
       "      <td>0</td>\n",
       "      <td>0</td>\n",
       "      <td>0</td>\n",
       "      <td>0</td>\n",
       "      <td>0</td>\n",
       "    </tr>\n",
       "  </tbody>\n",
       "</table>\n",
       "<p>5 rows × 97 columns</p>\n",
       "</div>"
      ],
      "text/plain": [
       "   multiple_types  total_cuisines  approx_cost(for two people)  target  \\\n",
       "0               1               3                        800.0       1   \n",
       "1               1               3                        800.0       1   \n",
       "2               2               3                        800.0       1   \n",
       "3               1               2                        300.0       0   \n",
       "4               1               2                        600.0       1   \n",
       "\n",
       "   online_order_Yes  book_table_Yes  location_Banashankari  \\\n",
       "0                 1               1                      1   \n",
       "1                 1               0                      1   \n",
       "2                 1               0                      1   \n",
       "3                 0               0                      1   \n",
       "4                 0               0                      0   \n",
       "\n",
       "   location_Banaswadi  location_Bannerghatta Road  location_Basavanagudi  ...  \\\n",
       "0                   0                           0                      0  ...   \n",
       "1                   0                           0                      0  ...   \n",
       "2                   0                           0                      0  ...   \n",
       "3                   0                           0                      0  ...   \n",
       "4                   0                           0                      1  ...   \n",
       "\n",
       "   listed_in(city)_Lavelle Road  listed_in(city)_MG Road  \\\n",
       "0                             0                        0   \n",
       "1                             0                        0   \n",
       "2                             0                        0   \n",
       "3                             0                        0   \n",
       "4                             0                        0   \n",
       "\n",
       "   listed_in(city)_Malleshwaram  listed_in(city)_Marathahalli  \\\n",
       "0                             0                             0   \n",
       "1                             0                             0   \n",
       "2                             0                             0   \n",
       "3                             0                             0   \n",
       "4                             0                             0   \n",
       "\n",
       "   listed_in(city)_New BEL Road  listed_in(city)_Old Airport Road  \\\n",
       "0                             0                                 0   \n",
       "1                             0                                 0   \n",
       "2                             0                                 0   \n",
       "3                             0                                 0   \n",
       "4                             0                                 0   \n",
       "\n",
       "   listed_in(city)_Rajajinagar  listed_in(city)_Residency Road  \\\n",
       "0                            0                               0   \n",
       "1                            0                               0   \n",
       "2                            0                               0   \n",
       "3                            0                               0   \n",
       "4                            0                               0   \n",
       "\n",
       "   listed_in(city)_Sarjapur Road  listed_in(city)_Whitefield  \n",
       "0                              0                           0  \n",
       "1                              0                           0  \n",
       "2                              0                           0  \n",
       "3                              0                           0  \n",
       "4                              0                           0  \n",
       "\n",
       "[5 rows x 97 columns]"
      ]
     },
     "execution_count": 131,
     "metadata": {},
     "output_type": "execute_result"
    }
   ],
   "source": [
    "data_final.head()"
   ]
  },
  {
   "cell_type": "code",
   "execution_count": 132,
   "id": "b8b91d65",
   "metadata": {
    "execution": {
     "iopub.execute_input": "2022-04-18T16:19:29.719979Z",
     "iopub.status.busy": "2022-04-18T16:19:29.719411Z",
     "iopub.status.idle": "2022-04-18T16:19:29.764634Z",
     "shell.execute_reply": "2022-04-18T16:19:29.763577Z"
    },
    "papermill": {
     "duration": 0.34662,
     "end_time": "2022-04-18T16:19:29.767002",
     "exception": false,
     "start_time": "2022-04-18T16:19:29.420382",
     "status": "completed"
    },
    "tags": []
   },
   "outputs": [],
   "source": [
    "X = data_final.drop('target', axis=1)  # independent data\n",
    "y = data_final['target'].values  # dependent data (prediction)"
   ]
  },
  {
   "cell_type": "code",
   "execution_count": 133,
   "id": "d2818268",
   "metadata": {
    "execution": {
     "iopub.execute_input": "2022-04-18T16:19:30.333289Z",
     "iopub.status.busy": "2022-04-18T16:19:30.332688Z",
     "iopub.status.idle": "2022-04-18T16:19:30.337692Z",
     "shell.execute_reply": "2022-04-18T16:19:30.336892Z"
    },
    "papermill": {
     "duration": 0.277816,
     "end_time": "2022-04-18T16:19:30.339523",
     "exception": false,
     "start_time": "2022-04-18T16:19:30.061707",
     "status": "completed"
    },
    "tags": []
   },
   "outputs": [
    {
     "data": {
      "text/plain": [
       "(41271, 97)"
      ]
     },
     "execution_count": 133,
     "metadata": {},
     "output_type": "execute_result"
    }
   ],
   "source": [
    "data_final.shape"
   ]
  },
  {
   "cell_type": "code",
   "execution_count": 134,
   "id": "4c41c346",
   "metadata": {
    "execution": {
     "iopub.execute_input": "2022-04-18T16:19:30.717776Z",
     "iopub.status.busy": "2022-04-18T16:19:30.717187Z",
     "iopub.status.idle": "2022-04-18T16:19:30.978622Z",
     "shell.execute_reply": "2022-04-18T16:19:30.977770Z"
    },
    "papermill": {
     "duration": 0.453707,
     "end_time": "2022-04-18T16:19:30.980961",
     "exception": false,
     "start_time": "2022-04-18T16:19:30.527254",
     "status": "completed"
    },
    "tags": []
   },
   "outputs": [],
   "source": [
    "# 20% data is used for testing and 80% for training\n",
    "from sklearn.model_selection import train_test_split\n",
    "X_train, X_test, y_train, y_test = train_test_split(X, y, test_size=.20, random_state=42)"
   ]
  },
  {
   "cell_type": "code",
   "execution_count": 135,
   "id": "9f841b00",
   "metadata": {
    "execution": {
     "iopub.execute_input": "2022-04-18T16:19:31.362460Z",
     "iopub.status.busy": "2022-04-18T16:19:31.362163Z",
     "iopub.status.idle": "2022-04-18T16:19:31.367978Z",
     "shell.execute_reply": "2022-04-18T16:19:31.367092Z"
    },
    "papermill": {
     "duration": 0.198325,
     "end_time": "2022-04-18T16:19:31.370572",
     "exception": false,
     "start_time": "2022-04-18T16:19:31.172247",
     "status": "completed"
    },
    "tags": []
   },
   "outputs": [
    {
     "data": {
      "text/plain": [
       "(33016, 96)"
      ]
     },
     "execution_count": 135,
     "metadata": {},
     "output_type": "execute_result"
    }
   ],
   "source": [
    "X_train.shape  # 80% data for training"
   ]
  },
  {
   "cell_type": "code",
   "execution_count": 136,
   "id": "c9e593e7",
   "metadata": {
    "execution": {
     "iopub.execute_input": "2022-04-18T16:19:31.782666Z",
     "iopub.status.busy": "2022-04-18T16:19:31.782255Z",
     "iopub.status.idle": "2022-04-18T16:19:36.255796Z",
     "shell.execute_reply": "2022-04-18T16:19:36.254838Z"
    },
    "papermill": {
     "duration": 4.695919,
     "end_time": "2022-04-18T16:19:36.258332",
     "exception": false,
     "start_time": "2022-04-18T16:19:31.562413",
     "status": "completed"
    },
    "tags": []
   },
   "outputs": [],
   "source": [
    "#2 Apply RANDOM FOREST (ensemble ML algo) on data\n",
    "# Import the random forest model.\n",
    "from sklearn.ensemble import RandomForestClassifier\n",
    "\n",
    "# Initialize the model with some parameters.\n",
    "model = RandomForestClassifier(n_estimators=100, min_samples_leaf=10, random_state=1)\n",
    "\n",
    "# Fit the training data into the model.\n",
    "model.fit(X_train, y_train)\n",
    "\n",
    "# Make predictions.\n",
    "predictions = model.predict(X_test)"
   ]
  },
  {
   "cell_type": "code",
   "execution_count": 137,
   "id": "0657b2a8",
   "metadata": {
    "execution": {
     "iopub.execute_input": "2022-04-18T16:19:36.642608Z",
     "iopub.status.busy": "2022-04-18T16:19:36.641675Z",
     "iopub.status.idle": "2022-04-18T16:19:36.653571Z",
     "shell.execute_reply": "2022-04-18T16:19:36.652664Z"
    },
    "papermill": {
     "duration": 0.20599,
     "end_time": "2022-04-18T16:19:36.655967",
     "exception": false,
     "start_time": "2022-04-18T16:19:36.449977",
     "status": "completed"
    },
    "tags": []
   },
   "outputs": [
    {
     "data": {
      "text/plain": [
       "array([[3556, 1283],\n",
       "       [ 696, 2720]])"
      ]
     },
     "execution_count": 137,
     "metadata": {},
     "output_type": "execute_result"
    }
   ],
   "source": [
    "# Confusion matrix.\n",
    "from sklearn.metrics import confusion_matrix,accuracy_score\n",
    "confusion_matrix(predictions, y_test)"
   ]
  },
  {
   "cell_type": "code",
   "execution_count": 138,
   "id": "6e637356",
   "metadata": {
    "execution": {
     "iopub.execute_input": "2022-04-18T16:19:37.041838Z",
     "iopub.status.busy": "2022-04-18T16:19:37.041536Z",
     "iopub.status.idle": "2022-04-18T16:19:37.049344Z",
     "shell.execute_reply": "2022-04-18T16:19:37.048665Z"
    },
    "papermill": {
     "duration": 0.201635,
     "end_time": "2022-04-18T16:19:37.051361",
     "exception": false,
     "start_time": "2022-04-18T16:19:36.849726",
     "status": "completed"
    },
    "tags": []
   },
   "outputs": [
    {
     "data": {
      "text/plain": [
       "0.7602665051483949"
      ]
     },
     "execution_count": 138,
     "metadata": {},
     "output_type": "execute_result"
    }
   ],
   "source": [
    "#accuracy_score.\n",
    "accuracy_score(predictions,y_test)"
   ]
  },
  {
   "cell_type": "code",
   "execution_count": 139,
   "id": "31ad8750",
   "metadata": {
    "execution": {
     "iopub.execute_input": "2022-04-18T16:19:37.434067Z",
     "iopub.status.busy": "2022-04-18T16:19:37.433743Z",
     "iopub.status.idle": "2022-04-18T16:19:37.809846Z",
     "shell.execute_reply": "2022-04-18T16:19:37.808954Z"
    },
    "papermill": {
     "duration": 0.572018,
     "end_time": "2022-04-18T16:19:37.812427",
     "exception": false,
     "start_time": "2022-04-18T16:19:37.240409",
     "status": "completed"
    },
    "tags": []
   },
   "outputs": [],
   "source": [
    "#fit naive bayes\n",
    "from sklearn.naive_bayes import GaussianNB\n",
    "from sklearn.linear_model import LogisticRegression\n",
    "from sklearn.neighbors import KNeighborsClassifier\n",
    "from xgboost import XGBClassifier\n",
    "from sklearn.tree import DecisionTreeClassifier"
   ]
  },
  {
   "cell_type": "code",
   "execution_count": 140,
   "id": "c1da92f7",
   "metadata": {
    "execution": {
     "iopub.execute_input": "2022-04-18T16:19:38.231775Z",
     "iopub.status.busy": "2022-04-18T16:19:38.230829Z",
     "iopub.status.idle": "2022-04-18T16:19:38.237404Z",
     "shell.execute_reply": "2022-04-18T16:19:38.236714Z"
    },
    "papermill": {
     "duration": 0.237372,
     "end_time": "2022-04-18T16:19:38.239466",
     "exception": false,
     "start_time": "2022-04-18T16:19:38.002094",
     "status": "completed"
    },
    "tags": []
   },
   "outputs": [],
   "source": [
    "### classifier models\n",
    "models = []\n",
    "models.append(('LogisticRegression', LogisticRegression()))\n",
    "models.append(('Naive Bayes',GaussianNB()))\n",
    "models.append(('RandomForest', RandomForestClassifier()))\n",
    "models.append(('Decision Tree', DecisionTreeClassifier()))\n",
    "models.append(('KNN', KNeighborsClassifier(n_neighbors = 5)))"
   ]
  },
  {
   "cell_type": "code",
   "execution_count": 141,
   "id": "87b520fc",
   "metadata": {
    "execution": {
     "iopub.execute_input": "2022-04-18T16:19:38.669793Z",
     "iopub.status.busy": "2022-04-18T16:19:38.669534Z",
     "iopub.status.idle": "2022-04-18T16:19:38.683595Z",
     "shell.execute_reply": "2022-04-18T16:19:38.682736Z"
    },
    "papermill": {
     "duration": 0.225444,
     "end_time": "2022-04-18T16:19:38.686115",
     "exception": false,
     "start_time": "2022-04-18T16:19:38.460671",
     "status": "completed"
    },
    "tags": []
   },
   "outputs": [
    {
     "name": "stdout",
     "output_type": "stream",
     "text": [
      "LogisticRegression\n",
      "[('LogisticRegression', LogisticRegression()), ('Naive Bayes', GaussianNB()), ('RandomForest', RandomForestClassifier()), ('Decision Tree', DecisionTreeClassifier()), ('KNN', KNeighborsClassifier())]\n",
      "Naive Bayes\n",
      "[('LogisticRegression', LogisticRegression()), ('Naive Bayes', GaussianNB()), ('RandomForest', RandomForestClassifier()), ('Decision Tree', DecisionTreeClassifier()), ('KNN', KNeighborsClassifier())]\n",
      "RandomForest\n",
      "[('LogisticRegression', LogisticRegression()), ('Naive Bayes', GaussianNB()), ('RandomForest', RandomForestClassifier()), ('Decision Tree', DecisionTreeClassifier()), ('KNN', KNeighborsClassifier())]\n",
      "Decision Tree\n",
      "[('LogisticRegression', LogisticRegression()), ('Naive Bayes', GaussianNB()), ('RandomForest', RandomForestClassifier()), ('Decision Tree', DecisionTreeClassifier()), ('KNN', KNeighborsClassifier())]\n",
      "KNN\n",
      "[('LogisticRegression', LogisticRegression()), ('Naive Bayes', GaussianNB()), ('RandomForest', RandomForestClassifier()), ('Decision Tree', DecisionTreeClassifier()), ('KNN', KNeighborsClassifier())]\n"
     ]
    }
   ],
   "source": [
    "for name,model in models:\n",
    "    print(name)\n",
    "    print(models)"
   ]
  },
  {
   "cell_type": "code",
   "execution_count": 142,
   "id": "cc1a53a6",
   "metadata": {
    "execution": {
     "iopub.execute_input": "2022-04-18T16:19:39.078445Z",
     "iopub.status.busy": "2022-04-18T16:19:39.078144Z",
     "iopub.status.idle": "2022-04-18T16:19:56.452461Z",
     "shell.execute_reply": "2022-04-18T16:19:56.451334Z"
    },
    "papermill": {
     "duration": 17.576392,
     "end_time": "2022-04-18T16:19:56.455719",
     "exception": false,
     "start_time": "2022-04-18T16:19:38.879327",
     "status": "completed"
    },
    "tags": []
   },
   "outputs": [
    {
     "name": "stdout",
     "output_type": "stream",
     "text": [
      "LogisticRegression\n",
      "[[3448 1507]\n",
      " [ 804 2496]]\n",
      "0.7200484554815263\n",
      "\n",
      "\n",
      "Naive Bayes\n",
      "[[3040 1460]\n",
      " [1212 2543]]\n",
      "0.6763173834039976\n",
      "\n",
      "\n",
      "RandomForest\n",
      "[[3511  948]\n",
      " [ 741 3055]]\n",
      "0.7953967292549969\n",
      "\n",
      "\n",
      "Decision Tree\n",
      "[[3639  817]\n",
      " [ 613 3186]]\n",
      "0.8267716535433071\n",
      "\n",
      "\n",
      "KNN\n",
      "[[3623 1006]\n",
      " [ 629 2997]]\n",
      "0.8019382192610539\n",
      "\n",
      "\n"
     ]
    }
   ],
   "source": [
    "# Make predictions on validation dataset\n",
    "\n",
    "for name, model in models:\n",
    "    print(name)\n",
    "    model.fit(X_train, y_train)\n",
    "    \n",
    "    # Make predictions.\n",
    "    predictions = model.predict(X_test)\n",
    "\n",
    "    # Compute the error.\n",
    "    from sklearn.metrics import confusion_matrix\n",
    "    print(confusion_matrix(predictions, y_test))\n",
    "\n",
    "    from sklearn.metrics import accuracy_score\n",
    "    print(accuracy_score(predictions,y_test))\n",
    "    print('\\n')"
   ]
  },
  {
   "cell_type": "code",
   "execution_count": null,
   "id": "1baa6bbb",
   "metadata": {
    "papermill": {
     "duration": 0.193401,
     "end_time": "2022-04-18T16:19:56.845080",
     "exception": false,
     "start_time": "2022-04-18T16:19:56.651679",
     "status": "completed"
    },
    "tags": []
   },
   "outputs": [],
   "source": []
  }
 ],
 "metadata": {
  "kernelspec": {
   "display_name": "Python 3",
   "language": "python",
   "name": "python3"
  },
  "language_info": {
   "codemirror_mode": {
    "name": "ipython",
    "version": 3
   },
   "file_extension": ".py",
   "mimetype": "text/x-python",
   "name": "python",
   "nbconvert_exporter": "python",
   "pygments_lexer": "ipython3",
   "version": "3.7.12"
  },
  "papermill": {
   "default_parameters": {},
   "duration": 157.228511,
   "end_time": "2022-04-18T16:19:58.264322",
   "environment_variables": {},
   "exception": null,
   "input_path": "__notebook__.ipynb",
   "output_path": "__notebook__.ipynb",
   "parameters": {},
   "start_time": "2022-04-18T16:17:21.035811",
   "version": "2.3.4"
  }
 },
 "nbformat": 4,
 "nbformat_minor": 5
}
